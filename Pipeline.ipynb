{
  "nbformat": 4,
  "nbformat_minor": 0,
  "metadata": {
    "colab": {
      "name": "Pipeline.ipynb",
      "provenance": [],
      "collapsed_sections": [
        "0BUjqiFCAoAb",
        "AeK_f_DuyoeN",
        "XMp-qxiyAwLO",
        "bMSyyXEsA1OF",
        "TrW2caLupYqs",
        "Ud477csup2v7",
        "dSYbi6kRmrLM",
        "47T54GxYn5La",
        "MGyT7utqloZq",
        "x9TJkY0pOnUC",
        "7VvUj4Z3tsr_"
      ]
    },
    "kernelspec": {
      "name": "python3",
      "display_name": "Python 3"
    },
    "accelerator": "GPU"
  },
  "cells": [
    {
      "cell_type": "markdown",
      "metadata": {
        "id": "GyKbeDHPxXYh",
        "colab_type": "text"
      },
      "source": [
        "# Team BackProp\n",
        "During exploration of the neural architecture, we used copies of this notebook to be able to easily process data whilst keeping our models intact. \n",
        "\n",
        "1. Import KMNIST Data\n",
        "2. Data preprocess and augmentate\n",
        "3. Develop neural network model\n",
        "4. Cross validate model\n",
        "    - At this stage we decide whether to keep the model for full training or remodify the network again to improve it.\n",
        "5. Hyperparameter Tuning\n",
        "6. Train on full dataset\n",
        "7. Save model and submit"
      ]
    },
    {
      "cell_type": "markdown",
      "metadata": {
        "id": "0BUjqiFCAoAb",
        "colab_type": "text"
      },
      "source": [
        "## Pipeline Setup"
      ]
    },
    {
      "cell_type": "markdown",
      "metadata": {
        "id": "AeK_f_DuyoeN",
        "colab_type": "text"
      },
      "source": [
        "### Imports"
      ]
    },
    {
      "cell_type": "code",
      "metadata": {
        "id": "k_74TEei649L",
        "colab_type": "code",
        "colab": {}
      },
      "source": [
        "!pip install pycm livelossplot\n",
        "%pylab inline"
      ],
      "execution_count": 0,
      "outputs": []
    },
    {
      "cell_type": "code",
      "metadata": {
        "id": "rmRx8ivmoKxj",
        "colab_type": "code",
        "outputId": "24879c3b-fb2e-4cea-b776-38e7175a4d0d",
        "colab": {
          "base_uri": "https://localhost:8080/",
          "height": 33
        }
      },
      "source": [
        "import torch\n",
        "import torch.nn as nn\n",
        "import torch.nn.functional as F\n",
        "from torch.utils.data import TensorDataset, DataLoader\n",
        "from torch.utils.data import Dataset \n",
        "import torchvision.transforms as transforms\n",
        "from torchvision.transforms import Compose, ToTensor, Normalize, RandomRotation,\\\n",
        "                                    ToPILImage, RandomResizedCrop, RandomAffine\n",
        "\n",
        "from livelossplot import PlotLosses\n",
        "\n",
        "import csv\n",
        "import pickle\n",
        "\n",
        "def set_seed(seed):\n",
        "    \"\"\" Use this to set ALL the random seeds to a fixed value and take out any \n",
        "        randomness from cuda kernels\n",
        "    \"\"\"\n",
        "    random.seed(seed)\n",
        "    np.random.seed(seed)\n",
        "    torch.manual_seed(seed)\n",
        "    torch.cuda.manual_seed_all(seed)\n",
        "\n",
        "    #uses inbuilt cudnn auto-tuner to find the fastest convolution algorithms.\n",
        "    torch.backends.cudnn.benchmark = False  \n",
        "    torch.backends.cudnn.enabled   = False\n",
        "\n",
        "    return True\n",
        "\n",
        "device = 'cpu'\n",
        "\n",
        "if torch.cuda.device_count() > 0 and torch.cuda.is_available():\n",
        "    print(\"Cuda installed! Running on GPU!\")\n",
        "    device = 'cuda'\n",
        "else:\n",
        "    print(\"No GPU available!\")\n",
        "\n",
        "from google.colab import drive\n",
        "drive.mount('/content/gdrive/')"
      ],
      "execution_count": 0,
      "outputs": [
        {
          "output_type": "stream",
          "text": [
            "Cuda installed! Running on GPU!\n"
          ],
          "name": "stdout"
        }
      ]
    },
    {
      "cell_type": "markdown",
      "metadata": {
        "id": "XMp-qxiyAwLO",
        "colab_type": "text"
      },
      "source": [
        "### KMNIST Data"
      ]
    },
    {
      "cell_type": "code",
      "metadata": {
        "id": "yUPcM99Nmk_x",
        "colab_type": "code",
        "outputId": "8c1b51b3-c5c2-4a19-9f80-e386cc37e7b0",
        "colab": {
          "base_uri": "https://localhost:8080/",
          "height": 265
        }
      },
      "source": [
        "# Load in the datasets\n",
        "X = np.load(F\"/content/gdrive/My Drive/Colab Notebooks/Mini-Project/acse-module-8-19/kmnist-train-imgs.npy\") /255\n",
        "y = np.load(F\"/content/gdrive/My Drive/Colab Notebooks/Mini-Project/acse-module-8-19/kmnist-train-labels.npy\")\n",
        "Xtest = np.load(F\"/content/gdrive/My Drive/Colab Notebooks/Mini-Project/acse-module-8-19/kmnist-test-imgs.npy\") /255\n",
        "\n",
        "# Load in the classmap as a dictionary\n",
        "classmap = {}\n",
        "with open('/content/gdrive/My Drive/Colab Notebooks/Mini-Project/acse-module-8-19/kmnist_classmap.csv', 'r') as csvfile:\n",
        "   spamreader = csv.reader(csvfile, delimiter=',')\n",
        "   next(spamreader)\n",
        "   for row in spamreader:\n",
        "       classmap[row[0]] = row[2]\n",
        "\n",
        "# Check if we imported correctly\n",
        "plt.imshow(X[0]);"
      ],
      "execution_count": 0,
      "outputs": [
        {
          "output_type": "display_data",
          "data": {
            "image/png": "[encoded data removed]",
            "text/plain": [
              "<Figure size 432x288 with 1 Axes>"
            ]
          },
          "metadata": {
            "tags": []
          }
        }
      ]
    },
    {
      "cell_type": "markdown",
      "metadata": {
        "id": "bMSyyXEsA1OF",
        "colab_type": "text"
      },
      "source": [
        "## Image Preprocessing and Augmentation"
      ]
    },
    {
      "cell_type": "code",
      "metadata": {
        "id": "ZM8JjQRgsWMg",
        "colab_type": "code",
        "colab": {}
      },
      "source": [
        "class CustomImageTensorDataset(Dataset):\n",
        "    def __init__(self, data, targets, transform=None, mean=False, std=False):\n",
        "        \"\"\"\n",
        "        Args:\n",
        "            data (Tensor): A tensor containing the data e.g. images\n",
        "            targets (Tensor): A tensor containing all the labels\n",
        "            transform (callable, optional): Optional transform to be applied\n",
        "                on a sample.\n",
        "        \"\"\"\n",
        "        self.data = data.reshape(-1,1,28,28)\n",
        "        self.targets = targets\n",
        "        self.transform = transform\n",
        "\n",
        "        # Find mean and standard dev\n",
        "        self.mean = mean\n",
        "        self.std = std\n",
        "\n",
        "        self.Rotation = Compose([\n",
        "                                  ToPILImage(),\n",
        "                                   RandomRotation(10),\n",
        "                                   ToTensor(), Normalize(mean=[self.mean], std=[self.std])\n",
        "                                ])\n",
        "\n",
        "        self.RotandCrop = Compose([\n",
        "                                  ToPILImage(),\n",
        "                                   RandomResizedCrop(size=(28,28), scale=(0.8,1)),\n",
        "                                  ToTensor(), Normalize(mean=[self.mean], std=[self.std])\n",
        "                                 ])\n",
        "        \n",
        "        self.Affine = Compose([ToPILImage(),\n",
        "                                   RandomAffine(10, shear=10),\n",
        "                                   ToTensor(), Normalize(mean=[self.mean], std=[self.std])\n",
        "                                ])\n",
        " \n",
        "        \n",
        "        self.Norm = Compose([Normalize(mean=[self.mean], std=[self.std])\n",
        "                                 ])\n",
        "        \n",
        "    def __len__(self):\n",
        "        return len(self.data)\n",
        "\n",
        "    def __getitem__(self, idx):\n",
        "        sample, label = self.data[idx], self.targets[idx]\n",
        "        \n",
        "        assert (self.mean != False), \"Asign a mean\"\n",
        "        assert (self.mean != False), \"Asign a std\"\n",
        "        \n",
        "        if self.transform:\n",
        "            x = random.random()\n",
        "            if 0<= x<0.2: # rotate\n",
        "              sample = self.Rotation(sample)\n",
        "            if 0.2<= x<0.4: # resize crop\n",
        "              sample = self.RotandCrop(sample)\n",
        "            if 0.4<= x<0.7: # shear crop\n",
        "              sample= self.Affine(sample)\n",
        "              \n",
        "            else: # none\n",
        "              sample = self.Norm(sample)\n",
        "        else:\n",
        "           sample = self.Norm(sample)\n",
        "            \n",
        "        return sample, label"
      ],
      "execution_count": 0,
      "outputs": []
    },
    {
      "cell_type": "code",
      "metadata": {
        "id": "qBQNzrYJ7PEM",
        "colab_type": "code",
        "outputId": "ea1f0b54-e34c-4772-a444-a9187e0c86ce",
        "colab": {
          "base_uri": "https://localhost:8080/",
          "height": 620
        }
      },
      "source": [
        "# Verify if image augmentation works:\n",
        "X_train, y_train = X.astype(float), y\n",
        "X_train, y_train = torch.from_numpy(X_train).float(), torch.from_numpy(y_train)\n",
        "mean1, std1 = torch.mean(X_train), torch.std(X_train)\n",
        "dset = CustomImageTensorDataset(X_train, y_train, transform=True, mean=mean1, std=std1 )\n",
        "\n",
        "# Make a dataloader to access the PIL images of a batch size of 25\n",
        "loader = DataLoader(dset, batch_size=25, shuffle=True)\n",
        "\n",
        "# Create an iter object to cycle through dataloader\n",
        "train_iter = iter(loader)\n",
        "imgs, labels = train_iter.next()\n",
        "\n",
        "print(imgs.shape)\n",
        "print('max:',imgs.max())\n",
        "\n",
        "# plot our batch of images with labels\n",
        "fig, axarr = plt.subplots(5,5,figsize=(8,8))\n",
        "fig.tight_layout()\n",
        "for img, label, axs in zip(imgs, labels, axarr.flatten()):\n",
        "    axs.set_title(str(label.numpy()) + \"   \" + str(label.numpy()))\n",
        "    axs.imshow(img.numpy()[0])"
      ],
      "execution_count": 0,
      "outputs": [
        {
          "output_type": "stream",
          "text": [
            "torch.Size([25, 1, 28, 28])\n",
            "max: tensor(6.1103)\n"
          ],
          "name": "stdout"
        },
        {
          "output_type": "display_data",
          "data": {
            "image/png": "[encoded data removed]",
            "text/plain": [
              "<Figure size 576x576 with 25 Axes>"
            ]
          },
          "metadata": {
            "tags": []
          }
        }
      ]
    },
    {
      "cell_type": "markdown",
      "metadata": {
        "id": "TrW2caLupYqs",
        "colab_type": "text"
      },
      "source": [
        "## Model Development\n"
      ]
    },
    {
      "cell_type": "markdown",
      "metadata": {
        "id": "Ud477csup2v7",
        "colab_type": "text"
      },
      "source": [
        "\n",
        "### Architecture Analysis Models\n"
      ]
    },
    {
      "cell_type": "code",
      "metadata": {
        "id": "N-7Xk3rwp11R",
        "colab_type": "code",
        "colab": {}
      },
      "source": [
        "class AlexNet_Exp1(nn.Module):\n",
        "  \"\"\"Based on the AlexNet paper with the same number of layers and parameters \n",
        "      are rescaled down by 8x to fit with the original alexnet image size to \n",
        "      our kmnist size ratio (227:28)\n",
        "  \"\"\"\n",
        "  \n",
        "  def __init__(self):\n",
        "    super(AlexNet_Exp1, self).__init__()\n",
        "    self.conv_1 = nn.Conv2d(1, 6, kernel_size=11, stride=1, padding=3, bias=True)\n",
        "    self.pool_2 = nn.MaxPool2d(kernel_size=2)\n",
        "    self.conv_3 = nn.Conv2d(6, 16, kernel_size=5, stride=1, padding=2, bias=True)\n",
        "    self.pool_4 = nn.MaxPool2d(kernel_size=2)\n",
        "    self.conv_5 = nn.Conv2d(16, 24, kernel_size=5, stride=1, padding=2, bias=True)\n",
        "    self.conv_6 = nn.Conv2d(24, 24, kernel_size=3, stride=1, padding=2, bias=True)\n",
        "    self.conv_7 = nn.Conv2d(24, 16, kernel_size=3, stride=1, padding=2, bias=True)\n",
        "    self.pool_8 = nn.MaxPool2d(kernel_size=2)\n",
        "    self.linear_9 = nn.Linear(400, 256, bias=True)\n",
        "    self.output = nn.Linear(256, 10, bias=True)\n",
        "    #self.dout = nn.Dropout(p=0.25) #dropout added to prevent overfitting :0\n",
        "    self.act = nn.ReLU()\n",
        "    \n",
        "  def forward(self, x):\n",
        "    x = self.act(self.conv_1(x))\n",
        "    x = self.pool_2(x)\n",
        "    x = self.act(self.conv_3(x))\n",
        "    x = self.pool_4(x)\n",
        "    x = self.act(self.conv_5(x))\n",
        "    x = self.act(self.conv_6(x))\n",
        "    x = self.act(self.conv_7(x))\n",
        "    x = self.pool_8(x)\n",
        "    x = x.view(-1, x.size(1) * x.size(2) * x.size(3))\n",
        "    x = self.act(self.linear_9(x))\n",
        "    x = self.output(x) # Don't activate this output layer, we apply a softmax transformation in our training functions!\n",
        "    return x"
      ],
      "execution_count": 0,
      "outputs": []
    },
    {
      "cell_type": "code",
      "metadata": {
        "id": "zToYy7v-sgrH",
        "colab_type": "code",
        "colab": {}
      },
      "source": [
        "class AlexNet_Exp3(nn.Module):\n",
        "  \"\"\"Based on the AlexNet paper with the same number of layers and parameters \n",
        "      are rescaled down by 4x to better fit to the labels compared to 8x scaling\n",
        "  \"\"\"\n",
        "  \n",
        "  def __init__(self):\n",
        "    super(AlexNet_Exp3, self).__init__()\n",
        "    self.conv_1 = nn.Conv2d(1, 12, kernel_size=11, stride=1, padding=3, bias=True)\n",
        "    self.pool_2 = nn.MaxPool2d(kernel_size=2)\n",
        "    self.conv_3 = nn.Conv2d(12, 32, kernel_size=5, stride=1, padding=2, bias=True)\n",
        "    self.pool_4 = nn.MaxPool2d(kernel_size=2)\n",
        "    self.conv_5 = nn.Conv2d(32, 48, kernel_size=5, stride=1, padding=2, bias=True)\n",
        "    self.conv_6 = nn.Conv2d(48, 48, kernel_size=3, stride=1, padding=2, bias=True)\n",
        "    self.conv_7 = nn.Conv2d(48, 32, kernel_size=3, stride=1, padding=2, bias=True)\n",
        "    self.pool_8 = nn.MaxPool2d(kernel_size=2)\n",
        "    self.linear_9 = nn.Linear(800, 512, bias=True)\n",
        "    self.output = nn.Linear(512, 10, bias=True)\n",
        "    #self.dout = nn.Dropout(p=0.25) #dropout added to prevent overfitting :0\n",
        "    self.act = nn.ReLU()\n",
        "    \n",
        "  def forward(self, x):\n",
        "    x = self.act(self.conv_1(x))\n",
        "    x = self.pool_2(x)\n",
        "    x = self.act(self.conv_3(x))\n",
        "    x = self.pool_4(x)\n",
        "    x = self.act(self.conv_5(x))\n",
        "    x = self.act(self.conv_6(x))\n",
        "    x = self.act(self.conv_7(x))\n",
        "    x = self.pool_8(x)\n",
        "    x = x.view(-1, x.size(1) * x.size(2) * x.size(3))\n",
        "    x = self.act(self.linear_9(x))\n",
        "    x = self.output(x) # Don't activate this output layer, we apply a softmax transformation in our training functions!\n",
        "    return x"
      ],
      "execution_count": 0,
      "outputs": []
    },
    {
      "cell_type": "code",
      "metadata": {
        "id": "eG80gvW7U9sH",
        "colab_type": "code",
        "colab": {}
      },
      "source": [
        "class AlexNet_Exp4(nn.Module):\n",
        "  \"\"\"Based on the AlexNet paper with the same number of channels and layers \n",
        "      are rescaled down by 8x to fit with the original alexnet image size to \n",
        "      our kmnist size ratio (227:28)\n",
        "      \n",
        "      We have now provided a \"reasonable\" guess of the filters and paddings \n",
        "      \n",
        "  \"\"\"\n",
        "  \n",
        "  def __init__(self):\n",
        "    super(AlexNet_Exp4, self).__init__()\n",
        "    self.conv_1 = nn.Conv2d(1, 6, kernel_size=11, stride=1, padding=3, bias=True)\n",
        "    self.pool_2 = nn.MaxPool2d(kernel_size=2)\n",
        "    self.conv_3 = nn.Conv2d(6, 16, kernel_size=5, stride=1, padding=2, bias=True)\n",
        "    self.pool_4 = nn.MaxPool2d(kernel_size=2)\n",
        "    self.conv_5 = nn.Conv2d(16, 24, kernel_size=5, stride=1, padding=2, bias=True)\n",
        "    self.conv_6 = nn.Conv2d(24, 24, kernel_size=3, stride=1, padding=1, bias=True)\n",
        "    self.conv_7 = nn.Conv2d(24, 16, kernel_size=3, stride=1, padding=1, bias=True)\n",
        "    self.pool_8 = nn.MaxPool2d(kernel_size=2)\n",
        "    self.linear_9 = nn.Linear(144, 128, bias=True)\n",
        "    self.output = nn.Linear(128, 10, bias=True)\n",
        "    #self.dout = nn.Dropout(p=0.25) #dropout added to prevent overfitting :0\n",
        "    self.act = nn.ReLU()\n",
        "    \n",
        "  def forward(self, x):\n",
        "    x = self.act(self.conv_1(x))\n",
        "    x = self.pool_2(x)\n",
        "    x = self.act(self.conv_3(x))\n",
        "    x = self.pool_4(x)\n",
        "    x = self.act(self.conv_5(x))\n",
        "    x = self.act(self.conv_6(x))\n",
        "    x = self.act(self.conv_7(x))\n",
        "    x = self.pool_8(x)\n",
        "    x = x.view(-1, x.size(1) * x.size(2) * x.size(3))\n",
        "    x = self.act(self.linear_9(x))\n",
        "    x = self.output(x) # Don't activate this output layer, we apply a softmax transformation in our training functions!\n",
        "    return x"
      ],
      "execution_count": 0,
      "outputs": []
    },
    {
      "cell_type": "code",
      "metadata": {
        "id": "G9B3jjq2scot",
        "colab_type": "code",
        "colab": {}
      },
      "source": [
        "class AlexNet_Exp5(nn.Module):\n",
        "  \"\"\"Based on the AlexNet paper with the same number of layers and parameters \n",
        "      are rescaled down by 8x but with an addional convolutional layer \n",
        "  \"\"\"\n",
        "  \n",
        "  def __init__(self):\n",
        "    super(AlexNet_Exp5, self).__init__()\n",
        "    self.conv_1 = nn.Conv2d(1, 6, kernel_size=13, stride=1, padding=6, bias=True)\n",
        "    self.pool_2 = nn.MaxPool2d(kernel_size=2)\n",
        "    self.conv_3 = nn.Conv2d(6, 16, kernel_size=7, stride=1, padding=3, bias=True)\n",
        "    self.pool_4 = nn.MaxPool2d(kernel_size=2)\n",
        "    self.conv_5 = nn.Conv2d(16, 24, kernel_size=5, stride=1, padding=2, bias=True)\n",
        "    \n",
        "    # additional layer\n",
        "    self.conv_6 = nn.Conv2d(24, 24, kernel_size=5, stride=1, padding=2, bias=True)\n",
        "    \n",
        "    self.conv_7 = nn.Conv2d(24, 24, kernel_size=4, stride=1, padding=1, bias=True)\n",
        "    self.conv_8 = nn.Conv2d(24, 16, kernel_size=3, stride=1, padding=1, bias=True)\n",
        "    self.pool_9 = nn.MaxPool2d(kernel_size=2)\n",
        "    self.linear_10 = nn.Linear(144, 100, bias=True)\n",
        "    self.output = nn.Linear(100, 10, bias=True)\n",
        "    \n",
        "    #self.dout = nn.Dropout(p=0.25) #dropout added to prevent overfitting :0\n",
        "    self.act = nn.ReLU()\n",
        "    \n",
        "    \n",
        "  def forward(self, x):\n",
        "    x = self.act(self.conv_1(x))\n",
        "    x = self.pool_2(x)\n",
        "    x = self.act(self.conv_3(x))\n",
        "    x = self.pool_4(x)\n",
        "    x = self.act(self.conv_5(x))\n",
        "    \n",
        "    x = self.act(self.conv_6(x))\n",
        "    \n",
        "    x = self.act(self.conv_7(x))\n",
        "    x = self.act(self.conv_8(x))\n",
        "    x = self.pool_9(x)\n",
        "    x = x.view(-1, x.size(1) * x.size(2) * x.size(3))\n",
        "    x = self.act(self.linear_10(x))\n",
        "    x = self.output(x) # Don't activate this output layer, we apply a softmax transformation in our training functions!\n",
        "    return x"
      ],
      "execution_count": 0,
      "outputs": []
    },
    {
      "cell_type": "code",
      "metadata": {
        "id": "SQ_3_vYFFgM4",
        "colab_type": "code",
        "colab": {}
      },
      "source": [
        "class AlexNet_Exp6(nn.Module):\n",
        "  \"\"\" Based on the AlexNet paper with the same number of channels and layers \n",
        "      are rescaled down by 4x to fit with the original alexnet image size to \n",
        "      our kmnist size ratio (227:28)\n",
        "      \n",
        "      We have now provided a \"reasonable\" guess of the filters and paddings \n",
        "      \n",
        "  \"\"\"\n",
        "  \n",
        "  def __init__(self):\n",
        "    super(AlexNet_Exp6, self).__init__()\n",
        "    self.conv_1 = nn.Conv2d(1, 12, kernel_size=11, stride=1, padding=3, bias=True)\n",
        "    self.pool_2 = nn.MaxPool2d(kernel_size=2)\n",
        "    self.conv_3 = nn.Conv2d(12, 32, kernel_size=5, stride=1, padding=2, bias=True)\n",
        "    self.pool_4 = nn.MaxPool2d(kernel_size=2)\n",
        "    self.conv_5 = nn.Conv2d(32, 48, kernel_size=5, stride=1, padding=2, bias=True)\n",
        "    self.conv_6 = nn.Conv2d(48, 48, kernel_size=3, stride=1, padding=1, bias=True)\n",
        "    self.conv_7 = nn.Conv2d(48, 32, kernel_size=3, stride=1, padding=1, bias=True)\n",
        "    self.pool_8 = nn.MaxPool2d(kernel_size=2)\n",
        "    self.linear_9 = nn.Linear(288, 200, bias=True)\n",
        "    self.output = nn.Linear(200, 10, bias=True)\n",
        "    #self.dout = nn.Dropout(p=0.25) #dropout added to prevent overfitting :0\n",
        "    self.act = nn.ReLU()\n",
        "    \n",
        "  def forward(self, x):\n",
        "    x = self.act(self.conv_1(x))\n",
        "    x = self.pool_2(x)\n",
        "    x = self.act(self.conv_3(x))\n",
        "    x = self.pool_4(x)\n",
        "    x = self.act(self.conv_5(x))\n",
        "    x = self.act(self.conv_6(x))\n",
        "    x = self.act(self.conv_7(x))\n",
        "    x = self.pool_8(x)\n",
        "    x = x.view(-1, x.size(1) * x.size(2) * x.size(3))\n",
        "    x = self.act(self.linear_9(x))\n",
        "    x = self.output(x) # Don't activate this output layer, we apply a softmax transformation in our training functions!\n",
        "    return x"
      ],
      "execution_count": 0,
      "outputs": []
    },
    {
      "cell_type": "code",
      "metadata": {
        "id": "SD0WhU72wmri",
        "colab_type": "code",
        "colab": {}
      },
      "source": [
        "class AlexNet_Exp7(nn.Module):\n",
        "  \"\"\"Based on the AlexNet paper with the same number of channels and layers \n",
        "      are rescaled down by 8x to fit with the original alexnet image size to \n",
        "      our kmnist size ratio (227:28)\n",
        "      \n",
        "      +1 classification layer\n",
        "      \n",
        "      We provided a \"reasonable\" guess of the filters\n",
        "      \n",
        "  \"\"\"\n",
        "  \n",
        "  def __init__(self):\n",
        "    super(AlexNet_Exp7, self).__init__()\n",
        "    self.conv_1 = nn.Conv2d(1, 6, kernel_size=11, stride=1, padding=3, bias=True)\n",
        "    self.pool_2 = nn.MaxPool2d(kernel_size=2)\n",
        "    self.conv_3 = nn.Conv2d(6, 16, kernel_size=5, stride=1, padding=2, bias=True)\n",
        "    self.pool_4 = nn.MaxPool2d(kernel_size=2)\n",
        "    self.conv_5 = nn.Conv2d(16, 24, kernel_size=5, stride=1, padding=2, bias=True)\n",
        "    self.conv_6 = nn.Conv2d(24, 24, kernel_size=3, stride=1, padding=1, bias=True)\n",
        "    self.conv_7 = nn.Conv2d(24, 16, kernel_size=3, stride=1, padding=1, bias=True)\n",
        "    self.pool_8 = nn.MaxPool2d(kernel_size=2)\n",
        "    self.linear_9 = nn.Linear(144, 100, bias=True)\n",
        "    self.linear_10 = nn.Linear(100, 70, bias=True)\n",
        "    self.output = nn.Linear(70, 10, bias=True)\n",
        "    #self.dout = nn.Dropout(p=0.25) #dropout added to prevent overfitting :0\n",
        "    self.act = nn.ReLU()\n",
        "    \n",
        "  def forward(self, x):\n",
        "    x = self.act(self.conv_1(x))\n",
        "    x = self.pool_2(x)\n",
        "    x = self.act(self.conv_3(x))\n",
        "    x = self.pool_4(x)\n",
        "    x = self.act(self.conv_5(x))\n",
        "    x = self.act(self.conv_6(x))\n",
        "    x = self.act(self.conv_7(x))\n",
        "    x = self.pool_8(x)\n",
        "    x = x.view(-1, x.size(1) * x.size(2) * x.size(3))\n",
        "    x = self.act(self.linear_9(x))\n",
        "    x = self.act(self.linear_10(x))\n",
        "    x = self.output(x) # Don't activate this output layer, we apply a softmax transformation in our training functions!\n",
        "    return x"
      ],
      "execution_count": 0,
      "outputs": []
    },
    {
      "cell_type": "code",
      "metadata": {
        "id": "yg1NAO0w07E7",
        "colab_type": "code",
        "colab": {}
      },
      "source": [
        "class AlexNet_Exp8(nn.Module):\n",
        "  \"\"\"Based on the AlexNet paper: Modified the each part of the network\n",
        "      +1 Conv layer\n",
        "      +4 Classification layers\n",
        "      +x4 parameters\n",
        "      We have used a \"reasonable\" guess of the filters \n",
        "      \n",
        "  \"\"\"\n",
        "  \n",
        "  def __init__(self):\n",
        "    super(AlexNet_Exp8, self).__init__()\n",
        "    # Convolutional Layers\n",
        "    self.conv_1 = nn.Conv2d(1, 12, kernel_size=13, stride=1, padding=6, bias=True)\n",
        "    self.pool_2 = nn.MaxPool2d(kernel_size=2)\n",
        "    self.conv_3 = nn.Conv2d(12, 32, kernel_size=7, stride=1, padding=3, bias=True)\n",
        "    self.pool_4 = nn.MaxPool2d(kernel_size=2)\n",
        "    self.conv_5 = nn.Conv2d(32, 48, kernel_size=5, stride=1, padding=2, bias=True)\n",
        "    self.conv_6 = nn.Conv2d(48, 48, kernel_size=5, stride=1, padding=2, bias=True)    \n",
        "    self.conv_7 = nn.Conv2d(48, 48, kernel_size=4, stride=1, padding=1, bias=True)\n",
        "    self.conv_8 = nn.Conv2d(48, 32, kernel_size=3, stride=1, padding=1, bias=True)\n",
        "    self.pool_9 = nn.MaxPool2d(kernel_size=2)\n",
        "    \n",
        "    # Classification Layers\n",
        "    self.linear_10 = nn.Linear(288, 200, bias=True)\n",
        "    self.linear_11 = nn.Linear(200, 130, bias=True)\n",
        "    self.linear_12 = nn.Linear(130, 90, bias=True)\n",
        "    self.linear_13 = nn.Linear(90, 60, bias=True)\n",
        "    self.linear_14 = nn.Linear(60, 30, bias=True)\n",
        "    self.output = nn.Linear(30, 10, bias=True)\n",
        "    \n",
        "    #self.dout = nn.Dropout(p=0.25) #dropout added to prevent overfitting :0\n",
        "    self.act = nn.ReLU()\n",
        "    \n",
        "    \n",
        "  def forward(self, x):\n",
        "    x = self.act(self.conv_1(x))\n",
        "    x = self.pool_2(x)\n",
        "    x = self.act(self.conv_3(x))\n",
        "    x = self.pool_4(x)\n",
        "    x = self.act(self.conv_5(x))\n",
        "    x = self.act(self.conv_6(x))\n",
        "    x = self.act(self.conv_7(x))\n",
        "    x = self.act(self.conv_8(x))\n",
        "    x = self.pool_9(x)\n",
        "    x = x.view(-1, x.size(1) * x.size(2) * x.size(3))\n",
        "    x = self.act(self.linear_10(x))\n",
        "    x = self.act(self.linear_11(x))\n",
        "    x = self.act(self.linear_12(x))\n",
        "    x = self.act(self.linear_13(x))\n",
        "    x = self.act(self.linear_14(x))\n",
        "    x = self.output(x) # Don't activate this output layer, we apply a softmax transformation in our training functions!\n",
        "    return x"
      ],
      "execution_count": 0,
      "outputs": []
    },
    {
      "cell_type": "code",
      "metadata": {
        "id": "pTkKwEBHA3TO",
        "colab_type": "code",
        "colab": {}
      },
      "source": [
        "class AlexNet_Exp12(nn.Module):\n",
        "  \"\"\"Based on the AlexNet paper: Modified the each part of the network\n",
        "      +1 Conv layer\n",
        "      +5 Classification layers\n",
        "      +x2 parameters - only halved the original params!\n",
        "      We have used a \"reasonable\" guess of the filters \n",
        "      Added batch norm\n",
        "      Added drop out\n",
        "      \n",
        "  \"\"\"\n",
        "  \n",
        "  def __init__(self):\n",
        "    super(AlexNet_Exp12, self).__init__()\n",
        "    # Convolutional Layers\n",
        "    self.conv_1 = nn.Conv2d(1, 24, kernel_size=13, stride=1, padding=6, bias=True)\n",
        "    self.pool_2 = nn.MaxPool2d(kernel_size=2)\n",
        "    self.conv_3 = nn.Conv2d(24, 64, kernel_size=7, stride=1, padding=3, bias=True)\n",
        "    self.pool_4 = nn.MaxPool2d(kernel_size=2)\n",
        "    self.conv_5 = nn.Conv2d(64, 96, kernel_size=5, stride=1, padding=2, bias=True)\n",
        "    self.conv_6 = nn.Conv2d(96, 96, kernel_size=5, stride=1, padding=2, bias=True)    \n",
        "    self.conv_7 = nn.Conv2d(96, 96, kernel_size=4, stride=1, padding=1, bias=True)\n",
        "    self.conv_8 = nn.Conv2d(96, 64, kernel_size=3, stride=1, padding=1, bias=True)\n",
        "    self.pool_9 = nn.MaxPool2d(kernel_size=2)\n",
        "    \n",
        "    # Classification Layers\n",
        "    self.linear_10 = nn.Linear(576, 384, bias=True)\n",
        "    self.linear_11 = nn.Linear(384, 192, bias=True)\n",
        "    self.linear_12 = nn.Linear(192, 128, bias=True)\n",
        "    self.linear_13 = nn.Linear(128, 85, bias=True)\n",
        "    self.linear_14 = nn.Linear(85, 42, bias=True)\n",
        "    self.linear_15 = nn.Linear(42, 21, bias=True)\n",
        "    self.output = nn.Linear(21, 10, bias=True)\n",
        "    \n",
        "    # Batch Normalization\n",
        "    self.b1 = nn.BatchNorm2d(24)\n",
        "    self.b3 = nn.BatchNorm2d(64)\n",
        "    self.b5 = nn.BatchNorm2d(96)\n",
        "    self.b6 = nn.BatchNorm2d(96)\n",
        "    self.b7 = nn.BatchNorm2d(96)\n",
        "    self.b8 = nn.BatchNorm2d(64)\n",
        "    \n",
        "    self.dout = nn.Dropout(p=0.25) #dropout added to prevent overfitting :0\n",
        "    self.act = nn.ReLU()\n",
        "    \n",
        "    \n",
        "  def forward(self, x):\n",
        "    x = self.act(self.b1(self.conv_1(x)))\n",
        "    x = self.pool_2(x)\n",
        "    x = self.act(self.b3(self.conv_3(x)))\n",
        "    x = self.pool_4(x)\n",
        "    x = self.act(self.b5(self.conv_5(x)))\n",
        "    x = self.act(self.b6(self.conv_6(x)))\n",
        "    x = self.act(self.b7(self.conv_7(x)))\n",
        "    x = self.act(self.b8(self.conv_8(x)))\n",
        "    x = self.pool_9(x)\n",
        "    x = x.view(-1, x.size(1) * x.size(2) * x.size(3))\n",
        "    x = self.act(self.dout(self.linear_10(x)))\n",
        "    x = self.act(self.dout(self.linear_11(x)))\n",
        "    x = self.act(self.dout(self.linear_12(x)))\n",
        "    x = self.act(self.dout(self.linear_13(x)))\n",
        "    x = self.act(self.dout(self.linear_14(x)))\n",
        "    x = self.act(self.dout(self.linear_15(x)))\n",
        "    x = self.output(x) # Don't activate this output layer, we apply a softmax transformation in our training functions!\n",
        "    return x"
      ],
      "execution_count": 0,
      "outputs": []
    },
    {
      "cell_type": "code",
      "metadata": {
        "id": "kWwKvQJlGBgw",
        "colab_type": "code",
        "colab": {}
      },
      "source": [
        "class AlexNet_Exp24(nn.Module):\n",
        "  \"\"\"Based on the AlexNet paper: Modified the each part of the network\n",
        "      +1 Conv layer\n",
        "      +5 Classification layers\n",
        "      +x2 parameters - only halved the original params!\n",
        "      We have used a \"reasonable\" guess of the filters \n",
        "      Added batch norm\n",
        "      Added drop out\n",
        "      \n",
        "  \"\"\"\n",
        "  \n",
        "  def __init__(self):\n",
        "    super(AlexNet_Exp24, self).__init__()\n",
        "    # Convolutional Layers\n",
        "    self.conv_1 = nn.Conv2d(1, 16, kernel_size=13, stride=1, padding=6, bias=True)\n",
        "    self.pool_2 = nn.MaxPool2d(kernel_size=2)\n",
        "    self.conv_3 = nn.Conv2d(16, 42, kernel_size=7, stride=1, padding=3, bias=True)\n",
        "    self.pool_4 = nn.MaxPool2d(kernel_size=2)\n",
        "    self.conv_5 = nn.Conv2d(42, 64, kernel_size=5, stride=1, padding=2, bias=True)\n",
        "    self.conv_6 = nn.Conv2d(64, 64, kernel_size=5, stride=1, padding=2, bias=True)    \n",
        "    self.conv_7 = nn.Conv2d(64, 64, kernel_size=4, stride=1, padding=1, bias=True)\n",
        "    self.conv_8 = nn.Conv2d(64, 42, kernel_size=3, stride=1, padding=1, bias=True)\n",
        "    self.pool_9 = nn.MaxPool2d(kernel_size=2)\n",
        "    \n",
        "    # Classification Layers\n",
        "    self.linear_10 = nn.Linear(378, 252, bias=True)\n",
        "    self.linear_11 = nn.Linear(252, 126, bias=True)\n",
        "    self.linear_12 = nn.Linear(126, 84, bias=True)\n",
        "    self.linear_13 = nn.Linear(84, 42, bias=True)\n",
        "    self.linear_14 = nn.Linear(42, 21, bias=True)\n",
        "    self.output = nn.Linear(21, 10, bias=True)\n",
        "    \n",
        "    # Batch Normalization\n",
        "    self.b1 = nn.BatchNorm2d(16)\n",
        "    self.b3 = nn.BatchNorm2d(42)\n",
        "    self.b5 = nn.BatchNorm2d(64)\n",
        "    self.b6 = nn.BatchNorm2d(64)\n",
        "    self.b7 = nn.BatchNorm2d(64)\n",
        "    self.b8 = nn.BatchNorm2d(42)\n",
        "    \n",
        "    self.dout = nn.Dropout(p=0.5) #dropout added to prevent overfitting :0\n",
        "    self.act = nn.ReLU()\n",
        "    \n",
        "    \n",
        "  def forward(self, x):\n",
        "    x = self.act(self.b1(self.conv_1(x)))\n",
        "    x = self.pool_2(x)\n",
        "    x = self.act(self.b3(self.conv_3(x)))\n",
        "    x = self.pool_4(x)\n",
        "    x = self.act(self.b5(self.conv_5(x)))\n",
        "    x = self.act(self.b6(self.conv_6(x)))\n",
        "    x = self.act(self.b7(self.conv_7(x)))\n",
        "    x = self.act(self.b8(self.conv_8(x)))\n",
        "    x = self.pool_9(x)\n",
        "    x = x.view(-1, x.size(1) * x.size(2) * x.size(3))\n",
        "    x = self.act(self.dout(self.linear_10(x)))\n",
        "    x = self.act(self.dout(self.linear_11(x)))\n",
        "    x = self.act(self.dout(self.linear_12(x)))\n",
        "    x = self.act(self.dout(self.linear_13(x)))\n",
        "    x = self.act(self.dout(self.linear_14(x)))\n",
        "    x = self.output(x) # Don't activate this output layer, we apply a softmax transformation in our training functions!\n",
        "    return x"
      ],
      "execution_count": 0,
      "outputs": []
    },
    {
      "cell_type": "markdown",
      "metadata": {
        "id": "iNb6SrStmUjk",
        "colab_type": "text"
      },
      "source": [
        "### Final Model"
      ]
    },
    {
      "cell_type": "code",
      "metadata": {
        "id": "ZaqVRx4AmSLn",
        "colab_type": "code",
        "colab": {}
      },
      "source": [
        "class SimpleAlexNet_FINAL(nn.Module):\n",
        "  def __init__(self):\n",
        "    super(SimpleAlexNet_FINAL, self).__init__()\n",
        "    self.conv_1 = nn.Conv2d(1, 36, kernel_size=3, padding=1)\n",
        "    self.pool_2 = nn.MaxPool2d(kernel_size=2, stride=2)\n",
        "    self.conv_3 = nn.Conv2d(36, 72, kernel_size=3)\n",
        "    self.pool_4 = nn.MaxPool2d(kernel_size=2, stride=2)\n",
        "    self.conv_5 = nn.Conv2d(72, 142, kernel_size=3, padding=1)\n",
        "    self.conv_6 = nn.Conv2d(142, 284, kernel_size=3, padding=1)\n",
        "    self.conv_7 = nn.Conv2d(284, 124, kernel_size=3, padding=1)\n",
        "    self.pool_8 = nn.MaxPool2d(kernel_size=2, stride=2)\n",
        "    self.linear_9 = nn.Linear(1116, 400)\n",
        "    self.linear_10 = nn.Linear(400, 400)\n",
        "    self.linear_11 = nn.Linear(400, 10)\n",
        "    self.dout = nn.Dropout(p=0.7) #dropout added to prevent overfitting :0\n",
        "    self.act = nn.ReLU()\n",
        "    self.b1 = nn.BatchNorm2d(36)\n",
        "    self.b2 = nn.BatchNorm2d(72)\n",
        "    self.b3 = nn.BatchNorm2d(142)\n",
        "    self.b4 = nn.BatchNorm2d(284)\n",
        "    self.b5 = nn.BatchNorm2d(124)\n",
        "    \n",
        "  def forward(self, x):\n",
        "    x = self.act(self.b1(self.conv_1(x)))\n",
        "    x = self.pool_2(x)\n",
        "    x = self.act(self.b2(self.conv_3(x)))\n",
        "    x = self.pool_4(x)\n",
        "    x = self.act(self.b3(self.conv_5(x)))\n",
        "    x = self.act(self.b4(self.conv_6(x)))\n",
        "    x = self.act(self.b5(self.conv_7(x)))\n",
        "#     x = self.act(self.conv_7(x)) # Added new layer\n",
        "    x = self.pool_8(x)\n",
        "    x = x.view(-1, x.size(1) * x.size(2) * x.size(3))\n",
        "    x = self.act(self.dout(self.linear_9(x)))\n",
        "    x = self.act(self.dout(self.linear_10(x)))\n",
        "   # x = self.dout(x)\n",
        "    x = self.act(self.linear_11(x))\n",
        "    \n",
        "    return x"
      ],
      "execution_count": 0,
      "outputs": []
    },
    {
      "cell_type": "markdown",
      "metadata": {
        "id": "dSYbi6kRmrLM",
        "colab_type": "text"
      },
      "source": [
        "## Cross Validation Analysis\n",
        "\n",
        "We run holdout cross validation as it is sufficient given the amount of data we have."
      ]
    },
    {
      "cell_type": "code",
      "metadata": {
        "id": "nmiv3rw6nryD",
        "colab_type": "code",
        "outputId": "2ef56a3e-8658-4ac7-89de-3f04769e5454",
        "colab": {
          "base_uri": "https://localhost:8080/",
          "height": 442
        }
      },
      "source": [
        "from kmnist_helpers.model_selection import holdoutCV, holdout_loaders\n",
        "\n",
        "# training parameters:\n",
        "batch = 64\n",
        "testbatch = 1000\n",
        "epochs = 3\n",
        "\n",
        "model = SimpleAlexNet_FINAL().to(device)\n",
        "\n",
        "train_loader, val_loader = holdout_loaders(X, y, CustomImageTensorDataset, \n",
        "                                           batch, testbatch)\n",
        "lloss, val_loss, val_acc = holdoutCV(epochs, 0.0, 1e-4, model,\n",
        "                                     train_loader, val_loader)"
      ],
      "execution_count": 0,
      "outputs": [
        {
          "output_type": "display_data",
          "data": {
            "image/png": "[encoded data removed]",
            "text/plain": [
              "<Figure size 864x576 with 2 Axes>"
            ]
          },
          "metadata": {
            "tags": []
          }
        },
        {
          "output_type": "stream",
          "text": [
            "log loss:\n",
            "training   (min:    0.130, max:    0.959, cur:    0.130)\n",
            "validation (min:    0.062, max:    0.144, cur:    0.062)\n",
            "\n",
            "accuracy:\n",
            "training   (min:    0.685, max:    0.964, cur:    0.964)\n",
            "validation (min:    0.957, max:    0.983, cur:    0.983)\n"
          ],
          "name": "stdout"
        }
      ]
    },
    {
      "cell_type": "markdown",
      "metadata": {
        "id": "47T54GxYn5La",
        "colab_type": "text"
      },
      "source": [
        "### Save Cross Validation Logs"
      ]
    },
    {
      "cell_type": "code",
      "metadata": {
        "id": "WtIg0iXCnzIR",
        "colab_type": "code",
        "colab": {}
      },
      "source": [
        "SimpleAlexNet_FINAL_logs = lloss.logs\n",
        "f = open(F\"/content/gdrive/My Drive/Colab Notebooks/Mini-Project/Model/SimpleAlexNet_FINAL_logs.pkl\",\"wb\")\n",
        "pickle.dump(SimpleAlexNet_FINAL_logs,f)\n",
        "f.close()"
      ],
      "execution_count": 0,
      "outputs": []
    },
    {
      "cell_type": "markdown",
      "metadata": {
        "id": "MGyT7utqloZq",
        "colab_type": "text"
      },
      "source": [
        "## Random-Grid Searching for Hyperparameters\n",
        "\n",
        "We perform a random-grid search to find optimal hyperparameters."
      ]
    },
    {
      "cell_type": "code",
      "metadata": {
        "id": "fsTQxpjjSGuu",
        "colab_type": "code",
        "outputId": "ca1d4378-a4d5-4378-a500-04f3aaf84154",
        "colab": {
          "base_uri": "https://localhost:8080/",
          "height": 442
        }
      },
      "source": [
        "from kmnist_helpers.tuning import RandomSearch, GridSearch\n",
        "\n",
        "train_loader, val_loader = holdout_loaders(X, y, CustomImageTensorDataset, \n",
        "                                           batch, testbatch)\n",
        "\n",
        "model = SimpleAlexNet_FINAL().to(device)\n",
        "\n",
        "max_acc, rand_params = RandomSearch(5, model, 5,\n",
        "                                    train_loader, val_loader)\n",
        "\n",
        "best_comb, lloss, loss, acc = GridSearch(5, model, rand_params,\n",
        "                                            train_loader, val_loader,\n",
        "                                            pseudo=True)"
      ],
      "execution_count": 0,
      "outputs": [
        {
          "output_type": "display_data",
          "data": {
            "image/png": "[encoded data removed]",
            "text/plain": [
              "<Figure size 864x576 with 2 Axes>"
            ]
          },
          "metadata": {
            "tags": []
          }
        },
        {
          "output_type": "stream",
          "text": [
            "log loss:\n",
            "training   (min:    0.008, max:    0.013, cur:    0.013)\n",
            "validation (min:    0.037, max:    0.046, cur:    0.038)\n",
            "\n",
            "accuracy:\n",
            "training   (min:    0.997, max:    0.998, cur:    0.997)\n",
            "validation (min:    0.989, max:    0.991, cur:    0.989)\n"
          ],
          "name": "stdout"
        }
      ]
    },
    {
      "cell_type": "markdown",
      "metadata": {
        "id": "VCvH4HlUe6hm",
        "colab_type": "text"
      },
      "source": [
        "## Final Full Training\n",
        "\n",
        "We train the model onto the full training set and use the given test dataset for Kaggle."
      ]
    },
    {
      "cell_type": "code",
      "metadata": {
        "id": "fUf9wyjQdR-4",
        "colab_type": "code",
        "colab": {}
      },
      "source": [
        "# =============================Load Data======================================\n",
        "\n",
        "X_train, y_train = torch.from_numpy(X).float(), torch.from_numpy(y) # Dummy Test Labels for y_test\n",
        "X_test, y_test = torch.from_numpy(Xtest).float(), torch.from_numpy(np.array(range(X_test.shape[0]))).float() \n",
        "\n",
        "mean, std = torch.mean(X_train), torch.std(X_train)\n",
        "\n",
        "train_ds = CustomImageTensorDataset(X_train, y_train.long(), transform=True, mean=mean, std=std)\n",
        "test_ds = CustomImageTensorDataset(X_test, y_test.long(), transform=False, mean=mean, std=std)\n",
        "\n",
        "batchsize = 100\n",
        "testbatch = 1000\n",
        "train_loader = DataLoader(train_ds, batch_size=batchsize, shuffle=True, num_workers=4)\n",
        "test_loader = DataLoader(test_ds, batch_size=testbatch, shuffle=False, num_workers=0)\n",
        "\n",
        "# =============================Train Model======================================\n",
        "\n",
        "epochs = 30\n",
        "model = SimpleAlexNet_FINAL().to(device)\n",
        "set_seed(42)\n",
        "optimizer = torch.optim.Adam(model.parameters(), lr=1e-4, betas=(0.9, 0.999),\n",
        "                             eps=1e-08, weight_decay=0.0, amsgrad=False)\n",
        "criterion = nn.CrossEntropyLoss()\n",
        "liveloss = PlotLosses()\n",
        "for epoch in range(epochs):\n",
        "    logs = {}\n",
        "    train_loss, train_accuracy = train(model, optimizer, criterion, train_loader)\n",
        "\n",
        "    logs['' + 'log loss'] = train_loss.item()\n",
        "    logs['' + 'accuracy'] = train_accuracy.item()\n",
        "\n",
        "    logs['val_' + 'log loss'] = 0.\n",
        "    logs['val_' + 'accuracy'] = 0.\n",
        "    \n",
        "    liveloss.update(logs)\n",
        "    liveloss.draw()\n",
        "\n",
        "# ===================Train T-SNE and Logistic Regression========================\n",
        "\n",
        "idx = np.where((y_train==2) | (y_train==6))\n",
        "ytrainsim = y[idx]\n",
        "Xtrainsim = X[idx]\n",
        "\n",
        "tsne = TSNE(n_components=2, perplexity=3)\n",
        "xtrain2d = np.reshape(Xtrainsim, (Xtrainsim.shape[0], -1))\n",
        "xtrain2d = tsne.fit_transform(xtrain2d)\n",
        "\n",
        "clf = LogisticRegression(random_state=seed, solver='lbfgs',\n",
        "                         multi_class='multinomial').fit(xtrain2d, ytrainsim)\n",
        "\n",
        "# ===========================T-SNE Recorrection=================================\n",
        "\n",
        "y_predictions, _ = evaluate(model, test_loader)\n",
        "idx = np.where((y_predictions==2) | (y_predictions==6))\n",
        "\n",
        "ysim = y_predictions[idx]\n",
        "Xsim = X_test[idx]\n",
        "\n",
        "Xsim2d = np.reshape(Xsim, (Xsim.shape[0], -1))\n",
        "Xsim2d = tsne.transform(Xsim2d)\n",
        "\n",
        "y_predictions[idx] = clf.predict(Xsim2d)\n",
        "\n",
        "# ===========================Predict Model======================================\n",
        "\n",
        "y_predictions, _ = evaluate(model, test_loader)\n",
        "submit = np.vstack((np.array(_), np.array(y_predictions)))\n",
        "submit = submit.transpose()"
      ],
      "execution_count": 0,
      "outputs": []
    },
    {
      "cell_type": "markdown",
      "metadata": {
        "id": "x9TJkY0pOnUC",
        "colab_type": "text"
      },
      "source": [
        "### Ensemble modelling"
      ]
    },
    {
      "cell_type": "code",
      "metadata": {
        "id": "Ik27VgbvOqNT",
        "colab_type": "code",
        "colab": {}
      },
      "source": [
        "from kmnist_helpers.ensemble import ensemble_validate, ensemble_score\n",
        "\n",
        "model_list = [] # to be filled with pre-trained models on the cpu\n",
        "\n",
        "train_loader_full = DataLoader(train_ds, batch_size=1000, shuffle=False, num_workers=0)\n",
        "test_loader_full = DataLoader(test_ds, batch_size=1000, shuffle=False, num_workers=0)\n",
        "\n",
        "ensemble_score = ensemble_validate(model_list, criterion=nn.CrossEntropyLoss(), data_loader=test_loader_full)\n",
        "    \n",
        "print('Score for the predictions of the ensembled models:', ensemble_score)"
      ],
      "execution_count": 0,
      "outputs": []
    },
    {
      "cell_type": "markdown",
      "metadata": {
        "id": "7VvUj4Z3tsr_",
        "colab_type": "text"
      },
      "source": [
        "### Save Submissions"
      ]
    },
    {
      "cell_type": "code",
      "metadata": {
        "id": "l_HFz2lv3vZQ",
        "colab_type": "code",
        "colab": {}
      },
      "source": [
        "# Save the model\n",
        "model_save_name = \".pt\"\n",
        "path = F\"/content/gdrive/My Drive/Colab Notebooks/Mini-Project/Model/{model_save_name}\" \n",
        "torch.save(model.state_dict(), path)\n",
        "\n",
        "# Save the submission\n",
        "output_save_name = \".txt\"\n",
        "path_out = F\"/content/gdrive/My Drive/Colab Notebooks/Mini-Project/{output_save_name}\"\n",
        "np.savetxt(path_out, submit, delimiter=\",\", fmt='%d', header=\"Id,Category\", comments='')"
      ],
      "execution_count": 0,
      "outputs": []
    }
  ]
}