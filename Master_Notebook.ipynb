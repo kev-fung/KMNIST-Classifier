{
  "nbformat": 4,
  "nbformat_minor": 0,
  "metadata": {
    "colab": {
      "name": "Master_Notebook",
      "version": "0.3.2",
      "provenance": [],
      "collapsed_sections": []
    },
    "kernelspec": {
      "name": "python3",
      "display_name": "Python 3"
    },
    "accelerator": "GPU"
  },
  "cells": [
    {
      "cell_type": "code",
      "metadata": {
        "id": "NPZJdQrwmPYZ",
        "colab_type": "code",
        "outputId": "36b0d7a6-7def-4824-8a4d-c248b3e248a9",
        "colab": {
          "base_uri": "https://localhost:8080/",
          "height": 855
        }
      },
      "source": [
        "!pip install pycm livelossplot\n",
        "%pylab inline"
      ],
      "execution_count": 37,
      "outputs": [
        {
          "output_type": "stream",
          "text": [
            "Requirement already satisfied: pycm in /usr/local/lib/python3.6/dist-packages (2.1)\n",
            "Requirement already satisfied: livelossplot in /usr/local/lib/python3.6/dist-packages (0.4.0)\n",
            "Requirement already satisfied: art>=1.8 in /usr/local/lib/python3.6/dist-packages (from pycm) (3.6)\n",
            "Requirement already satisfied: numpy>=1.9.0 in /usr/local/lib/python3.6/dist-packages (from pycm) (1.16.3)\n",
            "Requirement already satisfied: matplotlib in /usr/local/lib/python3.6/dist-packages (from livelossplot) (3.0.3)\n",
            "Requirement already satisfied: notebook in /usr/local/lib/python3.6/dist-packages (from livelossplot) (5.2.2)\n",
            "Requirement already satisfied: coverage>=4.1 in /usr/local/lib/python3.6/dist-packages (from art>=1.8->pycm) (4.5.3)\n",
            "Requirement already satisfied: python-dateutil>=2.1 in /usr/local/lib/python3.6/dist-packages (from matplotlib->livelossplot) (2.5.3)\n",
            "Requirement already satisfied: cycler>=0.10 in /usr/local/lib/python3.6/dist-packages (from matplotlib->livelossplot) (0.10.0)\n",
            "Requirement already satisfied: kiwisolver>=1.0.1 in /usr/local/lib/python3.6/dist-packages (from matplotlib->livelossplot) (1.1.0)\n",
            "Requirement already satisfied: pyparsing!=2.0.4,!=2.1.2,!=2.1.6,>=2.0.1 in /usr/local/lib/python3.6/dist-packages (from matplotlib->livelossplot) (2.4.0)\n",
            "Requirement already satisfied: nbformat in /usr/local/lib/python3.6/dist-packages (from notebook->livelossplot) (4.4.0)\n",
            "Requirement already satisfied: jupyter-client in /usr/local/lib/python3.6/dist-packages (from notebook->livelossplot) (5.2.4)\n",
            "Requirement already satisfied: jupyter-core in /usr/local/lib/python3.6/dist-packages (from notebook->livelossplot) (4.4.0)\n",
            "Requirement already satisfied: traitlets>=4.2.1 in /usr/local/lib/python3.6/dist-packages (from notebook->livelossplot) (4.3.2)\n",
            "Requirement already satisfied: terminado>=0.3.3; sys_platform != \"win32\" in /usr/local/lib/python3.6/dist-packages (from notebook->livelossplot) (0.8.2)\n",
            "Requirement already satisfied: tornado>=4 in /usr/local/lib/python3.6/dist-packages (from notebook->livelossplot) (4.5.3)\n",
            "Requirement already satisfied: ipython-genutils in /usr/local/lib/python3.6/dist-packages (from notebook->livelossplot) (0.2.0)\n",
            "Requirement already satisfied: ipykernel in /usr/local/lib/python3.6/dist-packages (from notebook->livelossplot) (4.6.1)\n",
            "Requirement already satisfied: nbconvert in /usr/local/lib/python3.6/dist-packages (from notebook->livelossplot) (5.5.0)\n",
            "Requirement already satisfied: jinja2 in /usr/local/lib/python3.6/dist-packages (from notebook->livelossplot) (2.10.1)\n",
            "Requirement already satisfied: six>=1.5 in /usr/local/lib/python3.6/dist-packages (from python-dateutil>=2.1->matplotlib->livelossplot) (1.12.0)\n",
            "Requirement already satisfied: setuptools in /usr/local/lib/python3.6/dist-packages (from kiwisolver>=1.0.1->matplotlib->livelossplot) (41.0.1)\n",
            "Requirement already satisfied: jsonschema!=2.5.0,>=2.4 in /usr/local/lib/python3.6/dist-packages (from nbformat->notebook->livelossplot) (2.6.0)\n",
            "Requirement already satisfied: pyzmq>=13 in /usr/local/lib/python3.6/dist-packages (from jupyter-client->notebook->livelossplot) (17.0.0)\n",
            "Requirement already satisfied: decorator in /usr/local/lib/python3.6/dist-packages (from traitlets>=4.2.1->notebook->livelossplot) (4.4.0)\n",
            "Requirement already satisfied: ptyprocess; os_name != \"nt\" in /usr/local/lib/python3.6/dist-packages (from terminado>=0.3.3; sys_platform != \"win32\"->notebook->livelossplot) (0.6.0)\n",
            "Requirement already satisfied: ipython>=4.0.0 in /usr/local/lib/python3.6/dist-packages (from ipykernel->notebook->livelossplot) (5.5.0)\n",
            "Requirement already satisfied: mistune>=0.8.1 in /usr/local/lib/python3.6/dist-packages (from nbconvert->notebook->livelossplot) (0.8.4)\n",
            "Requirement already satisfied: pandocfilters>=1.4.1 in /usr/local/lib/python3.6/dist-packages (from nbconvert->notebook->livelossplot) (1.4.2)\n",
            "Requirement already satisfied: pygments in /usr/local/lib/python3.6/dist-packages (from nbconvert->notebook->livelossplot) (2.1.3)\n",
            "Requirement already satisfied: testpath in /usr/local/lib/python3.6/dist-packages (from nbconvert->notebook->livelossplot) (0.4.2)\n",
            "Requirement already satisfied: entrypoints>=0.2.2 in /usr/local/lib/python3.6/dist-packages (from nbconvert->notebook->livelossplot) (0.3)\n",
            "Requirement already satisfied: defusedxml in /usr/local/lib/python3.6/dist-packages (from nbconvert->notebook->livelossplot) (0.6.0)\n",
            "Requirement already satisfied: bleach in /usr/local/lib/python3.6/dist-packages (from nbconvert->notebook->livelossplot) (3.1.0)\n",
            "Requirement already satisfied: MarkupSafe>=0.23 in /usr/local/lib/python3.6/dist-packages (from jinja2->notebook->livelossplot) (1.1.1)\n",
            "Requirement already satisfied: pexpect; sys_platform != \"win32\" in /usr/local/lib/python3.6/dist-packages (from ipython>=4.0.0->ipykernel->notebook->livelossplot) (4.7.0)\n",
            "Requirement already satisfied: prompt-toolkit<2.0.0,>=1.0.4 in /usr/local/lib/python3.6/dist-packages (from ipython>=4.0.0->ipykernel->notebook->livelossplot) (1.0.16)\n",
            "Requirement already satisfied: simplegeneric>0.8 in /usr/local/lib/python3.6/dist-packages (from ipython>=4.0.0->ipykernel->notebook->livelossplot) (0.8.1)\n",
            "Requirement already satisfied: pickleshare in /usr/local/lib/python3.6/dist-packages (from ipython>=4.0.0->ipykernel->notebook->livelossplot) (0.7.5)\n",
            "Requirement already satisfied: webencodings in /usr/local/lib/python3.6/dist-packages (from bleach->nbconvert->notebook->livelossplot) (0.5.1)\n",
            "Requirement already satisfied: wcwidth in /usr/local/lib/python3.6/dist-packages (from prompt-toolkit<2.0.0,>=1.0.4->ipython>=4.0.0->ipykernel->notebook->livelossplot) (0.1.7)\n",
            "Populating the interactive namespace from numpy and matplotlib\n"
          ],
          "name": "stdout"
        },
        {
          "output_type": "stream",
          "text": [
            "/usr/local/lib/python3.6/dist-packages/IPython/core/magics/pylab.py:161: UserWarning: pylab import has clobbered these variables: ['Normalize']\n",
            "`%matplotlib` prevents importing * from pylab and numpy\n",
            "  \"\\n`%matplotlib` prevents importing * from pylab and numpy\"\n"
          ],
          "name": "stderr"
        }
      ]
    },
    {
      "cell_type": "markdown",
      "metadata": {
        "id": "0BUjqiFCAoAb",
        "colab_type": "text"
      },
      "source": [
        "# Importing Necessary Modules"
      ]
    },
    {
      "cell_type": "code",
      "metadata": {
        "id": "rmRx8ivmoKxj",
        "colab_type": "code",
        "outputId": "f65e37d1-71d3-4d36-a148-92bbe3922ec1",
        "colab": {
          "base_uri": "https://localhost:8080/",
          "height": 35
        }
      },
      "source": [
        "from sklearn.metrics import accuracy_score\n",
        "from sklearn.model_selection import StratifiedShuffleSplit\n",
        "\n",
        "from livelossplot import PlotLosses\n",
        "from pycm import *\n",
        "\n",
        "import torch\n",
        "import torch.nn as nn\n",
        "import torch.nn.functional as F\n",
        "import csv\n",
        "from torch.utils.data import TensorDataset, DataLoader\n",
        "import torchvision.transforms as transforms\n",
        "from torchvision.datasets import CIFAR10\n",
        "from torch.utils.data import Dataset \n",
        "from torchvision.transforms import Compose, ToTensor, Normalize, RandomRotation, ToPILImage\n",
        "\n",
        "\n",
        "def set_seed(seed):\n",
        "    \"\"\"\n",
        "    Use this to set ALL the random seeds to a fixed value and take out any randomness from cuda kernels\n",
        "    \"\"\"\n",
        "    random.seed(seed)\n",
        "    np.random.seed(seed)\n",
        "    torch.manual_seed(seed)\n",
        "    torch.cuda.manual_seed_all(seed)\n",
        "\n",
        "    torch.backends.cudnn.benchmark = False  ##uses the inbuilt cudnn auto-tuner to find the fastest convolution algorithms. -\n",
        "    torch.backends.cudnn.enabled   = False\n",
        "\n",
        "    return True\n",
        "\n",
        "device = 'cpu'\n",
        "if torch.cuda.device_count() > 0 and torch.cuda.is_available():\n",
        "    print(\"Cuda installed! Running on GPU!\")\n",
        "    device = 'cuda'\n",
        "else:\n",
        "    print(\"No GPU available!\")"
      ],
      "execution_count": 38,
      "outputs": [
        {
          "output_type": "stream",
          "text": [
            "Cuda installed! Running on GPU!\n"
          ],
          "name": "stdout"
        }
      ]
    },
    {
      "cell_type": "code",
      "metadata": {
        "id": "1AwfMUJGoM8C",
        "colab_type": "code",
        "outputId": "b3b0e562-807e-4908-a462-7a26cb0637d4",
        "colab": {
          "base_uri": "https://localhost:8080/",
          "height": 35
        }
      },
      "source": [
        "from google.colab import drive\n",
        "drive.mount('/content/gdrive/')"
      ],
      "execution_count": 39,
      "outputs": [
        {
          "output_type": "stream",
          "text": [
            "Drive already mounted at /content/gdrive/; to attempt to forcibly remount, call drive.mount(\"/content/gdrive/\", force_remount=True).\n"
          ],
          "name": "stdout"
        }
      ]
    },
    {
      "cell_type": "markdown",
      "metadata": {
        "id": "XMp-qxiyAwLO",
        "colab_type": "text"
      },
      "source": [
        "# Import in Data"
      ]
    },
    {
      "cell_type": "code",
      "metadata": {
        "id": "yUPcM99Nmk_x",
        "colab_type": "code",
        "colab": {}
      },
      "source": [
        "X_train_orig = np.load(F\"/content/gdrive/My Drive/Colab Notebooks/Mini-Project/acse-module-8-19/kmnist-train-imgs.npy\")\n",
        "y_train_orig = np.load(F\"/content/gdrive/My Drive/Colab Notebooks/Mini-Project/acse-module-8-19/kmnist-train-labels.npy\")\n",
        "X_test_orig = np.load(F\"/content/gdrive/My Drive/Colab Notebooks/Mini-Project/acse-module-8-19/kmnist-test-imgs.npy\")"
      ],
      "execution_count": 0,
      "outputs": []
    },
    {
      "cell_type": "code",
      "metadata": {
        "id": "t3r09aK-nZUH",
        "colab_type": "code",
        "colab": {}
      },
      "source": [
        "classmap = {}\n",
        "with open('/content/gdrive/My Drive/Colab Notebooks/Mini-Project/acse-module-8-19/kmnist_classmap.csv', 'r') as csvfile:\n",
        "   spamreader = csv.reader(csvfile, delimiter=',')\n",
        "   next(spamreader)\n",
        "   for row in spamreader:\n",
        "       classmap[row[0]] = row[2]"
      ],
      "execution_count": 0,
      "outputs": []
    },
    {
      "cell_type": "code",
      "metadata": {
        "id": "SZ_PzPsjp5wN",
        "colab_type": "code",
        "outputId": "9d6c6afe-8ebc-4e2f-d3c6-d3c49f0fdccf",
        "colab": {
          "base_uri": "https://localhost:8080/",
          "height": 287
        }
      },
      "source": [
        "# Image Checking:\n",
        "plt.imshow(X_train_orig[101])"
      ],
      "execution_count": 42,
      "outputs": [
        {
          "output_type": "execute_result",
          "data": {
            "text/plain": [
              "<matplotlib.image.AxesImage at 0x7f74d09d2f98>"
            ]
          },
          "metadata": {
            "tags": []
          },
          "execution_count": 42
        },
        {
          "output_type": "display_data",
          "data": {
            "image/png": "[encoded data removed]",
            "text/plain": [
              "<Figure size 432x288 with 1 Axes>"
            ]
          },
          "metadata": {
            "tags": []
          }
        }
      ]
    },
    {
      "cell_type": "markdown",
      "metadata": {
        "id": "bMSyyXEsA1OF",
        "colab_type": "text"
      },
      "source": [
        "# Image Augmentation"
      ]
    },
    {
      "cell_type": "code",
      "metadata": {
        "id": "ZM8JjQRgsWMg",
        "colab_type": "code",
        "colab": {}
      },
      "source": [
        "class CustomImageTensorDataset(Dataset):\n",
        "    def __init__(self, data, targets, transform=None):\n",
        "        \"\"\"\n",
        "        Args:\n",
        "            data (Tensor): A tensor containing the data e.g. images\n",
        "            targets (Tensor): A tensor containing all the labels\n",
        "            transform (callable, optional): Optional transform to be applied\n",
        "                on a sample.\n",
        "        \"\"\"\n",
        "        self.data = data\n",
        "        self.targets = targets\n",
        "        self.transform = transform\n",
        "\n",
        "    def __len__(self):\n",
        "        return len(self.data)\n",
        "\n",
        "    def __getitem__(self, idx):\n",
        "        sample, label = self.data[idx], self.targets[idx]\n",
        "        sample = sample.view(1, 28, 28).float()/255.\n",
        "        if self.transform:\n",
        "            sample = self.transform(sample)\n",
        "\n",
        "        return sample, label"
      ],
      "execution_count": 0,
      "outputs": []
    },
    {
      "cell_type": "code",
      "metadata": {
        "id": "ngUdVuZYyZqc",
        "colab_type": "code",
        "colab": {}
      },
      "source": [
        "shuffler = StratifiedShuffleSplit(n_splits=1, test_size=0.1, random_state=42).split(X_train_orig, y_train_orig)\n",
        "indices = [(t, v) for t, v in shuffler][0]\n",
        "\n",
        "mean = np.mean(X_train_orig)\n",
        "std = np.std(X_train_orig)\n",
        "X_train, y_train = X_train_orig[indices[0]], y_train_orig[indices[0]]\n",
        "X_val, y_val = X_train_orig[indices[1]], y_train_orig[indices[1]]\n",
        "\n",
        "X_train, y_train = torch.from_numpy(X_train), torch.from_numpy(y_train)\n",
        "X_val, y_val = torch.from_numpy(X_val), torch.from_numpy(y_val)\n",
        "\n",
        "Rotation = Compose([\n",
        "    # Transformation object - Rotate and normalise data\n",
        "    ToPILImage(),\n",
        "    RandomRotation(10),\n",
        "    ToTensor(),\n",
        "    Normalize(mean=[mean], std=[std]),\n",
        "])\n",
        "\n",
        "Normalise = Compose([\n",
        "    # Transformation object - only normalises data\n",
        "    Normalize(mean=[mean], std=[std])\n",
        "])\n",
        "\n",
        "Gaussian = Compose([\n",
        "    # Transformation object - Apply gaussian and normalise\n",
        "    \n",
        "    Normalize(mean=[mean], std=[std])\n",
        "])\n",
        "\n",
        "Rotation_train = CustomImageTensorDataset(X_train, y_train.long(), Rotation)\n",
        "Original_train = CustomImageTensorDataset(X_train, y_train.long(), Normalise)\n",
        "Original_val = CustomImageTensorDataset(X_val, y_val.long(), Normalise)\n"
      ],
      "execution_count": 0,
      "outputs": []
    },
    {
      "cell_type": "code",
      "metadata": {
        "id": "f6aIcPqPZVjO",
        "colab_type": "code",
        "outputId": "84be9194-315b-4ba3-e341-f1c8aaca2d6e",
        "colab": {
          "base_uri": "https://localhost:8080/",
          "height": 640
        }
      },
      "source": [
        "# Make a dataloader to access the PIL images of a batch size of 25:\n",
        "loader = DataLoader(Rotation_train, batch_size=25, shuffle=True)\n",
        "# Create an iter object to cycle through dataloader\n",
        "train_iter = iter(loader)\n",
        "imgs, labels = train_iter.next()\n",
        "\n",
        "print(imgs.shape)\n",
        "print(labels)\n",
        "\n",
        "# plot our batch of images with label names:\n",
        "fig, axarr = plt.subplots(5,5,figsize=(8,8))\n",
        "fig.tight_layout()\n",
        "for img, label, axs in zip(imgs, labels, axarr.flatten()):\n",
        "   axs.set_title(classmap[str(label.numpy())] + \"   \" + str(label.numpy()))\n",
        "   axs.imshow(img.numpy()[0])"
      ],
      "execution_count": 45,
      "outputs": [
        {
          "output_type": "stream",
          "text": [
            "torch.Size([25, 1, 28, 28])\n",
            "tensor([9, 2, 9, 2, 4, 4, 4, 8, 7, 0, 2, 8, 3, 9, 5, 7, 1, 4, 2, 9, 5, 5, 3, 0,\n",
            "        1])\n"
          ],
          "name": "stdout"
        },
        {
          "output_type": "display_data",
          "data": {
            "image/png": "[encoded data removed]",
            "text/plain": [
              "<Figure size 576x576 with 25 Axes>"
            ]
          },
          "metadata": {
            "tags": []
          }
        }
      ]
    },
    {
      "cell_type": "markdown",
      "metadata": {
        "id": "TrW2caLupYqs",
        "colab_type": "text"
      },
      "source": [
        "# Modelling:\n",
        "\n",
        "## Original LeNet5:"
      ]
    },
    {
      "cell_type": "code",
      "metadata": {
        "id": "VwesiY2gZx28",
        "colab_type": "code",
        "colab": {}
      },
      "source": [
        "class LeNet5(nn.Module):\n",
        "  def __init__(self):\n",
        "    super(LeNet5, self).__init__()\n",
        "    # ***** dont forget *****\n",
        "    # remove padding since we are using img size of 32 not 28\n",
        "    self.conv_1 = nn.Conv2d(1, 6, kernel_size=(5,5), stride=(1,1), padding=(2,2))\n",
        "    self.pool_2 = nn.MaxPool2d(kernel_size=(2,2), stride=(2,2))\n",
        "    self.conv_3 = nn.Conv2d(6, 16, kernel_size=(5,5), stride=(1,1))\n",
        "    self.pool_4 = nn.MaxPool2d(kernel_size=(2,2), stride=(2,2))\n",
        "    self.linear_5 = nn.Linear(16*5*5, 120)\n",
        "    self.linear_6 = nn.Linear(120, 84)\n",
        "    self.linear_7 = nn.Linear(84, 10) # gaussian connection\n",
        "    self.act = nn.ReLU()\n",
        "    \n",
        "  def forward(self, x):\n",
        "    debug = False\n",
        "    \n",
        "    x = self.act(self.conv_1(x))\n",
        "    if(debug): print(\"x1 conv:\", x.size())\n",
        "    x = self.act(self.pool_2(x))\n",
        "    if(debug): print(\"x2 pool:\", x.size())\n",
        "    x = self.act(self.conv_3(x))\n",
        "    if(debug): print(\"x3 conv:\", x.size())\n",
        "    x = self.act(self.pool_4(x))\n",
        "    if(debug): print(\"x4 pool:\", x.size())\n",
        "    x = x.view(-1, x.size(1) * x.size(2) * x.size(3))\n",
        "    if(debug): print(\"flatten x4:\", x.size())\n",
        "    x = self.act(self.linear_5(x))\n",
        "    if(debug): print(\"x5 linear:\", x.size())\n",
        "    x = self.act(self.linear_6(x))\n",
        "    if(debug): print(\"x6 linear:\", x.size())\n",
        "    x = self.linear_7(x)\n",
        "    \n",
        "    return x"
      ],
      "execution_count": 0,
      "outputs": []
    },
    {
      "cell_type": "markdown",
      "metadata": {
        "id": "IiuDh2gXBB9V",
        "colab_type": "text"
      },
      "source": [
        "## Yusuf LeNet5"
      ]
    },
    {
      "cell_type": "code",
      "metadata": {
        "id": "zDFaLNLdAd8A",
        "colab_type": "code",
        "colab": {}
      },
      "source": [
        "class LeNet5_Yusuf(nn.Module):\n",
        "  def __init__(self):\n",
        "    super(LeNet5_Yusuf, self).__init__()\n",
        "    self.conv_1 = nn.Conv2d(1, 6, kernel_size=(5,5), stride=(1,1), padding=(2,2))\n",
        "    self.pool_2 = nn.MaxPool2d(kernel_size=(2,2), stride=(2,2))\n",
        "    self.conv_3 = nn.Conv2d(6, 16, kernel_size=(5,5), stride=(1,1))\n",
        "    self.pool_4 = nn.MaxPool2d(kernel_size=(2,2), stride=(2,2))\n",
        "    self.linear_5 = nn.Linear(16*5*5, 120)\n",
        "    self.linear_6 = nn.Linear(120, 84)\n",
        "    self.linear_7 = nn.Linear(84, 10)\n",
        "    self.act = nn.ReLU()\n",
        "    self.dout = nn.Dropout(p=0.2) #dropout added\n",
        "    \n",
        "  def forward(self, x):\n",
        "    x = self.act(self.conv_1(x))\n",
        "    x = self.act(self.pool_2(x))\n",
        "    x = self.act(self.conv_3(x))\n",
        "    x = self.act(self.pool_4(x))\n",
        "    x = x.view(-1, x.size(1) * x.size(2) * x.size(3))\n",
        "    x = self.act(self.linear_5(x))\n",
        "    x = self.dout(x)\n",
        "    x = self.act(self.linear_6(x))\n",
        "    x = self.dout(x) # dropout layer added\n",
        "    x = self.linear_7(x)\n",
        "    \n",
        "    return x"
      ],
      "execution_count": 0,
      "outputs": []
    },
    {
      "cell_type": "markdown",
      "metadata": {
        "id": "7bqIsUKhBF4U",
        "colab_type": "text"
      },
      "source": [
        "## Train, Validate and Evaluate Functions"
      ]
    },
    {
      "cell_type": "code",
      "metadata": {
        "id": "jQIVu5JspBtA",
        "colab_type": "code",
        "colab": {}
      },
      "source": [
        "def train(model, optimizer, criterion, data_loader):\n",
        "    model.train()\n",
        "    train_loss, train_accuracy = 0, 0\n",
        "    for X, y in data_loader:\n",
        "        X, y = X.to(device), y.to(device)\n",
        "        optimizer.zero_grad()\n",
        "        \n",
        "        # the dimension here was changed to match our KMNIST's dimension\n",
        "        a2 = model(X.view(-1, 1, 28, 28).float()) \n",
        "        \n",
        "        loss = criterion(a2, y)\n",
        "        loss.backward()\n",
        "        train_loss += loss*X.size(0)\n",
        "        y_pred = F.log_softmax(a2, dim=1).max(1)[1]\n",
        "        train_accuracy += accuracy_score(y.cpu().numpy(), y_pred.detach().cpu().numpy())*X.size(0)\n",
        "        optimizer.step()  \n",
        "        \n",
        "    return train_loss/len(data_loader.dataset), train_accuracy/len(data_loader.dataset)\n",
        "  \n",
        "def validate(model, criterion, data_loader):\n",
        "    model.eval()\n",
        "    validation_loss, validation_accuracy = 0., 0.\n",
        "    for X, y in data_loader:\n",
        "        with torch.no_grad():\n",
        "            X, y = X.to(device), y.to(device)\n",
        "            \n",
        "            # the dimension here was changed to match our KMNIST's dimension\n",
        "            a2 = model(X.view(-1, 1, 28, 28).float())\n",
        "            \n",
        "            loss = criterion(a2, y)\n",
        "            validation_loss += loss*X.size(0)\n",
        "            y_pred = F.log_softmax(a2, dim=1).max(1)[1]\n",
        "            validation_accuracy += accuracy_score(y.cpu().numpy(), y_pred.cpu().numpy())*X.size(0)\n",
        "            \n",
        "    return validation_loss/len(data_loader.dataset), validation_accuracy/len(data_loader.dataset)\n",
        "  \n",
        "def evaluate(model, data_loader):\n",
        "    model.eval()\n",
        "    ys, y_preds = [], []\n",
        "    for X, y in data_loader:\n",
        "        with torch.no_grad():\n",
        "            X, y = X.to(device), y.to(device)\n",
        "            \n",
        "            # the dimension here was changed to match our KMNIST's dimension\n",
        "            a2 = model(X.view(-1, 1, 28, 28).float())\n",
        "            \n",
        "            y_pred = F.log_softmax(a2, dim=1).max(1)[1]\n",
        "            ys.append(y.cpu().numpy())\n",
        "            y_preds.append(y_pred.cpu().numpy())\n",
        "            \n",
        "    return np.concatenate(y_preds, 0),  np.concatenate(ys, 0)"
      ],
      "execution_count": 0,
      "outputs": []
    },
    {
      "cell_type": "markdown",
      "metadata": {
        "id": "OkpvFVCABLV3",
        "colab_type": "text"
      },
      "source": [
        "# Training Models"
      ]
    },
    {
      "cell_type": "code",
      "metadata": {
        "id": "RnSOtktBpIn0",
        "colab_type": "code",
        "colab": {}
      },
      "source": [
        "seed = 42\n",
        "lr = 1e-2\n",
        "momentum = 0.5\n",
        "batch_size = 64\n",
        "test_batch_size = 1000\n",
        "n_epochs = 30\n",
        "\n",
        "weight_decay = [1e-3, 1e-4, 1e-5, 0.0]"
      ],
      "execution_count": 0,
      "outputs": []
    },
    {
      "cell_type": "code",
      "metadata": {
        "id": "IDvh2XxppKrC",
        "colab_type": "code",
        "colab": {}
      },
      "source": [
        "def train_model(weight_decay, model, train_loader, validate_loader):\n",
        "  set_seed(seed)\n",
        "  model = model.to(device)\n",
        "  optimizer = torch.optim.SGD(model.parameters(), lr=lr, weight_decay=weight_decay, momentum=momentum)\n",
        "  criterion = nn.CrossEntropyLoss()\n",
        "  \n",
        "  liveloss = PlotLosses()\n",
        "  for epoch in range(n_epochs):\n",
        "      logs = {}\n",
        "      train_loss, train_accuracy = train(model, optimizer, criterion, train_loader)\n",
        "      logs['' + 'log loss'] = train_loss.item()\n",
        "      logs['' + 'accuracy'] = train_accuracy.item()\n",
        "\n",
        "      validation_loss, validation_accuracy = validate(model, criterion, validate_loader)\n",
        "      logs['val_' + 'log loss'] = validation_loss.item()\n",
        "      logs['val_' + 'accuracy'] = validation_accuracy.item()\n",
        "\n",
        "      liveloss.update(logs)\n",
        "      liveloss.draw()\n",
        "\n",
        "  return liveloss, validation_loss, validation_accuracy"
      ],
      "execution_count": 0,
      "outputs": []
    },
    {
      "cell_type": "markdown",
      "metadata": {
        "id": "U3py9N14piPm",
        "colab_type": "text"
      },
      "source": [
        "# KFOLD Validation"
      ]
    },
    {
      "cell_type": "code",
      "metadata": {
        "id": "cr5JAvkipQfw",
        "colab_type": "code",
        "colab": {}
      },
      "source": [
        "from sklearn.model_selection import StratifiedKFold\n",
        "\n",
        "def normalize(X, mean, std):\n",
        "  \"\"\"Normalize every channel of the X data\"\"\"\n",
        "  X -= mean\n",
        "  X /= std\n",
        "  return X"
      ],
      "execution_count": 0,
      "outputs": []
    },
    {
      "cell_type": "code",
      "metadata": {
        "id": "PUifyi7kqDtO",
        "colab_type": "code",
        "colab": {}
      },
      "source": [
        "def kfold_datasets(n_splits, X_train_orig, y_train_orig, verbatim=False):\n",
        "  '''Wrapper function that returns a list of train/val datasets which have been \n",
        "     subjected to the KFold method. \n",
        "  '''\n",
        "  \n",
        "  kf = StratifiedKFold(n_splits=n_splits, shuffle=True, random_state=42)\n",
        "\n",
        "  fold_train_loader = [] # list of shuffled training dataloaders\n",
        "  fold_validation_loader = [] # list of shuffled validation dataloaders\n",
        "\n",
        "  for train_index, test_index in kf.split(X_train_orig, y_train_orig):\n",
        "    if verbatim: print(\"TRAIN:\", train_index, \"Validation:\", test_index)\n",
        "    X_train, X_val = X_train_orig[train_index], X_train_orig[test_index]\n",
        "    y_train, y_val = y_train_orig[train_index], y_train_orig[test_index]\n",
        "\n",
        "    if verbatim: print(\"train size:\", X_train.shape, \"test size:\", X_val.shape)\n",
        "\n",
        "    X_train, y_train = torch.from_numpy(X_train).float(), torch.from_numpy(y_train)\n",
        "    X_val, y_val = torch.from_numpy(X_val).float(), torch.from_numpy(y_val)\n",
        "\n",
        "    mean = torch.mean(X_train)\n",
        "    std = torch.std(X_train)\n",
        "\n",
        "    train_dataset = TensorDataset(normalize(X_train, mean, std), y_train.long())\n",
        "    validation_dataset = TensorDataset(normalize(X_val, mean, std), y_val.long())\n",
        "\n",
        "    #train_dataset = CustomImageTensorDataset(X_train, y_train.long(), Normalise)\n",
        "    #validation_dataset = CustomImageTensorDataset(X_val, y_val.long(), Normalise)\n",
        "\n",
        "    # initialize the data-loaders\n",
        "    fold_train_loader.append(DataLoader(train_dataset, batch_size=batch_size, shuffle=True, num_workers=4))\n",
        "    fold_validation_loader.append(DataLoader(validation_dataset, batch_size=test_batch_size, shuffle=False, num_workers=0))\n",
        "    \n",
        "    return fold_train_loader, fold_validation_loader"
      ],
      "execution_count": 0,
      "outputs": []
    },
    {
      "cell_type": "code",
      "metadata": {
        "id": "tLji__ckr0b3",
        "colab_type": "code",
        "colab": {}
      },
      "source": [
        "def train_model_kfold(weight_decay, fold_train_loader, fold_validation_loader):\n",
        "  \"\"\" function to easily train the model with weight_decay as input parameter.\"\"\"\n",
        "  \n",
        "  fold_liveloss = []\n",
        "  fold_loss = 0.\n",
        "  fold_acc = 0.\n",
        "  for fold in range(len(fold_train_loader)):\n",
        "    # CHANGE THE MODEL HERE:\n",
        "    model = LeNet5_Yusuf()\n",
        "    liveloss, val_loss, val_acc = train_model(weight_decay, model, fold_train_loader[fold], fold_validation_loader[fold])\n",
        "    fold_liveloss.append(liveloss)\n",
        "    fold_loss += val_loss\n",
        "    fold_acc += val_acc\n",
        "    print(\"fold:\", fold)\n",
        "  print(\"Averaged Accuracy: \", (fold_acc/len(fold_train_loader))*100)\n",
        "  return fold_liveloss, fold_loss, fold_acc"
      ],
      "execution_count": 0,
      "outputs": []
    },
    {
      "cell_type": "code",
      "metadata": {
        "id": "Xh1xruy8xlf4",
        "colab_type": "code",
        "colab": {}
      },
      "source": [
        "fold_train_loader, fold_validation_loader = kfold_datasets(5, X_train_orig, y_train_orig, False)\n",
        "lloss, loss, acc = train_model_kfold(weight_decay[3], fold_train_loader, fold_validation_loader)"
      ],
      "execution_count": 0,
      "outputs": []
    },
    {
      "cell_type": "markdown",
      "metadata": {
        "id": "MGyT7utqloZq",
        "colab_type": "text"
      },
      "source": [
        "## HYPER PARAMETER VALIDATION"
      ]
    },
    {
      "cell_type": "code",
      "metadata": {
        "id": "YbQCwZ7Q0t6U",
        "colab_type": "code",
        "colab": {}
      },
      "source": [
        ""
      ],
      "execution_count": 0,
      "outputs": []
    },
    {
      "cell_type": "markdown",
      "metadata": {
        "id": "lA2pZICcKKIC",
        "colab_type": "text"
      },
      "source": [
        "## PRELIM FULL TRAINING\n",
        "\n",
        "### ~ ~ ~ 90% TRAIN -> TRAIN SET\n",
        "### ~ ~ ~ 10% TRAIN -> TEST SET\n",
        "\n",
        "Because we do not have the actual test set labels to evaluate our model on. We will create our own test set out of the given train set so we have a rough idea of our model prediction."
      ]
    },
    {
      "cell_type": "code",
      "metadata": {
        "id": "YN-ahXWHCWVB",
        "colab_type": "code",
        "colab": {}
      },
      "source": [
        "shuffler = StratifiedShuffleSplit(n_splits=1, test_size=0.1, random_state=42).split(X_train_orig, y_train_orig)\n",
        "indices = [(t, v) for t, v in shuffler][0]\n",
        "\n",
        "X_train = X_train_orig[indices[0]]\n",
        "mean = np.mean(X_train)\n",
        "std = np.std(X_train)\n",
        "\n",
        "X_train, y_train = normalize(X_train_orig[indices[0]].astype(float), mean, std), y_train_orig[indices[0]]\n",
        "X_test, y_test = normalize(X_train_orig[indices[1]].astype(float), mean, std), y_train_orig[indices[1]]\n",
        "\n",
        "X_train, y_train = torch.from_numpy(X_train), torch.from_numpy(y_train)\n",
        "X_test, y_test = torch.from_numpy(X_test), torch.from_numpy(y_test)\n",
        "\n",
        "X_train = X_train.view(X_train.size(0), 1, X_train.size(1), X_train.size(2))\n",
        "X_test = X_test.view(X_test.size(0), 1, X_test.size(1), X_test.size(2))\n",
        "\n",
        "# Assemble tensor datasets\n",
        "train_full_ds = TensorDataset(X_train, y_train.long())\n",
        "test_full_ds = TensorDataset(X_test, y_test.long())\n",
        "\n",
        "# Assemble dataloaders\n",
        "train_loader_full = DataLoader(train_full_ds, batch_size=batch_size, shuffle=True, num_workers=4)\n",
        "test_loader_full = DataLoader(test_full_ds, batch_size=test_batch_size, shuffle=False, num_workers=0)\n",
        "\n",
        "# Create new LeNet5 model for training\n",
        "set_seed(seed)\n",
        "model = LeNet5_Yusuf().to(device)\n",
        "optimizer = torch.optim.SGD(model.parameters(), lr=lr, momentum=momentum, weight_decay=0.0)\n",
        "criterion = nn.CrossEntropyLoss()\n",
        "\n",
        "# Train the model\n",
        "liveloss = PlotLosses()\n",
        "for epoch in range(n_epochs):\n",
        "    logs = {}\n",
        "    train_loss, train_accuracy = train(model, optimizer, criterion, train_loader_full)\n",
        "\n",
        "    logs['' + 'log loss'] = train_loss.item()\n",
        "    logs['' + 'accuracy'] = train_accuracy.item()\n",
        "\n",
        "    logs['val_' + 'log loss'] = 0.\n",
        "    logs['val_' + 'accuracy'] = 0.\n",
        "\n",
        "    liveloss.update(logs)\n",
        "    liveloss.draw()\n"
      ],
      "execution_count": 0,
      "outputs": []
    },
    {
      "cell_type": "code",
      "metadata": {
        "id": "Z0asNPwsdEvz",
        "colab_type": "code",
        "outputId": "09392455-08d6-49a4-a685-28f24d0901b0",
        "colab": {
          "base_uri": "https://localhost:8080/",
          "height": 52
        }
      },
      "source": [
        "test_loss, test_accuracy = validate(model, criterion, test_loader_full)    \n",
        "print(\"Avg. Test Loss: %1.3f\" % test_loss.item(), \" Avg. Test Accuracy: %1.3f\" % test_accuracy.item())\n",
        "print(\"\")"
      ],
      "execution_count": 0,
      "outputs": [
        {
          "output_type": "stream",
          "text": [
            "Avg. Test Loss: 0.067  Avg. Test Accuracy: 0.983\n",
            "\n"
          ],
          "name": "stdout"
        }
      ]
    },
    {
      "cell_type": "markdown",
      "metadata": {
        "id": "VCvH4HlUe6hm",
        "colab_type": "text"
      },
      "source": [
        "## Final Full Training\n",
        "### Actual Test Predictions\n",
        "\n",
        "Here we train the model onto the full training set and use the given test dataset for the Kaggle competition."
      ]
    },
    {
      "cell_type": "code",
      "metadata": {
        "id": "fUf9wyjQdR-4",
        "colab_type": "code",
        "outputId": "d84f5d7d-efb3-4b35-c083-bbb90a27b946",
        "colab": {
          "base_uri": "https://localhost:8080/",
          "height": 450
        }
      },
      "source": [
        "# Set the mean std of the full train set\n",
        "X_train = X_train_orig\n",
        "mean = np.mean(X_train)\n",
        "std = np.std(X_train)\n",
        "\n",
        "# normlaise the train and test sets\n",
        "X_train, y_train = normalize(X_train_orig.astype(float), mean, std), y_train_orig\n",
        "X_test = normalize(X_test_orig.astype(float), mean, std)\n",
        "y_test = torch.from_numpy(np.array(range(X_test.shape[0]))).float() # dummy y test set!\n",
        "\n",
        "# convert sets into torch\n",
        "X_train, y_train = torch.from_numpy(X_train), torch.from_numpy(y_train)\n",
        "X_test = torch.from_numpy(X_test)\n",
        "\n",
        "# resize sets to the correct shape\n",
        "X_train = X_train.view(X_train.size(0), 1, X_train.size(1), X_train.size(2))\n",
        "X_test = X_test.view(X_test.size(0), 1, X_test.size(1), X_test.size(2))\n",
        "\n",
        "# Assemble tensor datasets\n",
        "train_full_ds = TensorDataset(X_train, y_train.long())\n",
        "test_full_ds = TensorDataset(X_test, y_test.long())\n",
        "\n",
        "# Assemble dataloaders\n",
        "train_loader_full = DataLoader(train_full_ds, batch_size=batch_size, shuffle=True, num_workers=4)\n",
        "test_loader_full = DataLoader(test_full_ds, batch_size=test_batch_size, shuffle=False, num_workers=0)\n",
        "\n",
        "# Create new LeNet5 model for training\n",
        "set_seed(seed)\n",
        "model = LeNet5_Yusuf().to(device)\n",
        "optimizer = torch.optim.SGD(model.parameters(), lr=lr, momentum=0.9, weight_decay=0.001)\n",
        "criterion = nn.CrossEntropyLoss()\n",
        "\n",
        "# Train the model\n",
        "liveloss = PlotLosses()\n",
        "for epoch in range(n_epochs):\n",
        "    logs = {}\n",
        "    train_loss, train_accuracy = train(model, optimizer, criterion, train_loader_full)\n",
        "\n",
        "    logs['' + 'log loss'] = train_loss.item()\n",
        "    logs['' + 'accuracy'] = train_accuracy.item()\n",
        "\n",
        "    logs['val_' + 'log loss'] = 0.\n",
        "    logs['val_' + 'accuracy'] = 0.\n",
        "\n",
        "    liveloss.update(logs)\n",
        "    liveloss.draw()\n",
        "    \n",
        "y_predictions, _ = evaluate(model, test_loader_full)"
      ],
      "execution_count": 0,
      "outputs": [
        {
          "output_type": "display_data",
          "data": {
            "image/png": "[encoded data removed]",
            "text/plain": [
              "<Figure size 864x576 with 2 Axes>"
            ]
          },
          "metadata": {
            "tags": []
          }
        },
        {
          "output_type": "stream",
          "text": [
            "log loss:\n",
            "training   (min:    0.035, max:    0.586, cur:    0.035)\n",
            "validation (min:    0.000, max:    0.000, cur:    0.000)\n",
            "\n",
            "accuracy:\n",
            "training   (min:    0.811, max:    0.989, cur:    0.989)\n",
            "validation (min:    0.000, max:    0.000, cur:    0.000)\n"
          ],
          "name": "stdout"
        }
      ]
    },
    {
      "cell_type": "code",
      "metadata": {
        "id": "moA1dI1fj6fF",
        "colab_type": "code",
        "outputId": "2efe0f60-60b3-4fd4-bf12-68933eaca39d",
        "colab": {
          "base_uri": "https://localhost:8080/",
          "height": 72
        }
      },
      "source": [
        "y_predictions = [int(y) for y in y_predictions]\n",
        "print(len(y_predictions))\n",
        "print(y_predictions)"
      ],
      "execution_count": 0,
      "outputs": [
        {
          "output_type": "stream",
          "text": [
            "10000\n",
            "[2, 9, 3, 8, 3, 3, 8, 3, 2, 5, 6, 3, 3, 3, 1, 5, 4, 8, 6, 3, 7, 5, 7, 5, 7, 0, 3, 5, 4, 4, 6, 8, 5, 9, 5, 6, 6, 3, 0, 6, 4, 7, 8, 1, 1, 6, 9, 0, 1, 0, 1, 1, 4, 8, 4, 1, 3, 3, 3, 4, 6, 4, 8, 3, 6, 5, 3, 4, 6, 1, 5, 9, 9, 7, 3, 2, 3, 7, 6, 3, 4, 1, 1, 5, 9, 1, 5, 1, 0, 1, 2, 7, 1, 6, 7, 3, 6, 5, 5, 2, 0, 8, 8, 2, 3, 5, 9, 1, 0, 8, 5, 2, 0, 4, 6, 5, 2, 9, 0, 9, 3, 6, 9, 5, 6, 2, 0, 7, 6, 2, 9, 0, 4, 1, 3, 4, 6, 9, 9, 5, 1, 4, 5, 9, 6, 8, 2, 4, 7, 3, 5, 1, 8, 5, 8, 6, 3, 2, 7, 6, 2, 5, 6, 7, 5, 2, 8, 0, 6, 6, 4, 1, 9, 2, 8, 6, 5, 6, 8, 7, 8, 4, 0, 6, 5, 7, 2, 6, 2, 1, 8, 9, 0, 7, 4, 3, 0, 1, 6, 3, 1, 3, 5, 0, 8, 8, 5, 8, 2, 2, 3, 2, 9, 5, 7, 5, 4, 5, 4, 7, 2, 3, 7, 8, 5, 9, 0, 7, 5, 0, 1, 6, 6, 3, 0, 9, 8, 4, 9, 0, 2, 0, 3, 0, 7, 6, 8, 3, 7, 9, 4, 4, 0, 5, 2, 9, 6, 4, 0, 4, 2, 7, 3, 2, 6, 7, 0, 9, 1, 5, 4, 5, 5, 9, 8, 7, 9, 0, 3, 3, 6, 1, 6, 8, 7, 7, 9, 2, 6, 2, 2, 7, 5, 7, 3, 8, 0, 8, 3, 0, 3, 2, 8, 7, 9, 2, 0, 2, 1, 0, 0, 7, 8, 7, 9, 4, 2, 2, 9, 8, 6, 6, 8, 4, 9, 7, 6, 3, 5, 2, 2, 8, 2, 2, 2, 1, 4, 9, 3, 9, 8, 3, 1, 9, 1, 2, 2, 1, 8, 8, 1, 5, 3, 3, 7, 1, 4, 5, 7, 8, 6, 9, 3, 6, 4, 2, 0, 3, 3, 8, 1, 7, 4, 4, 8, 5, 2, 4, 5, 2, 7, 6, 9, 4, 6, 5, 9, 0, 4, 4, 8, 1, 3, 3, 7, 7, 7, 7, 5, 3, 4, 6, 8, 9, 5, 6, 9, 1, 5, 9, 1, 5, 8, 0, 2, 8, 9, 1, 2, 0, 5, 5, 5, 5, 4, 6, 6, 7, 9, 0, 2, 4, 2, 8, 3, 8, 3, 8, 1, 2, 3, 3, 7, 8, 8, 6, 3, 6, 8, 3, 8, 7, 7, 6, 5, 0, 4, 3, 8, 1, 6, 2, 3, 3, 0, 1, 3, 1, 0, 1, 7, 3, 6, 0, 5, 8, 9, 4, 8, 3, 2, 4, 9, 1, 6, 1, 8, 3, 6, 0, 5, 1, 2, 0, 0, 0, 1, 2, 2, 9, 8, 1, 2, 8, 5, 4, 3, 3, 2, 5, 4, 4, 2, 0, 2, 0, 9, 1, 7, 9, 8, 6, 6, 4, 5, 8, 6, 7, 2, 5, 3, 4, 9, 4, 6, 2, 3, 8, 9, 5, 2, 7, 2, 9, 2, 0, 4, 7, 2, 2, 9, 9, 4, 1, 7, 4, 2, 5, 0, 4, 4, 2, 1, 7, 8, 5, 2, 2, 2, 0, 1, 8, 7, 1, 3, 0, 8, 7, 1, 9, 1, 4, 0, 5, 7, 2, 6, 5, 0, 4, 5, 1, 1, 2, 5, 7, 2, 4, 8, 4, 7, 2, 2, 3, 0, 0, 3, 6, 2, 3, 2, 1, 2, 3, 3, 5, 6, 8, 8, 3, 4, 3, 8, 9, 3, 2, 6, 7, 0, 9, 5, 8, 8, 5, 1, 2, 1, 1, 0, 7, 0, 5, 5, 6, 8, 1, 0, 0, 1, 4, 5, 9, 6, 0, 7, 2, 1, 2, 6, 7, 3, 1, 5, 1, 9, 2, 0, 8, 5, 4, 5, 6, 2, 2, 5, 5, 0, 3, 0, 3, 2, 5, 7, 7, 5, 3, 7, 4, 0, 2, 1, 8, 2, 5, 3, 9, 7, 6, 1, 9, 3, 9, 0, 1, 4, 1, 6, 9, 7, 9, 1, 7, 9, 7, 5, 8, 1, 3, 6, 0, 8, 6, 0, 6, 2, 9, 4, 4, 8, 8, 9, 6, 1, 2, 6, 6, 4, 1, 1, 6, 7, 1, 9, 1, 6, 9, 5, 7, 4, 6, 6, 3, 0, 9, 9, 7, 5, 9, 0, 4, 5, 6, 0, 0, 1, 0, 8, 7, 5, 2, 7, 0, 3, 4, 5, 1, 1, 4, 2, 6, 9, 0, 5, 8, 5, 6, 6, 9, 4, 0, 2, 8, 9, 6, 5, 7, 3, 7, 1, 0, 5, 7, 2, 3, 9, 5, 9, 9, 1, 0, 3, 8, 0, 3, 3, 2, 3, 9, 0, 4, 5, 9, 2, 1, 4, 7, 4, 9, 5, 5, 0, 1, 8, 0, 0, 0, 0, 7, 1, 3, 6, 6, 0, 4, 2, 9, 7, 7, 6, 8, 4, 8, 1, 1, 9, 0, 2, 3, 7, 9, 1, 5, 8, 2, 2, 1, 1, 9, 5, 6, 4, 5, 4, 8, 8, 1, 8, 6, 9, 9, 3, 5, 3, 7, 7, 5, 8, 0, 8, 1, 1, 5, 8, 3, 2, 8, 9, 3, 5, 5, 1, 0, 4, 6, 7, 9, 3, 0, 0, 3, 9, 1, 1, 8, 4, 8, 0, 3, 9, 0, 5, 6, 7, 4, 2, 4, 0, 2, 0, 1, 0, 2, 6, 5, 9, 1, 3, 5, 3, 8, 9, 2, 5, 0, 7, 4, 7, 4, 8, 3, 0, 1, 3, 4, 0, 2, 9, 3, 8, 5, 4, 7, 1, 7, 9, 4, 6, 3, 3, 6, 0, 3, 2, 6, 1, 9, 7, 4, 8, 5, 2, 5, 2, 7, 0, 5, 5, 1, 7, 5, 7, 4, 1, 1, 8, 1, 9, 3, 4, 1, 6, 6, 4, 8, 2, 2, 4, 9, 7, 5, 7, 5, 5, 1, 9, 9, 7, 7, 8, 6, 9, 8, 8, 1, 5, 8, 6, 2, 2, 8, 0, 8, 6, 2, 6, 3, 4, 8, 3, 8, 3, 9, 3, 4, 4, 6, 4, 1, 6, 7, 5, 1, 8, 4, 2, 2, 8, 1, 9, 4, 0, 9, 8, 0, 3, 5, 0, 3, 6, 9, 0, 5, 6, 4, 0, 9, 1, 2, 5, 5, 4, 7, 1, 4, 5, 3, 1, 1, 5, 7, 4, 5, 5, 1, 7, 8, 1, 5, 0, 5, 6, 5, 3, 1, 1, 0, 6, 2, 9, 5, 0, 4, 0, 1, 4, 3, 6, 1, 7, 7, 0, 6, 3, 2, 0, 2, 3, 4, 6, 2, 9, 7, 7, 3, 6, 1, 4, 3, 7, 0, 7, 5, 4, 9, 2, 2, 7, 3, 3, 2, 5, 7, 2, 2, 1, 6, 7, 5, 4, 2, 4, 7, 3, 8, 4, 3, 7, 8, 0, 7, 5, 1, 5, 5, 7, 3, 5, 9, 0, 8, 3, 3, 5, 9, 3, 1, 3, 6, 8, 3, 6, 6, 9, 7, 3, 0, 8, 4, 1, 6, 1, 5, 4, 7, 6, 0, 0, 6, 3, 8, 9, 1, 9, 1, 5, 4, 7, 3, 2, 1, 4, 0, 3, 6, 9, 4, 1, 8, 8, 4, 8, 5, 1, 1, 8, 4, 6, 1, 1, 9, 3, 6, 3, 8, 5, 6, 7, 8, 1, 5, 4, 5, 7, 4, 0, 2, 7, 8, 9, 7, 5, 1, 9, 6, 1, 3, 5, 5, 6, 3, 6, 8, 4, 9, 8, 7, 1, 9, 6, 8, 4, 5, 6, 7, 4, 4, 9, 9, 0, 7, 6, 4, 1, 6, 5, 1, 6, 7, 3, 2, 2, 0, 9, 0, 6, 9, 4, 8, 7, 6, 6, 6, 3, 2, 1, 2, 8, 7, 6, 2, 5, 8, 5, 8, 6, 2, 1, 0, 5, 1, 0, 1, 1, 3, 6, 0, 1, 4, 7, 2, 0, 8, 6, 1, 9, 9, 0, 5, 1, 6, 8, 4, 7, 1, 9, 5, 3, 4, 1, 9, 8, 1, 1, 6, 0, 3, 8, 5, 0, 4, 5, 7, 0, 9, 5, 6, 6, 1, 0, 2, 9, 8, 8, 9, 2, 2, 2, 8, 8, 4, 7, 5, 1, 9, 6, 8, 7, 5, 3, 3, 6, 6, 6, 1, 7, 7, 6, 8, 7, 1, 5, 5, 6, 0, 4, 1, 4, 7, 3, 1, 2, 6, 2, 7, 2, 3, 3, 2, 1, 8, 4, 7, 4, 6, 2, 9, 1, 1, 1, 1, 5, 1, 7, 5, 9, 4, 3, 3, 8, 0, 8, 7, 2, 9, 6, 1, 7, 3, 0, 3, 8, 4, 4, 3, 8, 8, 8, 3, 0, 1, 4, 1, 0, 8, 8, 0, 9, 3, 9, 5, 6, 0, 6, 7, 2, 7, 5, 1, 4, 9, 6, 6, 3, 3, 4, 1, 4, 9, 2, 7, 6, 7, 8, 7, 0, 4, 8, 8, 9, 5, 6, 4, 3, 7, 2, 5, 4, 6, 5, 6, 1, 3, 5, 6, 2, 2, 2, 0, 8, 5, 7, 2, 8, 6, 2, 5, 0, 3, 0, 2, 6, 6, 8, 1, 3, 9, 2, 1, 2, 7, 8, 2, 0, 0, 4, 3, 7, 1, 3, 4, 4, 9, 9, 4, 6, 1, 2, 5, 8, 8, 4, 2, 9, 6, 5, 9, 7, 6, 2, 0, 6, 9, 9, 1, 4, 3, 8, 7, 0, 3, 2, 3, 8, 4, 5, 0, 7, 7, 7, 0, 2, 3, 5, 1, 2, 7, 9, 7, 4, 1, 2, 1, 6, 8, 5, 3, 6, 5, 7, 5, 6, 3, 1, 6, 7, 3, 3, 4, 0, 5, 1, 5, 1, 1, 2, 4, 6, 2, 0, 0, 2, 1, 1, 0, 4, 9, 8, 7, 9, 4, 7, 3, 8, 0, 2, 2, 1, 3, 1, 3, 5, 0, 5, 8, 1, 4, 1, 2, 4, 8, 7, 3, 0, 3, 2, 9, 6, 7, 9, 6, 7, 6, 0, 6, 7, 7, 2, 5, 6, 7, 1, 4, 3, 1, 1, 9, 5, 4, 2, 1, 2, 4, 1, 7, 0, 8, 3, 3, 1, 8, 6, 3, 5, 3, 1, 9, 4, 1, 6, 2, 8, 7, 6, 1, 5, 3, 8, 8, 8, 9, 0, 9, 7, 2, 5, 0, 8, 4, 3, 6, 3, 3, 9, 1, 3, 7, 4, 3, 7, 8, 1, 3, 9, 3, 7, 0, 2, 2, 3, 8, 2, 3, 8, 0, 8, 7, 5, 0, 4, 8, 6, 7, 2, 9, 1, 9, 8, 7, 2, 9, 9, 3, 0, 2, 0, 2, 3, 4, 7, 6, 1, 0, 1, 0, 1, 4, 2, 2, 6, 8, 4, 8, 0, 9, 8, 9, 2, 2, 2, 8, 9, 3, 5, 9, 7, 1, 4, 6, 3, 7, 4, 1, 9, 8, 8, 6, 4, 2, 1, 1, 0, 6, 8, 7, 6, 3, 4, 7, 2, 5, 8, 1, 0, 6, 8, 1, 2, 9, 7, 9, 4, 6, 8, 8, 2, 5, 6, 2, 9, 3, 8, 0, 8, 4, 3, 9, 0, 9, 4, 2, 0, 6, 4, 8, 6, 1, 3, 0, 3, 7, 3, 2, 5, 2, 6, 4, 4, 5, 0, 2, 5, 1, 2, 4, 2, 0, 3, 3, 6, 8, 3, 8, 2, 0, 8, 3, 4, 1, 6, 8, 7, 2, 3, 8, 8, 0, 0, 4, 6, 0, 0, 7, 3, 0, 9, 7, 9, 5, 6, 4, 1, 8, 9, 8, 7, 0, 4, 3, 2, 5, 3, 1, 3, 6, 8, 6, 8, 0, 7, 2, 8, 9, 5, 7, 4, 7, 7, 3, 1, 8, 5, 7, 1, 1, 0, 8, 6, 4, 6, 2, 9, 4, 5, 9, 8, 1, 0, 5, 2, 9, 5, 1, 4, 3, 3, 1, 3, 7, 4, 0, 2, 8, 1, 0, 1, 0, 8, 7, 2, 8, 1, 2, 3, 1, 1, 0, 4, 1, 6, 6, 2, 6, 2, 9, 9, 2, 4, 8, 2, 1, 6, 8, 6, 3, 1, 8, 2, 4, 6, 4, 8, 3, 4, 8, 6, 2, 5, 9, 7, 1, 0, 2, 6, 7, 0, 2, 3, 6, 8, 5, 5, 4, 9, 2, 1, 8, 9, 7, 6, 2, 2, 6, 6, 8, 9, 8, 6, 3, 0, 6, 9, 7, 0, 0, 8, 0, 3, 6, 4, 2, 0, 1, 9, 9, 7, 6, 4, 7, 5, 3, 0, 9, 9, 8, 0, 3, 4, 6, 4, 6, 8, 2, 9, 1, 7, 8, 0, 8, 8, 2, 0, 5, 2, 3, 1, 4, 1, 5, 4, 2, 1, 5, 6, 6, 3, 9, 4, 0, 6, 2, 5, 7, 9, 8, 4, 2, 0, 1, 9, 9, 9, 1, 5, 5, 8, 5, 8, 8, 3, 8, 0, 1, 7, 7, 0, 1, 6, 4, 0, 9, 8, 3, 1, 1, 7, 9, 9, 1, 8, 2, 3, 9, 4, 9, 6, 8, 4, 4, 2, 4, 6, 4, 2, 2, 0, 5, 9, 0, 0, 7, 7, 2, 4, 3, 8, 5, 3, 0, 7, 1, 1, 9, 0, 6, 5, 1, 3, 4, 4, 9, 4, 0, 5, 4, 1, 0, 5, 7, 3, 8, 3, 9, 4, 3, 4, 7, 9, 6, 1, 5, 7, 8, 1, 1, 9, 2, 7, 7, 6, 5, 9, 1, 0, 4, 5, 1, 8, 9, 9, 0, 1, 3, 0, 6, 0, 8, 6, 2, 9, 4, 9, 9, 3, 3, 7, 9, 7, 9, 4, 3, 5, 7, 1, 0, 1, 5, 9, 4, 3, 4, 6, 1, 9, 1, 8, 6, 4, 4, 6, 9, 8, 9, 2, 3, 3, 5, 7, 7, 3, 2, 9, 5, 4, 3, 9, 4, 8, 9, 8, 6, 0, 4, 0, 2, 5, 9, 7, 6, 4, 8, 8, 3, 0, 8, 0, 4, 2, 1, 3, 6, 6, 6, 0, 6, 0, 4, 0, 9, 1, 4, 9, 6, 4, 3, 8, 0, 6, 4, 2, 2, 2, 6, 5, 1, 8, 6, 6, 4, 4, 3, 0, 0, 8, 9, 0, 8, 2, 3, 3, 2, 3, 7, 4, 0, 5, 9, 2, 6, 9, 6, 3, 8, 1, 4, 4, 6, 8, 5, 6, 1, 1, 1, 0, 8, 0, 6, 7, 3, 5, 6, 0, 3, 3, 5, 3, 1, 3, 9, 8, 5, 7, 6, 1, 4, 4, 7, 1, 7, 4, 9, 5, 1, 1, 1, 9, 5, 9, 0, 4, 1, 2, 2, 9, 0, 4, 7, 1, 6, 5, 6, 0, 3, 8, 1, 3, 2, 7, 0, 6, 6, 0, 6, 4, 2, 3, 8, 3, 6, 8, 7, 7, 3, 3, 0, 6, 2, 9, 7, 5, 9, 2, 4, 3, 3, 6, 3, 3, 9, 1, 1, 8, 8, 3, 8, 3, 7, 3, 0, 5, 6, 4, 1, 7, 4, 1, 1, 3, 7, 9, 6, 1, 3, 0, 8, 6, 6, 9, 0, 9, 4, 7, 9, 1, 4, 4, 9, 5, 1, 2, 1, 4, 8, 6, 3, 4, 9, 1, 4, 7, 4, 8, 7, 3, 4, 9, 1, 5, 5, 9, 6, 7, 2, 4, 4, 6, 5, 6, 4, 1, 0, 1, 6, 6, 0, 2, 8, 0, 8, 2, 8, 6, 4, 8, 3, 7, 2, 6, 6, 1, 2, 0, 5, 0, 9, 5, 2, 2, 3, 5, 8, 3, 2, 5, 8, 2, 2, 5, 8, 0, 2, 5, 8, 4, 4, 7, 2, 0, 7, 2, 1, 4, 8, 0, 8, 2, 0, 0, 9, 0, 0, 0, 4, 7, 4, 6, 0, 0, 7, 0, 0, 1, 5, 3, 8, 5, 6, 6, 6, 1, 8, 1, 5, 1, 8, 4, 0, 4, 4, 7, 8, 0, 8, 9, 7, 4, 7, 7, 7, 1, 6, 7, 3, 3, 6, 1, 4, 1, 5, 4, 8, 5, 1, 4, 9, 9, 6, 6, 3, 3, 2, 1, 2, 7, 2, 8, 9, 9, 0, 1, 6, 4, 0, 8, 9, 4, 7, 7, 1, 6, 6, 7, 6, 7, 8, 4, 2, 0, 8, 2, 0, 6, 1, 3, 2, 7, 6, 3, 7, 3, 3, 0, 8, 8, 7, 4, 6, 0, 7, 6, 7, 6, 9, 1, 3, 9, 2, 0, 7, 0, 1, 0, 4, 9, 5, 6, 6, 9, 1, 6, 2, 0, 1, 2, 1, 3, 4, 4, 2, 1, 9, 4, 3, 6, 1, 3, 1, 1, 3, 3, 9, 4, 8, 0, 8, 0, 8, 7, 4, 2, 6, 0, 2, 7, 9, 8, 3, 5, 7, 2, 3, 5, 9, 4, 1, 2, 4, 1, 7, 1, 9, 9, 0, 8, 3, 2, 7, 8, 6, 4, 1, 8, 0, 9, 9, 8, 2, 1, 5, 1, 1, 4, 0, 9, 0, 9, 9, 3, 7, 1, 7, 0, 0, 6, 6, 9, 2, 6, 3, 0, 1, 7, 3, 3, 0, 4, 1, 2, 9, 0, 1, 3, 5, 1, 8, 1, 3, 1, 6, 8, 1, 7, 5, 3, 9, 3, 4, 5, 8, 3, 4, 5, 5, 4, 8, 6, 6, 5, 9, 3, 9, 0, 5, 2, 2, 5, 7, 1, 8, 1, 0, 7, 6, 4, 8, 1, 8, 5, 7, 0, 6, 5, 1, 2, 7, 2, 2, 0, 4, 8, 3, 2, 8, 1, 3, 4, 9, 3, 3, 0, 5, 4, 9, 7, 8, 6, 6, 7, 3, 5, 8, 8, 1, 4, 7, 4, 9, 4, 8, 3, 7, 7, 1, 0, 5, 9, 4, 9, 1, 8, 5, 0, 8, 2, 2, 8, 0, 8, 2, 4, 8, 0, 8, 7, 7, 7, 6, 3, 6, 4, 3, 4, 9, 0, 2, 7, 4, 9, 4, 7, 1, 9, 7, 5, 1, 2, 9, 1, 0, 6, 4, 3, 1, 2, 7, 5, 7, 3, 9, 4, 6, 7, 4, 4, 0, 4, 1, 6, 6, 7, 6, 7, 4, 9, 0, 1, 6, 2, 9, 0, 9, 0, 3, 9, 8, 2, 0, 8, 0, 2, 4, 9, 7, 7, 6, 9, 0, 4, 4, 8, 5, 6, 0, 0, 2, 2, 2, 0, 0, 2, 8, 1, 3, 1, 2, 0, 6, 4, 5, 8, 5, 0, 9, 8, 1, 1, 7, 1, 9, 5, 7, 3, 8, 1, 2, 0, 7, 9, 5, 7, 2, 9, 0, 3, 8, 1, 7, 2, 2, 2, 8, 2, 0, 4, 0, 1, 1, 1, 4, 1, 1, 1, 7, 0, 1, 3, 7, 3, 8, 9, 7, 3, 8, 3, 0, 8, 5, 4, 6, 3, 8, 6, 1, 1, 8, 2, 9, 1, 0, 0, 2, 7, 6, 3, 4, 2, 2, 3, 5, 2, 9, 3, 0, 7, 8, 1, 8, 1, 6, 1, 3, 4, 0, 9, 2, 4, 5, 7, 7, 3, 8, 3, 7, 6, 8, 3, 9, 0, 4, 1, 0, 6, 5, 4, 0, 0, 8, 6, 7, 6, 1, 6, 7, 2, 0, 6, 5, 4, 3, 2, 4, 8, 2, 2, 7, 1, 0, 5, 8, 8, 5, 9, 7, 5, 3, 5, 8, 5, 5, 9, 6, 5, 1, 9, 0, 6, 1, 1, 3, 8, 7, 2, 1, 2, 0, 8, 7, 5, 2, 2, 1, 2, 7, 8, 3, 5, 7, 0, 7, 1, 8, 9, 9, 6, 1, 6, 6, 8, 5, 4, 0, 5, 7, 7, 1, 6, 8, 1, 6, 9, 7, 8, 6, 8, 8, 3, 5, 9, 4, 7, 7, 3, 0, 5, 3, 4, 2, 0, 5, 5, 2, 3, 8, 3, 1, 1, 1, 9, 5, 3, 8, 1, 2, 1, 1, 1, 9, 9, 1, 7, 5, 3, 5, 3, 6, 8, 1, 1, 8, 0, 9, 1, 8, 1, 0, 2, 8, 7, 0, 5, 2, 3, 0, 9, 0, 2, 9, 7, 9, 8, 4, 4, 1, 4, 8, 9, 0, 6, 4, 5, 5, 8, 9, 2, 0, 2, 0, 9, 0, 6, 2, 6, 8, 6, 0, 4, 2, 2, 5, 2, 9, 4, 2, 6, 4, 9, 0, 0, 9, 5, 6, 4, 1, 8, 8, 0, 4, 8, 1, 4, 3, 8, 1, 9, 4, 1, 3, 6, 9, 7, 9, 9, 1, 5, 6, 3, 6, 1, 9, 6, 9, 6, 3, 0, 6, 4, 1, 9, 9, 7, 7, 4, 6, 6, 4, 7, 4, 4, 3, 1, 1, 1, 6, 7, 8, 1, 5, 6, 0, 4, 1, 2, 0, 9, 1, 4, 3, 4, 7, 3, 3, 6, 1, 7, 9, 6, 1, 3, 8, 5, 1, 2, 9, 7, 9, 5, 9, 9, 2, 9, 9, 2, 8, 6, 7, 3, 5, 6, 5, 2, 0, 3, 5, 6, 8, 7, 9, 3, 2, 1, 6, 4, 9, 9, 0, 9, 6, 8, 1, 8, 9, 2, 5, 8, 3, 7, 4, 2, 5, 7, 1, 8, 2, 6, 4, 2, 2, 5, 9, 3, 3, 2, 3, 4, 8, 2, 6, 7, 9, 9, 0, 8, 5, 0, 8, 4, 6, 3, 5, 3, 2, 0, 3, 9, 7, 3, 1, 8, 5, 9, 6, 6, 5, 1, 3, 1, 4, 9, 5, 8, 6, 2, 0, 3, 5, 9, 2, 8, 9, 3, 2, 6, 8, 7, 7, 5, 5, 6, 9, 9, 9, 7, 7, 6, 6, 9, 5, 3, 2, 0, 4, 5, 8, 4, 7, 5, 7, 8, 5, 1, 9, 8, 6, 4, 2, 6, 0, 6, 5, 1, 6, 4, 0, 4, 4, 9, 1, 5, 1, 3, 2, 0, 1, 6, 1, 0, 4, 7, 6, 3, 0, 8, 7, 5, 7, 7, 1, 4, 1, 2, 0, 0, 0, 8, 4, 5, 2, 5, 2, 1, 5, 1, 5, 0, 6, 2, 4, 5, 6, 2, 6, 5, 4, 0, 4, 3, 4, 9, 6, 5, 7, 8, 8, 2, 9, 1, 7, 1, 1, 9, 9, 5, 9, 0, 5, 0, 5, 2, 7, 6, 0, 2, 3, 4, 4, 0, 1, 7, 9, 7, 7, 1, 8, 8, 7, 9, 3, 6, 9, 7, 4, 8, 5, 8, 4, 2, 7, 6, 1, 4, 2, 8, 2, 2, 7, 5, 2, 0, 4, 9, 5, 7, 1, 6, 5, 3, 2, 6, 5, 5, 0, 3, 6, 5, 9, 6, 3, 3, 0, 2, 9, 0, 2, 0, 6, 0, 9, 7, 6, 0, 6, 5, 0, 4, 2, 4, 4, 4, 5, 6, 3, 0, 4, 3, 6, 1, 7, 4, 9, 3, 1, 2, 0, 1, 9, 4, 6, 0, 3, 4, 6, 8, 7, 1, 6, 5, 8, 1, 2, 0, 6, 0, 1, 9, 4, 9, 8, 4, 2, 3, 1, 7, 6, 3, 6, 9, 1, 0, 4, 7, 8, 7, 4, 9, 9, 6, 8, 3, 5, 6, 8, 5, 5, 7, 8, 4, 4, 0, 2, 7, 1, 2, 5, 6, 4, 2, 4, 0, 8, 2, 8, 1, 5, 2, 9, 6, 7, 6, 1, 0, 8, 4, 0, 3, 5, 6, 8, 0, 8, 1, 4, 3, 2, 5, 4, 0, 8, 3, 9, 4, 0, 2, 3, 1, 3, 1, 8, 2, 0, 9, 5, 9, 7, 1, 0, 5, 8, 6, 9, 0, 0, 4, 4, 4, 2, 8, 4, 5, 0, 3, 5, 8, 5, 9, 9, 9, 5, 5, 9, 7, 9, 2, 5, 9, 9, 3, 9, 2, 8, 4, 0, 2, 2, 9, 8, 9, 2, 6, 6, 2, 8, 8, 3, 1, 1, 5, 9, 2, 8, 5, 8, 8, 6, 2, 5, 1, 1, 3, 8, 0, 3, 3, 0, 6, 1, 8, 5, 0, 0, 0, 8, 0, 5, 1, 8, 4, 0, 6, 5, 5, 3, 0, 1, 6, 3, 3, 8, 6, 2, 8, 2, 0, 1, 4, 6, 4, 2, 6, 7, 8, 2, 1, 8, 5, 3, 0, 0, 7, 2, 6, 6, 9, 2, 0, 8, 6, 9, 5, 4, 9, 7, 8, 5, 7, 4, 0, 3, 5, 0, 3, 8, 0, 3, 9, 0, 9, 0, 9, 5, 3, 9, 7, 0, 2, 0, 6, 8, 2, 7, 7, 0, 2, 3, 8, 2, 0, 7, 8, 4, 4, 5, 5, 2, 8, 8, 0, 2, 5, 9, 0, 1, 8, 1, 3, 2, 0, 4, 7, 9, 0, 8, 6, 9, 5, 8, 5, 5, 3, 7, 5, 8, 7, 2, 1, 8, 7, 6, 0, 1, 3, 0, 1, 1, 3, 2, 7, 6, 2, 4, 3, 0, 2, 6, 3, 6, 2, 8, 8, 6, 9, 1, 4, 3, 3, 0, 1, 7, 2, 2, 0, 0, 9, 4, 6, 3, 9, 0, 0, 0, 4, 4, 6, 9, 5, 7, 5, 5, 4, 2, 7, 3, 5, 1, 1, 3, 3, 2, 8, 9, 0, 6, 8, 0, 7, 2, 5, 0, 0, 7, 5, 8, 8, 3, 4, 4, 3, 4, 8, 3, 0, 9, 5, 1, 2, 6, 6, 2, 0, 9, 4, 0, 7, 2, 5, 6, 5, 7, 1, 5, 8, 3, 7, 9, 6, 5, 5, 6, 3, 8, 3, 3, 7, 8, 4, 1, 4, 0, 4, 6, 3, 9, 3, 8, 7, 7, 3, 4, 4, 8, 1, 6, 8, 5, 0, 6, 3, 6, 6, 9, 1, 5, 1, 3, 2, 5, 1, 5, 1, 6, 4, 9, 1, 0, 3, 6, 5, 0, 9, 3, 2, 7, 8, 6, 2, 5, 1, 1, 5, 9, 3, 9, 8, 9, 2, 6, 6, 5, 2, 3, 9, 3, 7, 2, 7, 7, 8, 9, 2, 9, 5, 5, 1, 5, 6, 0, 8, 9, 9, 6, 6, 1, 0, 3, 7, 1, 0, 8, 4, 9, 3, 0, 8, 2, 8, 1, 4, 9, 2, 1, 7, 7, 2, 3, 5, 3, 6, 0, 6, 2, 0, 9, 6, 8, 1, 5, 0, 8, 8, 8, 0, 8, 5, 1, 3, 9, 3, 9, 5, 8, 3, 1, 1, 5, 6, 0, 1, 1, 5, 9, 9, 7, 5, 2, 0, 1, 0, 5, 8, 8, 5, 8, 0, 8, 2, 6, 5, 4, 1, 1, 7, 3, 5, 9, 3, 2, 0, 7, 5, 0, 0, 5, 8, 1, 1, 8, 7, 0, 1, 7, 9, 9, 1, 5, 4, 5, 3, 4, 9, 2, 6, 1, 6, 8, 5, 0, 2, 1, 9, 9, 3, 8, 2, 6, 9, 0, 5, 9, 4, 8, 8, 4, 7, 7, 6, 5, 9, 2, 7, 0, 8, 2, 0, 5, 9, 1, 8, 1, 4, 4, 5, 5, 2, 7, 6, 1, 3, 7, 2, 2, 5, 8, 8, 9, 7, 5, 0, 8, 4, 2, 3, 8, 0, 2, 2, 0, 7, 6, 8, 1, 1, 0, 0, 6, 4, 6, 7, 1, 3, 5, 5, 9, 7, 9, 7, 5, 6, 0, 3, 0, 4, 5, 4, 2, 0, 6, 5, 0, 9, 2, 9, 4, 7, 4, 5, 8, 7, 4, 9, 8, 2, 3, 2, 1, 2, 5, 1, 8, 3, 0, 1, 9, 7, 4, 5, 2, 8, 2, 1, 5, 7, 3, 2, 5, 5, 2, 3, 1, 3, 6, 0, 5, 3, 0, 7, 2, 5, 2, 1, 5, 3, 1, 3, 1, 2, 4, 9, 5, 1, 3, 2, 9, 5, 8, 6, 7, 4, 1, 1, 5, 1, 5, 1, 7, 1, 4, 9, 4, 9, 8, 0, 1, 6, 7, 4, 3, 1, 9, 2, 2, 9, 6, 5, 5, 6, 1, 2, 8, 2, 0, 2, 2, 4, 1, 9, 8, 8, 8, 6, 9, 5, 3, 8, 0, 8, 7, 2, 5, 5, 4, 0, 0, 3, 7, 4, 1, 8, 9, 7, 0, 4, 4, 3, 3, 8, 4, 1, 7, 1, 9, 9, 7, 3, 8, 7, 5, 2, 8, 1, 4, 5, 9, 3, 2, 6, 0, 9, 8, 4, 4, 6, 2, 4, 4, 4, 3, 4, 5, 9, 4, 0, 3, 2, 0, 2, 2, 6, 1, 9, 2, 5, 5, 1, 4, 8, 9, 6, 7, 0, 3, 1, 0, 5, 2, 0, 4, 0, 9, 3, 5, 4, 8, 3, 3, 2, 5, 5, 7, 2, 3, 0, 5, 9, 1, 2, 4, 8, 5, 3, 7, 1, 5, 9, 0, 2, 4, 4, 1, 3, 4, 8, 4, 6, 4, 4, 1, 6, 6, 0, 0, 9, 2, 3, 3, 3, 6, 9, 2, 9, 5, 1, 2, 7, 9, 0, 5, 4, 3, 0, 6, 9, 4, 6, 1, 9, 9, 3, 1, 0, 6, 6, 9, 7, 8, 5, 3, 1, 2, 2, 8, 2, 7, 6, 4, 7, 2, 4, 1, 0, 3, 7, 1, 8, 4, 0, 0, 2, 6, 0, 9, 5, 9, 2, 5, 6, 7, 8, 6, 0, 0, 2, 1, 2, 4, 7, 6, 0, 8, 4, 1, 4, 8, 1, 7, 5, 0, 7, 8, 7, 0, 0, 6, 6, 3, 8, 7, 3, 8, 6, 4, 0, 2, 4, 8, 9, 1, 7, 1, 8, 6, 4, 3, 7, 3, 6, 5, 0, 3, 4, 8, 1, 4, 1, 3, 2, 2, 9, 8, 2, 5, 1, 1, 6, 9, 4, 7, 2, 8, 5, 1, 6, 0, 9, 3, 8, 8, 7, 9, 6, 3, 3, 3, 6, 4, 6, 2, 8, 9, 8, 6, 4, 0, 8, 9, 7, 6, 9, 3, 2, 0, 4, 1, 1, 2, 6, 7, 9, 4, 9, 4, 4, 0, 1, 8, 4, 9, 7, 4, 3, 1, 1, 4, 6, 8, 9, 3, 3, 4, 5, 4, 0, 9, 7, 3, 6, 9, 1, 2, 8, 4, 3, 5, 5, 1, 9, 6, 5, 9, 4, 7, 6, 2, 5, 3, 0, 8, 3, 2, 9, 7, 8, 0, 1, 2, 8, 3, 7, 5, 8, 8, 1, 7, 0, 1, 8, 7, 6, 9, 7, 3, 7, 6, 3, 9, 9, 5, 4, 4, 7, 2, 6, 2, 3, 7, 1, 8, 5, 4, 3, 0, 7, 8, 2, 9, 5, 8, 4, 4, 3, 5, 3, 0, 7, 8, 0, 0, 0, 5, 7, 1, 6, 3, 0, 6, 9, 6, 4, 7, 7, 2, 6, 9, 2, 8, 8, 3, 6, 6, 5, 5, 6, 8, 0, 1, 2, 5, 1, 2, 9, 8, 0, 3, 7, 7, 2, 2, 1, 2, 8, 9, 5, 6, 8, 8, 9, 4, 4, 9, 2, 3, 3, 7, 1, 4, 8, 1, 4, 3, 6, 6, 3, 1, 6, 9, 6, 2, 2, 6, 5, 3, 8, 5, 7, 8, 7, 6, 8, 3, 3, 5, 9, 9, 4, 6, 0, 3, 3, 2, 9, 6, 8, 3, 8, 0, 1, 0, 5, 6, 9, 7, 2, 2, 3, 4, 8, 4, 7, 2, 3, 6, 0, 4, 6, 7, 5, 2, 5, 4, 0, 2, 7, 4, 7, 6, 2, 1, 2, 2, 9, 1, 0, 4, 6, 5, 3, 5, 8, 0, 0, 1, 0, 6, 5, 7, 5, 4, 7, 1, 2, 3, 0, 9, 6, 9, 4, 6, 1, 6, 7, 9, 7, 4, 3, 7, 8, 9, 8, 1, 9, 0, 1, 6, 1, 5, 8, 8, 8, 1, 3, 3, 0, 8, 6, 1, 9, 8, 9, 9, 9, 9, 6, 8, 1, 8, 8, 9, 4, 7, 0, 7, 9, 6, 2, 9, 5, 0, 5, 8, 5, 2, 8, 7, 4, 3, 8, 2, 1, 6, 4, 8, 5, 4, 2, 1, 2, 1, 5, 5, 3, 0, 6, 3, 5, 6, 1, 7, 0, 0, 5, 3, 6, 5, 5, 0, 1, 2, 6, 2, 1, 1, 4, 0, 5, 8, 4, 6, 2, 8, 4, 0, 0, 1, 9, 2, 7, 5, 0, 5, 6, 1, 9, 3, 0, 6, 2, 2, 0, 4, 7, 7, 5, 0, 5, 1, 8, 5, 4, 7, 0, 9, 6, 2, 0, 1, 9, 8, 8, 1, 3, 3, 1, 4, 2, 5, 5, 8, 2, 8, 7, 6, 9, 7, 4, 0, 8, 2, 1, 0, 7, 9, 0, 4, 2, 7, 3, 9, 9, 4, 2, 1, 0, 5, 8, 2, 6, 4, 8, 4, 8, 4, 2, 2, 6, 8, 1, 7, 4, 5, 6, 1, 8, 0, 5, 3, 1, 3, 6, 7, 8, 7, 1, 5, 1, 8, 9, 5, 3, 6, 2, 3, 4, 6, 1, 9, 8, 5, 6, 8, 4, 4, 5, 9, 9, 6, 3, 2, 2, 0, 3, 7, 2, 3, 4, 5, 3, 0, 7, 2, 7, 9, 4, 3, 7, 4, 8, 8, 3, 3, 4, 1, 1, 7, 1, 4, 7, 4, 1, 0, 4, 2, 2, 0, 6, 2, 7, 9, 4, 2, 7, 0, 7, 6, 5, 2, 0, 1, 8, 9, 3, 5, 7, 8, 3, 2, 3, 7, 2, 9, 1, 9, 3, 3, 5, 8, 6, 7, 4, 8, 9, 4, 1, 0, 7, 9, 6, 2, 9, 0, 6, 9, 4, 5, 8, 1, 8, 9, 3, 4, 1, 7, 7, 9, 9, 5, 6, 5, 0, 3, 6, 7, 1, 9, 4, 1, 2, 8, 3, 9, 8, 6, 4, 3, 3, 4, 6, 8, 5, 8, 4, 0, 3, 0, 7, 7, 6, 4, 7, 4, 0, 4, 7, 4, 5, 5, 4, 8, 2, 0, 9, 8, 3, 1, 3, 8, 5, 0, 9, 5, 3, 7, 6, 7, 8, 7, 8, 7, 2, 1, 4, 9, 8, 5, 3, 2, 5, 5, 4, 9, 9, 9, 1, 1, 6, 2, 1, 7, 3, 2, 9, 0, 5, 0, 7, 8, 1, 6, 8, 3, 4, 5, 1, 0, 5, 2, 7, 2, 2, 6, 1, 9, 2, 6, 7, 6, 5, 3, 9, 6, 3, 0, 9, 3, 0, 7, 3, 8, 0, 1, 5, 7, 0, 2, 1, 5, 7, 1, 8, 6, 7, 8, 5, 9, 7, 6, 0, 1, 1, 5, 1, 4, 2, 7, 3, 4, 6, 3, 4, 7, 1, 3, 3, 7, 4, 4, 2, 0, 8, 5, 5, 9, 5, 9, 6, 7, 4, 8, 3, 6, 8, 7, 2, 9, 6, 4, 0, 6, 7, 2, 4, 9, 4, 7, 8, 5, 7, 2, 7, 8, 1, 0, 1, 0, 4, 5, 2, 0, 0, 1, 4, 5, 6, 2, 1, 2, 3, 9, 9, 4, 5, 0, 3, 7, 2, 3, 9, 7, 2, 6, 5, 0, 5, 8, 9, 2, 2, 9, 3, 5, 0, 8, 9, 6, 7, 8, 0, 9, 7, 3, 9, 2, 6, 1, 4, 6, 3, 7, 0, 5, 2, 0, 1, 6, 1, 0, 1, 2, 2, 2, 3, 2, 9, 3, 2, 9, 9, 5, 1, 4, 5, 3, 1, 4, 1, 8, 5, 2, 2, 5, 2, 3, 3, 9, 0, 5, 1, 6, 5, 1, 6, 8, 3, 0, 1, 5, 2, 5, 0, 2, 5, 9, 3, 6, 1, 6, 9, 3, 3, 0, 8, 0, 1, 2, 8, 1, 0, 3, 6, 3, 3, 1, 0, 8, 3, 7, 7, 2, 1, 2, 9, 2, 4, 7, 2, 3, 5, 0, 0, 3, 3, 9, 3, 8, 2, 6, 9, 1, 1, 1, 2, 9, 9, 7, 9, 8, 4, 1, 1, 3, 7, 2, 6, 3, 3, 2, 8, 4, 4, 0, 6, 5, 1, 8, 0, 6, 6, 8, 4, 6, 6, 6, 0, 0, 2, 5, 1, 3, 0, 3, 5, 9, 3, 4, 7, 5, 3, 2, 7, 5, 8, 3, 0, 9, 1, 6, 9, 7, 5, 9, 7, 3, 1, 0, 2, 2, 7, 2, 4, 2, 8, 1, 4, 4, 9, 1, 3, 2, 6, 1, 5, 1, 8, 4, 5, 8, 9, 1, 2, 4, 2, 6, 5, 5, 7, 0, 3, 9, 3, 6, 7, 4, 5, 7, 4, 7, 8, 7, 6, 2, 6, 7, 4, 2, 0, 1, 1, 2, 2, 9, 6, 6, 5, 4, 7, 9, 8, 2, 7, 8, 1, 3, 3, 7, 4, 1, 4, 8, 3, 9, 2, 0, 5, 5, 9, 5, 0, 6, 1, 0, 5, 5, 1, 9, 4, 9, 9, 7, 1, 5, 2, 1, 6, 6, 1, 0, 2, 7, 9, 2, 7, 8, 0, 0, 5, 8, 0, 7, 9, 4, 6, 6, 2, 1, 6, 2, 1, 3, 0, 9, 7, 4, 8, 6, 6, 9, 6, 1, 8, 9, 5, 0, 8, 9, 7, 7, 1, 7, 2, 2, 5, 8, 7, 9, 9, 1, 3, 4, 8, 0, 7, 2, 3, 8, 3, 4, 1, 3, 1, 8, 0, 9, 4, 1, 9, 3, 7, 7, 3, 8, 6, 3, 9, 7, 7, 8, 6, 2, 5, 3, 4, 1, 8, 0, 2, 4, 1, 3, 1, 1, 1, 2, 9, 4, 7, 8, 8, 1, 2, 4, 8, 5, 1, 3, 7, 4, 3, 2, 5, 3, 4, 9, 2, 7, 3, 8, 8, 0, 0, 3, 0, 5, 1, 5, 0, 9, 1, 1, 4, 2, 7, 1, 7, 0, 4, 2, 8, 6, 1, 1, 7, 0, 9, 2, 2, 4, 5, 4, 6, 3, 3, 7, 3, 0, 1, 9, 5, 2, 5, 7, 9, 1, 6, 6, 0, 7, 6, 9, 5, 3, 8, 3, 8, 9, 9, 2, 9, 3, 5, 4, 6, 4, 2, 7, 0, 3, 8, 5, 1, 6, 3, 2, 9, 1, 1, 8, 1, 0, 0, 2, 1, 4, 1, 0, 4, 9, 7, 7, 0, 1, 7, 8, 8, 3, 1, 0, 8, 3, 0, 7, 2, 1, 8, 6, 1, 2, 3, 7, 4, 3, 0, 4, 0, 1, 0, 1, 4, 3, 8, 7, 7, 5, 6, 0, 2, 1, 4, 4, 2, 5, 4, 8, 9, 6, 9, 7, 8, 3, 2, 2, 0, 2, 4, 4, 0, 1, 8, 2, 4, 2, 1, 2, 7, 4, 6, 3, 3, 8, 5, 6, 0, 4, 8, 8, 0, 3, 7, 3, 2, 6, 9, 3, 9, 8, 4, 8, 6, 1, 5, 6, 2, 1, 2, 7, 4, 7, 5, 8, 0, 0, 3, 9, 1, 0, 0, 6, 6, 2, 5, 9, 4, 6, 0, 3, 7, 4, 0, 3, 4, 1, 4, 3, 4, 0, 5, 5, 2, 4, 2, 7, 8, 1, 5, 2, 9, 7, 5, 0, 4, 3, 1, 2, 8, 7, 9, 8, 3, 1, 9, 5, 5, 9, 8, 1, 3, 0, 5, 6, 8, 1, 4, 4, 6, 9, 6, 1, 9, 2, 7, 5, 0, 7, 0, 1, 6, 0, 8, 6, 3, 9, 4, 8, 1, 2, 6, 2, 7, 2, 5, 0, 8, 7, 0, 6, 1, 9, 5, 6, 6, 3, 0, 6, 0, 0, 3, 0, 6, 8, 6, 7, 5, 2, 6, 2, 9, 6, 8, 1, 3, 8, 5, 9, 0, 0, 3, 4, 0, 4, 7, 5, 0, 6, 8, 8, 2, 2, 9, 3, 1, 1, 5, 7, 3, 4, 8, 2, 0, 2, 9, 0, 0, 3, 0, 5, 8, 6, 2, 9, 8, 3, 7, 1, 6, 3, 9, 0, 3, 0, 2, 0, 4, 4, 5, 2, 4, 5, 6, 2, 7, 5, 5, 8, 2, 2, 3, 4, 7, 9, 7, 5, 8, 7, 3, 8, 1, 0, 2, 2, 3, 6, 4, 3, 1, 1, 4, 4, 7, 4, 8, 6, 9, 4, 4, 6, 3, 9, 6, 4, 5, 1, 1, 4, 5, 3, 7, 9, 1, 5, 5, 2, 6, 7, 2, 6, 3, 3, 9, 0, 2, 5, 9, 9, 7, 7, 5, 6, 9, 1, 9, 0, 1, 3, 2, 2, 5, 2, 3, 4, 1, 7, 9, 3, 5, 5, 1, 2, 1, 4, 6, 1, 0, 7, 4, 7, 8, 4, 5, 7, 0, 3, 6, 7, 3, 4, 3, 6, 9, 7, 6, 1, 9, 3, 3, 0, 8, 9, 3, 4, 1, 3, 9, 5, 0, 3, 1, 7, 8, 5, 8, 3, 2, 6, 1, 9, 9, 4, 0, 5, 8, 1, 8, 7, 0, 6, 6, 4, 9, 4, 5, 8, 3, 1, 1, 8, 2, 1, 7, 7, 9, 6, 8, 1, 1, 6, 8, 1, 5, 0, 8, 6, 7, 2, 5, 4, 0, 4, 3, 7, 8, 6, 4, 2, 1, 1, 1, 9, 6, 6, 8, 3, 2, 0, 9, 8, 1, 5, 6, 6, 2, 3, 2, 9, 9, 4, 2, 7, 2, 2, 7, 3, 7, 0, 1, 8, 7, 5, 9, 9, 5, 5, 0, 9, 0, 5, 9, 8, 7, 9, 2, 0, 7, 9, 3, 3, 0, 6, 2, 2, 2, 7, 4, 8, 8, 1, 6, 9, 6, 1, 1, 6, 0, 2, 0, 8, 2, 3, 2, 5, 8, 8, 6, 4, 5, 9, 3, 4, 2, 9, 2, 4, 5, 5, 7, 6, 8, 9, 2, 5, 7, 2, 6, 1, 0, 2, 1, 9, 6, 3, 9, 5, 0, 9, 9, 2, 7, 3, 6, 5, 1, 2, 4, 3, 1, 2, 6, 9, 4, 8, 5, 8, 4, 1, 6, 1, 7, 1, 6, 3, 9, 4, 3, 3, 5, 6, 6, 2, 1, 6, 9, 3, 5, 8, 7, 4, 8, 1, 4, 1, 8, 2, 7, 9, 7, 6, 4, 0, 2, 6, 9, 9, 0, 3, 8, 2, 5, 8, 5, 3, 3, 4, 9, 3, 5, 6, 0, 8, 9, 4, 8, 4, 3, 1, 4, 8, 4, 9, 8, 5, 3, 4, 1, 6, 1, 8, 2, 8, 8, 2, 0, 0, 3, 8, 5, 3, 3, 4, 3, 2, 8, 1, 0, 4, 2, 3, 6, 5, 5, 4, 9, 5, 9, 3, 3, 9, 3, 6, 3, 9, 1, 2, 0, 6, 7, 2, 0, 4, 9, 2, 0, 1, 0, 5, 8, 7, 8, 6, 8, 5, 7, 0, 5, 4, 7, 0, 9, 8, 9, 9, 8, 6, 4, 8, 6, 7, 9, 0, 3, 9, 5, 4, 5, 0, 6, 7, 0, 1, 5, 3, 3, 7, 3, 6, 8, 2, 6, 0, 6, 9, 1, 1, 3, 6, 3, 1, 2, 1, 9, 6, 8, 5, 5, 5, 5, 8, 5, 4, 2, 2, 7, 0, 9, 1, 3, 7, 8, 0, 6, 8, 6, 5, 8, 0, 5, 3, 7, 6, 5, 7, 7, 0, 8, 8, 4, 8, 3, 7, 2, 0, 3, 4, 7, 9, 3, 6, 5, 8, 8, 6, 7, 0, 0, 8, 2, 6, 3, 0, 5, 2, 4, 8, 6, 8, 0, 1, 6, 3, 1, 3, 9, 1, 1, 0, 7, 7, 1, 2, 7, 0, 6, 4, 9, 6, 4, 4, 5, 3, 1, 6, 5, 8, 3, 9, 5, 2, 2, 4, 5, 9, 0, 5, 2, 8, 3, 7, 1, 8, 9, 0, 4, 0, 0, 3, 9, 3, 2, 3, 7, 0, 8, 3, 8, 1, 2, 4, 2, 1, 8, 1, 1, 5, 2, 3, 9, 2, 5, 1, 5, 4, 6, 8, 5, 2, 7, 5, 0, 8, 9, 9, 2, 2, 5, 9, 5, 4, 9, 9, 7, 3, 5, 7, 9, 3, 2, 9, 2, 6, 9, 6, 5, 9, 1, 9, 4, 7, 4, 8, 8, 4, 3, 4, 1, 6, 3, 5, 5, 9, 7, 5, 2, 3, 7, 6, 3, 4, 3, 4, 5, 2, 5, 1, 9, 7, 9, 9, 5, 6, 9, 2, 9, 4, 1, 1, 5, 3, 5, 7, 4, 7, 0, 1, 1, 5, 3, 5, 6, 6, 5, 8, 2, 7, 9, 9, 1, 0, 0, 6, 2, 7, 4, 5, 6, 3, 4, 5, 3, 5, 6, 0, 0, 4, 7, 7, 3, 3, 3, 5, 9, 0, 7, 6, 0, 3, 7, 9, 1, 3, 0, 2, 2, 2, 6, 3, 6, 2, 1, 2, 6, 9, 2, 9, 5, 2, 4, 9, 6, 3, 3, 3, 4, 2, 9, 8, 9, 0, 0, 4, 3, 8, 7, 8, 6, 7, 7, 2, 3, 4, 8, 2, 7, 4, 5, 1, 3, 8, 6, 9, 0, 9, 1, 9, 7, 9, 1, 7, 3, 3, 2, 8, 9, 0, 0, 0, 1, 2, 0, 1, 3, 4, 5, 6, 4, 4, 8, 3, 3, 5, 6, 0, 5, 6, 0, 2, 0, 4, 0, 2, 9, 7, 4, 6, 3, 9, 4, 8, 2, 9, 4, 0, 8, 5, 9, 7, 6, 7, 0, 2, 4, 4, 4, 2, 0, 3, 9, 2, 2, 4, 6, 5, 0, 5, 2, 6, 9, 9, 0, 9, 9, 7, 4, 0, 7, 3, 4, 4, 1, 2, 2, 5, 5, 2, 5, 7, 4, 7, 8, 5, 5, 7, 4, 6, 7, 3, 3, 8, 2, 6, 8, 0, 6, 6, 4, 2, 0, 1, 9, 7, 9, 8, 4, 3, 5, 4, 5, 8, 6, 8, 1, 8, 4, 4, 6, 4, 8, 9, 0, 7, 0, 6, 9, 5, 3, 3, 3, 1, 9, 8, 7, 5, 6, 7, 2, 9, 8, 9, 4, 5, 9, 5, 5, 8, 6, 3, 3, 1, 5, 9, 1, 1, 2, 7, 6, 0, 0, 9, 2, 1, 0, 6, 4, 9, 3, 0, 8, 5, 8, 8, 3, 2, 4, 0, 3, 2, 3, 0, 8, 1, 5, 6, 4, 3, 8, 3, 1, 2, 2, 6, 5, 9, 4, 5, 0, 2, 8, 9, 3, 8, 6, 5, 0, 5, 0, 9, 5, 9, 8, 2, 8, 9, 5, 2, 1, 1, 7, 0, 5, 6, 8, 4, 9, 6, 4, 6, 5, 9, 7, 4, 6, 2, 4, 5, 2, 5, 9, 8, 7, 7, 1, 0, 8, 9, 7, 5, 0, 3, 2, 2, 0, 3, 7, 6, 9, 8, 8, 8, 9, 7, 9, 7, 6, 0, 2, 9, 9, 7, 1, 7, 6, 5, 1, 9, 8, 3, 7, 5, 1, 1, 0, 5, 2, 6, 1, 1, 2, 7, 8, 8, 7, 1, 9, 8, 5, 3, 1, 1, 5, 4, 3, 3, 6, 2, 3, 6, 0, 7, 3, 2, 9, 0, 6, 8, 3, 1, 2, 0, 7, 5, 3, 7, 0, 0, 6, 4, 8, 5, 6, 3, 1, 7, 7, 9, 6, 7, 0, 1, 1, 5, 6, 7, 6, 1, 7, 2, 7, 3, 2, 9, 5, 5, 7, 9, 2, 3, 7, 4, 5, 5, 9, 4, 2, 3, 6, 3, 5, 5, 5, 0, 0, 0, 6, 5, 2, 7, 6, 3, 6, 6, 8, 3, 9, 6, 2, 9, 4, 0, 3, 8, 5, 9, 5, 4, 0, 8, 9, 6, 2, 5, 2, 2, 2, 6, 3, 8, 5, 1, 9, 2, 0, 6, 9, 6, 3, 3, 3, 3, 0, 6, 2, 2, 0, 8, 6, 8, 9, 5, 1, 7, 7, 1, 8, 9, 7, 2, 1, 9, 3, 7, 4, 5, 9, 8, 0, 6, 8, 6, 1, 9, 5, 2, 9, 6, 3, 7, 7, 2, 7, 3, 5, 1, 3, 9, 2, 4, 1, 6, 0, 0, 6, 4, 7, 0, 6, 1, 8, 2, 3, 4, 5, 6, 2, 9, 6, 9, 8, 3, 9, 1, 7, 4, 3, 3, 9, 0, 5, 2, 4, 9, 2, 9, 9, 8, 0, 6, 8, 0, 5, 6, 1, 1, 2, 2, 1, 7, 1, 8, 2, 2, 8, 4, 4, 3, 9, 0, 5, 3, 5, 0, 7, 9, 0, 7, 0, 0, 8, 9, 2, 9, 6, 4, 7, 0, 9, 2, 9, 8, 5, 1, 4, 5, 2, 4, 2, 5, 2, 2, 9, 9, 9, 9, 9, 7, 4, 9, 0, 8, 8, 7, 5, 6, 3, 2, 4, 2, 9, 0, 9, 3, 9, 1, 2, 8, 8, 1, 3, 7, 8, 3, 3, 7, 8, 1, 9, 2, 7, 2, 6, 8, 1, 9, 9, 8, 7, 7, 2, 7, 6, 5, 6, 8, 9, 3, 3, 4, 0, 0, 3, 6, 9, 7, 9, 1, 4, 7, 0, 6, 2, 3, 7, 0, 1, 8, 1, 1, 3, 8, 0, 9, 3, 6, 6, 6, 6, 0, 8, 7, 3, 2, 4, 5, 5, 7, 7, 3, 9, 6, 3, 5, 8, 2, 3, 1, 1, 2, 1, 0, 6, 0, 9, 1, 7, 3, 4, 6, 8, 1, 8, 6, 4, 2, 7, 5, 4, 2, 4, 9, 8, 6, 3, 8, 4, 4, 1, 9, 7, 5, 4, 7, 5, 1, 3, 5, 9, 7, 6, 7, 7, 6, 2, 3, 5, 4, 5, 7, 1, 5, 9, 2, 0, 3, 8, 3, 4, 3, 5, 1, 6, 7, 5, 9, 8, 0, 5, 1, 9, 5, 6, 5, 5, 2, 4, 8, 8, 2, 6, 5, 0, 0, 9, 7, 9, 2, 8, 2, 1, 0, 5, 7, 4, 8, 7, 9, 0, 0, 6, 8, 3, 4, 5, 5, 8, 0, 8, 7, 5, 5, 1, 0, 1, 3, 6, 5, 1, 0, 2, 9, 4, 5, 7, 1, 6, 6, 3, 0, 7, 5, 2, 2, 4, 0, 6, 8, 7, 3, 4, 6, 3, 2, 1, 2, 7, 6, 0, 2, 3, 3, 1, 8, 1, 0, 5, 3, 3, 6, 1, 9, 2, 6, 2, 2, 1, 7, 7, 1, 8, 8, 4, 0, 9, 4, 1, 6, 1, 1, 6, 8, 9, 8, 2, 0, 4, 0, 2, 6, 0, 8, 8, 6, 2, 8, 7, 8, 1, 9, 0, 8, 8, 0, 9, 1, 9, 7, 5, 9, 3, 9, 3, 2, 0, 3, 0, 8, 3, 8, 9, 6, 9, 7, 4, 0, 1, 6, 7, 0, 1, 5, 7, 2, 4, 9, 8, 0, 6, 9, 1, 2, 5, 4, 1, 6, 4, 4, 8, 1, 8, 6, 8, 3, 5, 9, 7, 1, 6, 6, 5, 8, 5, 9, 7, 2, 5, 5, 0, 7, 0, 3, 1, 0, 8, 4, 6, 9, 1, 9, 3, 6, 8, 6, 0, 0, 0, 7, 1, 0, 4, 1, 6, 0, 0, 1, 4, 0, 9, 2, 4, 7, 3, 9, 7, 0, 5, 1, 6, 8, 9, 7, 4, 2, 3, 7, 2, 3, 3, 8, 3, 4, 7, 2, 9, 5, 6, 3, 6, 4, 4, 2, 9, 8, 8, 2, 2, 6, 0, 5, 8, 2, 3, 5, 6, 2, 7, 3, 4, 7, 1, 0, 8, 3, 0, 7, 1, 9, 6, 1, 5, 9, 4, 9, 9, 1, 1, 0, 5, 6, 1, 9, 7, 9, 1, 2, 5, 4, 9, 2, 1, 5, 8, 1, 5, 6, 9, 3, 2, 1, 9, 1, 0, 9, 4, 6, 9, 9, 4, 3, 9, 9, 5, 5, 2, 1, 3, 2, 2, 9, 8, 4, 7, 1, 0, 7, 2, 9, 8, 2, 5, 1, 4, 8, 9, 3, 3, 3, 6, 3, 4, 5, 8, 7, 7, 6, 0, 1, 9, 0, 6, 3, 3, 5, 4, 2, 1, 6, 0, 9, 9, 8, 7, 4, 6, 2, 7, 8, 6, 8, 6, 0, 9, 2, 2, 7, 5, 6, 5, 4, 3, 4, 9, 2, 3, 6, 1, 3, 2, 6, 4, 7, 4, 8, 4, 4, 3, 8, 4, 8, 2, 7, 6, 3, 0, 7, 7, 6, 5, 0, 7, 5, 9, 0, 8, 5, 7, 1, 4, 3, 7, 6, 1, 4, 1, 9, 2, 3, 7, 9, 5, 4, 2, 0, 7, 5, 9, 7, 1, 4, 3, 0, 1, 2, 1, 0, 1, 2, 8, 9, 8, 9, 4, 1, 1, 8, 8, 0, 3, 4, 9, 3, 8, 8, 2, 4, 6, 4, 1, 5, 0, 8, 8, 1, 1, 5, 4, 2, 9, 6, 8, 2, 3, 1, 0, 8, 2, 5, 8, 2, 8, 8, 8, 2, 8, 4, 0, 9, 7, 6, 0, 1, 5, 0, 7, 4, 9, 6, 4, 6, 4, 3, 4, 3, 7, 1, 0, 4, 4, 4, 4, 0, 6, 5, 0, 9, 9, 9, 2, 0, 1, 3, 4, 7, 6, 0, 5, 0, 9, 9, 7, 0, 8, 1, 2, 4, 4, 9, 5, 3, 0, 2, 3, 7, 9, 0, 7, 7, 2, 3, 6, 8, 8, 5, 8, 1, 5, 2, 3, 3, 3, 0, 1, 7, 9, 4, 7, 6, 2, 5, 3, 6, 6, 6, 1, 3, 9, 0, 6, 4, 7, 8, 9, 2, 7, 8, 9, 8, 2, 0, 6, 1, 9, 8, 4, 3, 9, 5, 3, 1, 7, 3, 3, 7, 6, 6, 7, 7, 2, 3, 8, 8, 4, 4, 0, 2, 4, 0, 9, 5, 4, 9, 8, 2, 8, 0, 7, 9, 4, 4, 8, 8, 8, 6, 6, 4, 9, 8, 5, 8, 3, 1, 4, 7, 8, 4, 3, 8, 6, 3, 5, 1, 1, 9, 4, 8, 5, 4, 4, 5, 6, 2, 9, 3, 2, 7, 9, 8, 9, 9, 4, 5, 0, 5, 2, 9, 9, 8, 2, 3, 9, 6, 8, 4, 5, 9, 0, 5, 5, 7, 5, 8, 1, 5, 2, 3, 9, 2, 3, 6, 0, 1, 3, 0, 1, 9, 0, 2, 1, 1, 8, 7, 7, 2, 8, 4, 9, 5, 7, 8, 8, 3, 4, 3, 2, 8, 1, 1, 5, 4, 9, 2, 8, 5, 9, 2, 0, 9, 6, 4, 5, 6, 4, 9, 5, 3, 2, 2, 9, 4, 5, 3, 1, 6, 6, 4, 8, 3, 9, 1, 6, 5, 9, 3, 6, 4, 7, 4, 3, 2, 3, 3, 4, 2, 1, 8, 3, 9, 7, 2, 8, 5, 4, 1, 5, 6, 9, 9, 8, 0, 1, 4, 8, 4, 3, 7, 5, 5, 1, 9, 6, 4, 3, 7, 8, 0, 8, 5, 7, 9, 1, 1, 6, 8, 4, 7, 5, 8, 1, 0, 8, 9, 8, 7, 5, 0, 5, 3, 9, 5, 3, 3, 3, 6, 3, 0, 9, 9, 1, 1, 0, 9, 4, 6, 0, 6, 7, 2, 4, 0, 8, 3, 1, 4, 9, 7, 8, 5, 8, 9, 7, 3, 8, 1, 9, 0, 0, 2, 7, 1, 8, 3, 9, 0, 4, 9, 4, 0, 3, 7, 9, 6, 1, 1, 7, 6, 4, 3, 7, 1, 0, 4, 2, 7, 1, 7, 2, 2, 7, 2, 4, 7, 9, 6, 6, 4, 8, 4, 4, 2, 7, 7, 0, 1, 7, 7, 6, 3, 8, 5, 0, 8, 2, 7, 8, 9, 7, 3, 6, 8, 5, 9, 6, 5, 0, 8, 3, 4, 2, 3, 5, 1, 4, 4, 5, 9, 7, 0, 9, 0, 8, 9, 0, 2, 3, 6, 8, 7, 0, 3, 1, 3, 2, 6, 3, 3, 1, 8, 1, 0, 0, 3, 7, 1, 7, 3, 2, 4, 9, 5, 0, 5, 0, 6, 8, 1, 0, 3, 3, 3, 5, 8, 5, 1, 6, 4, 2, 6, 6, 8, 0, 2, 2, 5, 4, 9, 2, 6, 4, 5, 4, 9, 5, 2, 6, 5, 0, 5, 5, 1, 1, 1, 2, 6, 1, 6, 8, 0, 2, 8, 1, 0, 1, 8, 3, 9, 4, 8, 9, 3, 7, 1, 2, 0, 9, 1, 2, 6, 5, 9, 8, 8, 9, 8, 7, 7, 0, 4, 1, 0, 9, 6, 8, 5, 6, 9, 4, 5, 0, 2, 4, 9, 0, 1, 3, 4, 3, 3, 6, 4, 0, 1, 3, 8, 0, 9, 7, 1, 0, 5, 3, 1, 7, 0, 9, 8, 9, 7, 7, 5, 4, 6, 0, 0, 4, 0, 0, 3, 1, 3, 2, 7, 0, 7, 2, 9, 7, 5, 5, 5, 9, 9, 1, 4, 7, 4, 3, 8, 3, 0, 6, 1, 5, 8, 1, 5, 1, 8, 2, 3, 9, 4, 8, 7, 2, 4, 2, 1, 9, 5, 8, 8, 9, 3, 3, 3, 9, 1, 2, 3, 1, 7, 8, 9, 9, 1, 3, 7, 6, 7, 3, 3, 7, 4, 4, 9, 3, 7, 9, 9, 6, 0, 0, 2, 9, 5, 8, 2, 5, 0, 9, 6, 6, 6, 2, 0, 1, 6, 3, 0, 3, 2, 4, 3, 7, 1, 5, 8, 0, 9, 9, 8, 3, 1, 6, 4, 9, 2, 2, 4, 8, 1, 4, 1, 7, 0, 3, 7, 1, 5, 3, 0, 2, 9, 8, 6, 6, 8, 2, 8, 2, 4, 1, 1, 4, 6, 4, 1, 6, 2, 1, 4, 9, 8, 6, 2, 7, 5, 1, 0, 0, 8, 3, 9, 0, 9, 2, 6, 3, 0, 4, 4, 7, 2, 2, 1, 4, 7, 7, 5, 7, 9, 5, 6, 8, 5, 7, 9, 2, 4, 1, 2, 2, 7, 2, 3, 1, 3, 7, 6, 7, 1, 2, 6, 6, 5, 6, 4, 6, 5, 3, 8, 6, 5, 6, 8, 1, 4, 1, 2, 6, 9, 3, 6, 3, 8, 7, 8, 5, 1, 1, 9, 2, 6, 6, 7, 9, 4, 7, 3, 9, 8, 5, 6, 5, 9, 5, 8, 4, 0, 4, 3, 8, 2, 4, 8, 4, 2, 0, 5, 7, 0, 9, 6, 8, 6, 7, 0, 3, 1, 8, 2, 7, 3, 9, 9, 2, 7, 1, 4, 0, 8, 3, 2, 4, 3, 0, 8, 7, 9, 2, 8, 1, 3, 0, 1, 1, 7, 8, 9, 1, 6, 7, 2, 0, 6, 1, 2, 0, 9, 2, 6, 4, 9, 5, 9, 1, 3, 6, 8, 2, 6, 5, 5, 8, 4, 5, 1, 5, 6, 1, 2, 0, 0, 1, 4, 1, 4, 2, 0, 8, 3, 7, 6, 2, 1, 5, 9, 8, 3, 1, 3, 5, 2, 1, 0, 9, 5, 7, 4, 9, 9, 9, 2, 2, 5, 4, 2, 9, 2, 2, 1, 3, 0, 8, 8, 9, 2, 1, 3, 7, 4, 2, 8, 3, 4, 6, 3, 9, 5, 7, 8, 8, 2, 9, 1, 8, 7, 5, 8, 5, 6, 7, 3, 6, 2, 4, 3, 9, 2, 1, 0, 0, 3, 5, 1, 5, 5, 3, 1, 8, 9, 6, 8, 2, 8, 5, 4, 0, 9, 6, 6, 9, 2, 6, 4, 4, 0, 6, 4, 8, 4, 6, 2, 4, 2, 6, 5, 3, 6, 6, 5, 2, 3, 8, 6, 5, 2, 7, 9, 8, 6, 6, 1, 2, 5, 2, 0, 8, 9, 0, 2, 4, 0, 4, 3, 1, 7, 5, 4, 2, 3, 9, 8, 9, 3, 2, 6, 8, 9, 2, 2, 4, 7, 8, 5, 2, 7, 0, 7, 9, 2, 3, 0, 5, 1, 3, 5, 3, 8, 6, 2, 6, 1, 5, 9, 7, 8, 0, 2, 6, 4, 5, 8, 8, 3, 6, 9, 6, 5, 5, 0, 8, 8, 9, 6, 6, 1, 4, 0, 4, 8, 9, 1, 5, 8, 1, 3, 4, 3, 6, 9, 0, 1, 4, 9, 9, 2, 2, 7, 5, 9, 5, 2, 5, 6, 7, 9, 8, 0, 8, 0, 4, 0, 5, 5, 8, 1, 8, 1, 5, 4, 2, 6, 5, 0, 5, 9, 1, 6, 7, 8, 1, 5, 4, 4, 8, 4, 8, 2, 1, 0, 6, 7, 7, 4, 1, 1, 1, 4, 6, 0, 6, 5, 3, 4, 5, 2, 7, 4, 6, 0, 8, 3, 9, 0, 4, 9, 2, 4, 9, 4, 3, 5, 0, 9, 1, 4, 7, 9, 1, 4, 8, 0, 3, 3, 0, 4, 4, 5, 4, 0, 7, 8, 7, 6, 8, 3, 5, 0, 3, 3, 4, 3, 4, 0, 0, 6, 8, 5, 7, 5, 2, 6, 7, 5, 8, 9, 2, 5, 6, 9, 9, 0, 9, 5, 5, 5, 2, 3, 9, 9, 0, 4, 8, 6, 8, 7, 1, 7, 0, 2, 0, 5, 9, 5, 2, 4, 9, 4, 7, 6, 2, 7, 0, 3, 4, 5, 8, 8, 1, 6, 2, 5, 0, 5, 7, 7, 4, 5, 2, 7, 4, 7, 4, 1, 3, 6, 6, 9, 2, 3, 3, 5, 1, 8, 9, 6, 2, 9, 3, 6, 0, 0, 3, 7, 3, 5, 3, 7, 9, 6, 7, 7, 5, 6, 4, 7, 3, 9, 5, 1, 5, 3, 1, 3, 0, 1, 5, 7, 3, 9, 2, 4, 7, 6, 0, 4, 0, 9, 4, 2]\n"
          ],
          "name": "stdout"
        }
      ]
    },
    {
      "cell_type": "code",
      "metadata": {
        "id": "l_HFz2lv3vZQ",
        "colab_type": "code",
        "colab": {}
      },
      "source": [
        "model_save_name = \"MINI-submit1-101\"\n",
        "path = F\"/content/gdrive/My Drive/Colab Notebooks/Mini-Project/Model/{model_save_name}\" \n",
        "torch.save(model.state_dict(), path)\n",
        "\n",
        "output_save_name = \"Yusuf_model_test_output.txt\"\n",
        "path_out = F\"/content/gdrive/My Drive/Colab Notebooks/Mini-Project/{output_save_name}\"\n",
        "np.savetxt(path_out, np_test_out, fmt='%d')"
      ],
      "execution_count": 0,
      "outputs": []
    }
  ]
}