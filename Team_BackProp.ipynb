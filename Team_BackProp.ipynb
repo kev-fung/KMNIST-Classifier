{
  "nbformat": 4,
  "nbformat_minor": 0,
  "metadata": {
    "colab": {
      "name": "Team_BackProp.ipynb",
      "version": "0.3.2",
      "provenance": [],
      "collapsed_sections": [
        "0BUjqiFCAoAb",
        "AeK_f_DuyoeN",
        "XMp-qxiyAwLO",
        "NexrLXziyuBn",
        "Xg2_MQndzlnz",
        "4pxzJtTE1BF0",
        "rexhWjRYy71X",
        "bMSyyXEsA1OF",
        "TrW2caLupYqs",
        "Ud477csup2v7",
        "iNb6SrStmUjk",
        "dSYbi6kRmrLM",
        "MGyT7utqloZq",
        "fg-oQq6v7rEk",
        "d2bWXzcG7o8k",
        "MLqQbdZDp0tF",
        "VCvH4HlUe6hm",
        "LcGh6JpptkPt",
        "T0kDy5eRtoOM",
        "GKWQs_-5tqhd",
        "7VvUj4Z3tsr_"
      ],
      "toc_visible": true
    },
    "kernelspec": {
      "name": "python3",
      "display_name": "Python 3"
    },
    "accelerator": "GPU"
  },
  "cells": [
    {
      "cell_type": "markdown",
      "metadata": {
        "id": "GyKbeDHPxXYh",
        "colab_type": "text"
      },
      "source": [
        "# Team BackProp - Data Science Notebook\n",
        "\n",
        "During exploration of the neural architecture, we used copies of this notebook to be able to easily process data whilst keeping our models intact. \n",
        "\n",
        "The general overview of the data modelling pipeline is as follows:\n",
        "\n",
        "1. Import KMNIST Data\n",
        "2. Data preprocess and augmentate\n",
        "3. Develop neural network model\n",
        "4. Cross validate model\n",
        "    - At this stage we decide whether to keep the model for full training or remodify the network again to improve it.\n",
        "5. Hyperparameter Tuning\n",
        "6. Train on the full dataset\n",
        "7. Save model and Submission\n"
      ]
    },
    {
      "cell_type": "code",
      "metadata": {
        "id": "NPZJdQrwmPYZ",
        "colab_type": "code",
        "colab": {}
      },
      "source": [
        "!pip install pycm livelossplot\n",
        "%pylab inline"
      ],
      "execution_count": 0,
      "outputs": []
    },
    {
      "cell_type": "markdown",
      "metadata": {
        "id": "0BUjqiFCAoAb",
        "colab_type": "text"
      },
      "source": [
        "## Pipeline Preparation"
      ]
    },
    {
      "cell_type": "markdown",
      "metadata": {
        "id": "AeK_f_DuyoeN",
        "colab_type": "text"
      },
      "source": [
        "### Import Modules"
      ]
    },
    {
      "cell_type": "code",
      "metadata": {
        "id": "rmRx8ivmoKxj",
        "colab_type": "code",
        "outputId": "aaa0dcee-2384-4bff-facc-f09bfe6f3b10",
        "colab": {
          "base_uri": "https://localhost:8080/",
          "height": 35
        }
      },
      "source": [
        "from sklearn.metrics import accuracy_score\n",
        "from sklearn.model_selection import StratifiedShuffleSplit\n",
        "\n",
        "from livelossplot import PlotLosses\n",
        "from pycm import *\n",
        "\n",
        "import torch\n",
        "import torch.nn as nn\n",
        "import torch.nn.functional as F\n",
        "import csv\n",
        "from torch.utils.data import TensorDataset, DataLoader\n",
        "import torchvision.transforms as transforms\n",
        "from torchvision.datasets import CIFAR10\n",
        "from torch.utils.data import Dataset \n",
        "from torchvision.transforms import Compose, ToTensor, Normalize, RandomRotation, ToPILImage, RandomResizedCrop, RandomAffine\n",
        "import random\n",
        "import itertools\n",
        "from sklearn.model_selection import StratifiedKFold\n",
        "import pickle\n",
        "\n",
        "def set_seed(seed):\n",
        "    \"\"\"\n",
        "    Use this to set ALL the random seeds to a fixed value and take out any randomness from cuda kernels\n",
        "    \"\"\"\n",
        "    random.seed(seed)\n",
        "    np.random.seed(seed)\n",
        "    torch.manual_seed(seed)\n",
        "    torch.cuda.manual_seed_all(seed)\n",
        "\n",
        "    torch.backends.cudnn.benchmark = False  ##uses the inbuilt cudnn auto-tuner to find the fastest convolution algorithms. -\n",
        "    torch.backends.cudnn.enabled   = False\n",
        "\n",
        "    return True\n",
        "\n",
        "device = 'cpu'\n",
        "if torch.cuda.device_count() > 0 and torch.cuda.is_available():\n",
        "    print(\"Cuda installed! Running on GPU!\")\n",
        "    device = 'cuda'\n",
        "else:\n",
        "    print(\"No GPU available!\")"
      ],
      "execution_count": 3,
      "outputs": [
        {
          "output_type": "stream",
          "text": [
            "Cuda installed! Running on GPU!\n"
          ],
          "name": "stdout"
        }
      ]
    },
    {
      "cell_type": "code",
      "metadata": {
        "id": "1AwfMUJGoM8C",
        "colab_type": "code",
        "outputId": "0c047b37-11cc-41d5-f43d-a5beb44b5008",
        "colab": {
          "base_uri": "https://localhost:8080/",
          "height": 33
        }
      },
      "source": [
        "from google.colab import drive\n",
        "drive.mount('/content/gdrive/')"
      ],
      "execution_count": 0,
      "outputs": [
        {
          "output_type": "stream",
          "text": [
            "Drive already mounted at /content/gdrive/; to attempt to forcibly remount, call drive.mount(\"/content/gdrive/\", force_remount=True).\n"
          ],
          "name": "stdout"
        }
      ]
    },
    {
      "cell_type": "markdown",
      "metadata": {
        "id": "XMp-qxiyAwLO",
        "colab_type": "text"
      },
      "source": [
        "### Import KMNIST Dataset"
      ]
    },
    {
      "cell_type": "code",
      "metadata": {
        "id": "yUPcM99Nmk_x",
        "colab_type": "code",
        "colab": {}
      },
      "source": [
        "# Load in the datasets\n",
        "X_train_orig = np.load(F\"/content/gdrive/My Drive/Colab Notebooks/Mini-Project/acse-module-8-19/kmnist-train-imgs.npy\") /255\n",
        "y_train_orig = np.load(F\"/content/gdrive/My Drive/Colab Notebooks/Mini-Project/acse-module-8-19/kmnist-train-labels.npy\")\n",
        "X_test_orig = np.load(F\"/content/gdrive/My Drive/Colab Notebooks/Mini-Project/acse-module-8-19/kmnist-test-imgs.npy\") /255"
      ],
      "execution_count": 0,
      "outputs": []
    },
    {
      "cell_type": "code",
      "metadata": {
        "id": "t3r09aK-nZUH",
        "colab_type": "code",
        "colab": {}
      },
      "source": [
        "# Load in the classmap as a dictionary\n",
        "classmap = {}\n",
        "with open('/content/gdrive/My Drive/Colab Notebooks/Mini-Project/acse-module-8-19/kmnist_classmap.csv', 'r') as csvfile:\n",
        "   spamreader = csv.reader(csvfile, delimiter=',')\n",
        "   next(spamreader)\n",
        "   for row in spamreader:\n",
        "       classmap[row[0]] = row[2]"
      ],
      "execution_count": 0,
      "outputs": []
    },
    {
      "cell_type": "code",
      "metadata": {
        "id": "SZ_PzPsjp5wN",
        "colab_type": "code",
        "outputId": "227fc236-96ca-43c7-8fed-f1980960e66c",
        "colab": {
          "base_uri": "https://localhost:8080/",
          "height": 285
        }
      },
      "source": [
        "# Check if we imported correctly\n",
        "plt.imshow(X_train_orig[104])"
      ],
      "execution_count": 0,
      "outputs": [
        {
          "output_type": "execute_result",
          "data": {
            "text/plain": [
              "<matplotlib.image.AxesImage at 0x7fbed439dd30>"
            ]
          },
          "metadata": {
            "tags": []
          },
          "execution_count": 29
        },
        {
          "output_type": "display_data",
          "data": {
            "image/png": "[encoded data removed]",
            "text/plain": [
              "<Figure size 432x288 with 1 Axes>"
            ]
          },
          "metadata": {
            "tags": []
          }
        }
      ]
    },
    {
      "cell_type": "markdown",
      "metadata": {
        "id": "NexrLXziyuBn",
        "colab_type": "text"
      },
      "source": [
        "## Processing Functions"
      ]
    },
    {
      "cell_type": "markdown",
      "metadata": {
        "id": "Xg2_MQndzlnz",
        "colab_type": "text"
      },
      "source": [
        "### Train, Validate and Evaluate Functions"
      ]
    },
    {
      "cell_type": "code",
      "metadata": {
        "id": "eqSyDu7jy0l5",
        "colab_type": "code",
        "colab": {}
      },
      "source": [
        "def train(model, optimizer, criterion, data_loader):\n",
        "    model.train()\n",
        "    train_loss, train_accuracy = 0, 0\n",
        "    for X, y in data_loader:\n",
        "        X, y = X.to(device), y.to(device)\n",
        "        optimizer.zero_grad()\n",
        "        \n",
        "        # the dimension here was changed to match our KMNIST's dimension\n",
        "        a2 = model(X.view(-1, 1, 28, 28).float()) \n",
        "        \n",
        "        loss = criterion(a2, y)\n",
        "        loss.backward()\n",
        "        train_loss += loss*X.size(0)\n",
        "        y_pred = F.log_softmax(a2, dim=1).max(1)[1]\n",
        "        train_accuracy += accuracy_score(y.cpu().numpy(), y_pred.detach().cpu().numpy())*X.size(0)\n",
        "        optimizer.step()  \n",
        "        \n",
        "    return train_loss/len(data_loader.dataset), train_accuracy/len(data_loader.dataset)\n",
        "  \n",
        "def validate(model, criterion, data_loader):\n",
        "    model.eval()\n",
        "    validation_loss, validation_accuracy = 0., 0.\n",
        "    for X, y in data_loader:\n",
        "        with torch.no_grad():\n",
        "            X, y = X.to(device), y.to(device)\n",
        "            \n",
        "            # the dimension here was changed to match our KMNIST's dimension\n",
        "            a2 = model(X.view(-1, 1, 28, 28).float())\n",
        "            \n",
        "            loss = criterion(a2, y)\n",
        "            validation_loss += loss*X.size(0)\n",
        "            y_pred = F.log_softmax(a2, dim=1).max(1)[1]\n",
        "            validation_accuracy += accuracy_score(y.cpu().numpy(), y_pred.cpu().numpy())*X.size(0)\n",
        "            \n",
        "    return validation_loss/len(data_loader.dataset), validation_accuracy/len(data_loader.dataset)\n",
        "  \n",
        "def evaluate(model, data_loader):\n",
        "    model.eval()\n",
        "    ys, y_preds = [], []\n",
        "    for X, y in data_loader:\n",
        "        with torch.no_grad():\n",
        "            X, y = X.to(device), y.to(device)\n",
        "            \n",
        "            # the dimension here was changed to match our KMNIST's dimension\n",
        "            a2 = model(X.view(-1, 1, 28, 28).float())\n",
        "            \n",
        "            y_pred = F.log_softmax(a2, dim=1).max(1)[1]\n",
        "            ys.append(y.cpu().numpy())\n",
        "            y_preds.append(y_pred.cpu().numpy())\n",
        "            \n",
        "    return np.concatenate(y_preds, 0),  np.concatenate(ys, 0)"
      ],
      "execution_count": 0,
      "outputs": []
    },
    {
      "cell_type": "markdown",
      "metadata": {
        "id": "4pxzJtTE1BF0",
        "colab_type": "text"
      },
      "source": [
        "### Training Model Function"
      ]
    },
    {
      "cell_type": "code",
      "metadata": {
        "id": "AfDvaqlj1Ec7",
        "colab_type": "code",
        "colab": {}
      },
      "source": [
        "def train_model(wd, lrt, model, train_loader, validate_loader):\n",
        "  set_seed(seed)\n",
        "  model = model.to(device)\n",
        "  optimizer = torch.optim.Adam(model.parameters(), lr=lrt, betas=(0.9, 0.999), eps=1e-08, weight_decay=wd, amsgrad=False)\n",
        "  criterion = nn.CrossEntropyLoss()\n",
        "  \n",
        "  liveloss = PlotLosses()\n",
        "  for epoch in range(n_epochs):\n",
        "      logs = {}\n",
        "      train_loss, train_accuracy = train(model, optimizer, criterion, train_loader)\n",
        "      logs['' + 'log loss'] = train_loss.item()\n",
        "      logs['' + 'accuracy'] = train_accuracy.item()\n",
        "\n",
        "      validation_loss, validation_accuracy = validate(model, criterion, validate_loader)\n",
        "      logs['val_' + 'log loss'] = validation_loss.item()\n",
        "      logs['val_' + 'accuracy'] = validation_accuracy.item()\n",
        "\n",
        "      liveloss.update(logs)\n",
        "      liveloss.draw()\n",
        "\n",
        "  return liveloss, validation_loss, validation_accuracy"
      ],
      "execution_count": 0,
      "outputs": []
    },
    {
      "cell_type": "markdown",
      "metadata": {
        "id": "rexhWjRYy71X",
        "colab_type": "text"
      },
      "source": [
        "### K-Fold Validation Function"
      ]
    },
    {
      "cell_type": "code",
      "metadata": {
        "id": "N6FQzIZ_zDKt",
        "colab_type": "code",
        "colab": {}
      },
      "source": [
        "def kfold_datasets(n_splits, X_train_orig, y_train_orig, trans=True, verbatim=False):\n",
        "  '''Wrapper function that returns a list of train/val datasets which have been \n",
        "     subjected to the KFold method. \n",
        "  '''\n",
        "  \n",
        "  kf = StratifiedKFold(n_splits=n_splits, shuffle=True, random_state=42)\n",
        "\n",
        "  fold_train_loader = [] # list of shuffled training dataloaders\n",
        "  fold_validation_loader = [] # list of shuffled validation dataloaders\n",
        "\n",
        "  for train_index, test_index in kf.split(X_train_orig, y_train_orig):\n",
        "    if verbatim: print(\"TRAIN:\", train_index, \"Validation:\", test_index)\n",
        "    X_train, X_val = X_train_orig[train_index], X_train_orig[test_index]\n",
        "    y_train, y_val = y_train_orig[train_index], y_train_orig[test_index]\n",
        "\n",
        "    if verbatim: print(\"train size:\", X_train.shape, \"test size:\", X_val.shape)\n",
        "\n",
        "    # Convert to tensor\n",
        "    X_train, y_train = torch.from_numpy(X_train).float(), torch.from_numpy(y_train)\n",
        "    X_val, y_val = torch.from_numpy(X_val).float(), torch.from_numpy(y_val)\n",
        "    \n",
        "    # Find mean std\n",
        "    mean1, std1 = torch.mean(X_train), torch.std(X_train)\n",
        "\n",
        "    # make Custom set\n",
        "    train_dataset = CustomImageTensorDataset(X_train, y_train.long(), transform=trans, mean=mean1, std=std1)\n",
        "    validation_dataset = CustomImageTensorDataset(X_val, y_val.long(), transform=False, mean=mean1, std=std1)\n",
        "\n",
        "    # initialize the data-loaders\n",
        "    fold_train_loader.append(DataLoader(train_dataset, batch_size=batch_size, shuffle=True, num_workers=4))\n",
        "    fold_validation_loader.append(DataLoader(validation_dataset, batch_size=test_batch_size, shuffle=False, num_workers=0))\n",
        "    \n"
      ],
      "execution_count": 0,
      "outputs": []
    },
    {
      "cell_type": "code",
      "metadata": {
        "id": "5NN7nOVyzxdv",
        "colab_type": "code",
        "colab": {}
      },
      "source": [
        "def train_model_kfold(wd, lrt, fold_train_loader, fold_validation_loader):\n",
        "  \"\"\" function to easily train the model with weight_decay as input parameter.\n",
        "  \n",
        "      HOW TO RUN THE FUNCTION:\n",
        "      fold_train_loader, fold_validation_loader = kfold_datasets(5, X_train_orig, y_train_orig, False)\n",
        "      lloss, loss, acc = train_model_kfold(weight_decay[3], fold_train_loader, fold_validation_loader)\n",
        "  \"\"\"\n",
        "  \n",
        "  fold_liveloss = []\n",
        "  fold_loss = 0.\n",
        "  fold_acc = 0.\n",
        "  for fold in range(len(fold_train_loader)):\n",
        "    # CHANGE THE MODEL HERE:\n",
        "    model = LeNet5()\n",
        "\n",
        "    liveloss, val_loss, val_acc = train_model(wd, lrt, model, fold_train_loader[fold], fold_validation_loader[fold])\n",
        "    fold_liveloss.append(liveloss)\n",
        "    fold_loss += val_loss\n",
        "    fold_acc += val_acc\n",
        "    print(\"fold:\", fold)\n",
        "    \n",
        "  print(\"Averaged Accuracy: \", (fold_acc/len(fold_train_loader))*100)\n",
        "  return fold_liveloss, fold_loss, fold_acc"
      ],
      "execution_count": 0,
      "outputs": []
    },
    {
      "cell_type": "code",
      "metadata": {
        "id": "vjiHC9fU0lbK",
        "colab_type": "code",
        "colab": {}
      },
      "source": [
        ""
      ],
      "execution_count": 0,
      "outputs": []
    },
    {
      "cell_type": "markdown",
      "metadata": {
        "id": "bMSyyXEsA1OF",
        "colab_type": "text"
      },
      "source": [
        "## Image Preprocessing and Augmentation"
      ]
    },
    {
      "cell_type": "code",
      "metadata": {
        "id": "ZM8JjQRgsWMg",
        "colab_type": "code",
        "colab": {}
      },
      "source": [
        "class CustomImageTensorDataset(Dataset):\n",
        "    def __init__(self, data, targets, transform=None, mean=False, std=False):\n",
        "        \"\"\"\n",
        "        Args:\n",
        "            data (Tensor): A tensor containing the data e.g. images\n",
        "            targets (Tensor): A tensor containing all the labels\n",
        "            transform (callable, optional): Optional transform to be applied\n",
        "                on a sample.\n",
        "        \"\"\"\n",
        "        self.data = data.reshape(-1,1,28,28)\n",
        "        self.targets = targets\n",
        "        self.transform = transform\n",
        "\n",
        "        # Find mean and standard dev\n",
        "        self.mean = mean\n",
        "        self.std = std\n",
        "        \n",
        "        \n",
        "        self.Rotation = Compose([\n",
        "                                  ToPILImage(),\n",
        "                                   RandomRotation(10),\n",
        "                                   ToTensor(), Normalize(mean=[self.mean], std=[self.std])\n",
        "                                ])\n",
        "\n",
        "        self.RotandCrop = Compose([\n",
        "                                  ToPILImage(),\n",
        "                                   RandomResizedCrop(size=(28,28), scale=(0.8,1)),\n",
        "                                  ToTensor(), Normalize(mean=[self.mean], std=[self.std])\n",
        "                                 ])\n",
        "        \n",
        "        self.Affine = Compose([ToPILImage(),\n",
        "                                   RandomAffine(10, shear=10),\n",
        "                                   ToTensor(), Normalize(mean=[self.mean], std=[self.std])\n",
        "                                ])\n",
        " \n",
        "        \n",
        "        self.Norm = Compose([Normalize(mean=[self.mean], std=[self.std])\n",
        "                                 ])\n",
        "        \n",
        "\n",
        "    def __len__(self):\n",
        "        return len(self.data)\n",
        "\n",
        "    def __getitem__(self, idx):\n",
        "        sample, label = self.data[idx], self.targets[idx]\n",
        "        \n",
        "        assert (self.mean != False), \"Asign a mean\"\n",
        "        assert (self.mean != False), \"Asign a std\"\n",
        "        \n",
        "        if self.transform:\n",
        "            x = random.random()\n",
        "            if 0<= x<0.2: # rotate\n",
        "              sample = self.Rotation(sample)\n",
        "            if 0.2<= x<0.4: # resize crop\n",
        "              sample = self.RotandCrop(sample)\n",
        "            if 0.4<= x<0.7: # shear crop\n",
        "              sample= self.Affine(sample)\n",
        "              \n",
        "            else: # none\n",
        "              sample = self.Norm(sample)\n",
        "        else:\n",
        "           sample = self.Norm(sample)\n",
        "            \n",
        "        return sample, label"
      ],
      "execution_count": 0,
      "outputs": []
    },
    {
      "cell_type": "code",
      "metadata": {
        "id": "qBQNzrYJ7PEM",
        "colab_type": "code",
        "outputId": "c5b998b3-06c8-4e7d-8863-2d47adc2e1e8",
        "colab": {
          "base_uri": "https://localhost:8080/",
          "height": 620
        }
      },
      "source": [
        "# Check if our data augmentation/preprocessing works\n",
        "\n",
        "# Create a new custom image dataset:\n",
        "X_train, y_train = X_train_orig.astype(float), y_train_orig\n",
        "X_train, y_train = torch.from_numpy(X_train).float(), torch.from_numpy(y_train)\n",
        "mean1, std1 = torch.mean(X_train), torch.std(X_train)\n",
        "dset = CustomImageTensorDataset(X_train, y_train, transform=True, mean=mean1, std=std1 )\n",
        "\n",
        "# Make a dataloader to access the PIL images of a batch size of 25\n",
        "loader = DataLoader(dset, batch_size=25, shuffle=True)\n",
        "\n",
        "# Create an iter object to cycle through dataloader\n",
        "train_iter = iter(loader)\n",
        "imgs, labels = train_iter.next()\n",
        "\n",
        "print(imgs.shape)\n",
        "print('max:',imgs.max())\n",
        "\n",
        "# plot our batch of images with label names\n",
        "fig, axarr = plt.subplots(5,5,figsize=(8,8))\n",
        "fig.tight_layout()\n",
        "for img, label, axs in zip(imgs, labels, axarr.flatten()):\n",
        "    axs.set_title(classmap[str(label.numpy())] + \"   \" + str(label.numpy()))\n",
        "    axs.imshow(img.numpy()[0])"
      ],
      "execution_count": 0,
      "outputs": [
        {
          "output_type": "stream",
          "text": [
            "torch.Size([25, 1, 28, 28])\n",
            "max: tensor(6.1103)\n"
          ],
          "name": "stdout"
        },
        {
          "output_type": "display_data",
          "data": {
            "image/png": "[encoded data removed]",
            "text/plain": [
              "<Figure size 576x576 with 25 Axes>"
            ]
          },
          "metadata": {
            "tags": []
          }
        }
      ]
    },
    {
      "cell_type": "markdown",
      "metadata": {
        "id": "TrW2caLupYqs",
        "colab_type": "text"
      },
      "source": [
        "## 1. Model Development\n"
      ]
    },
    {
      "cell_type": "markdown",
      "metadata": {
        "id": "Ud477csup2v7",
        "colab_type": "text"
      },
      "source": [
        "\n",
        "### Architecture Analysis Models\n"
      ]
    },
    {
      "cell_type": "code",
      "metadata": {
        "id": "N-7Xk3rwp11R",
        "colab_type": "code",
        "colab": {}
      },
      "source": [
        "class AlexNet_Exp1(nn.Module):\n",
        "  \"\"\"Based on the AlexNet paper with the same number of layers and parameters \n",
        "      are rescaled down by 8x to fit with the original alexnet image size to \n",
        "      our kmnist size ratio (227:28)\n",
        "  \"\"\"\n",
        "  \n",
        "  def __init__(self):\n",
        "    super(AlexNet_Exp1, self).__init__()\n",
        "    self.conv_1 = nn.Conv2d(1, 6, kernel_size=11, stride=1, padding=3, bias=True)\n",
        "    self.pool_2 = nn.MaxPool2d(kernel_size=2)\n",
        "    self.conv_3 = nn.Conv2d(6, 16, kernel_size=5, stride=1, padding=2, bias=True)\n",
        "    self.pool_4 = nn.MaxPool2d(kernel_size=2)\n",
        "    self.conv_5 = nn.Conv2d(16, 24, kernel_size=5, stride=1, padding=2, bias=True)\n",
        "    self.conv_6 = nn.Conv2d(24, 24, kernel_size=3, stride=1, padding=2, bias=True)\n",
        "    self.conv_7 = nn.Conv2d(24, 16, kernel_size=3, stride=1, padding=2, bias=True)\n",
        "    self.pool_8 = nn.MaxPool2d(kernel_size=2)\n",
        "    self.linear_9 = nn.Linear(400, 256, bias=True)\n",
        "    self.output = nn.Linear(256, 10, bias=True)\n",
        "    #self.dout = nn.Dropout(p=0.25) #dropout added to prevent overfitting :0\n",
        "    self.act = nn.ReLU()\n",
        "    \n",
        "  def forward(self, x):\n",
        "    x = self.act(self.conv_1(x))\n",
        "    x = self.pool_2(x)\n",
        "    x = self.act(self.conv_3(x))\n",
        "    x = self.pool_4(x)\n",
        "    x = self.act(self.conv_5(x))\n",
        "    x = self.act(self.conv_6(x))\n",
        "    x = self.act(self.conv_7(x))\n",
        "    x = self.pool_8(x)\n",
        "    x = x.view(-1, x.size(1) * x.size(2) * x.size(3))\n",
        "    x = self.act(self.linear_9(x))\n",
        "    x = self.output(x) # Don't activate this output layer, we apply a softmax transformation in our training functions!\n",
        "    return x"
      ],
      "execution_count": 0,
      "outputs": []
    },
    {
      "cell_type": "code",
      "metadata": {
        "id": "zToYy7v-sgrH",
        "colab_type": "code",
        "colab": {}
      },
      "source": [
        "class AlexNet_Exp3(nn.Module):\n",
        "  \"\"\"Based on the AlexNet paper with the same number of layers and parameters \n",
        "      are rescaled down by 4x to better fit to the labels compared to 8x scaling\n",
        "  \"\"\"\n",
        "  \n",
        "  def __init__(self):\n",
        "    super(AlexNet_Exp3, self).__init__()\n",
        "    self.conv_1 = nn.Conv2d(1, 12, kernel_size=11, stride=1, padding=3, bias=True)\n",
        "    self.pool_2 = nn.MaxPool2d(kernel_size=2)\n",
        "    self.conv_3 = nn.Conv2d(12, 32, kernel_size=5, stride=1, padding=2, bias=True)\n",
        "    self.pool_4 = nn.MaxPool2d(kernel_size=2)\n",
        "    self.conv_5 = nn.Conv2d(32, 48, kernel_size=5, stride=1, padding=2, bias=True)\n",
        "    self.conv_6 = nn.Conv2d(48, 48, kernel_size=3, stride=1, padding=2, bias=True)\n",
        "    self.conv_7 = nn.Conv2d(48, 32, kernel_size=3, stride=1, padding=2, bias=True)\n",
        "    self.pool_8 = nn.MaxPool2d(kernel_size=2)\n",
        "    self.linear_9 = nn.Linear(800, 512, bias=True)\n",
        "    self.output = nn.Linear(512, 10, bias=True)\n",
        "    #self.dout = nn.Dropout(p=0.25) #dropout added to prevent overfitting :0\n",
        "    self.act = nn.ReLU()\n",
        "    \n",
        "  def forward(self, x):\n",
        "    x = self.act(self.conv_1(x))\n",
        "    x = self.pool_2(x)\n",
        "    x = self.act(self.conv_3(x))\n",
        "    x = self.pool_4(x)\n",
        "    x = self.act(self.conv_5(x))\n",
        "    x = self.act(self.conv_6(x))\n",
        "    x = self.act(self.conv_7(x))\n",
        "    x = self.pool_8(x)\n",
        "    x = x.view(-1, x.size(1) * x.size(2) * x.size(3))\n",
        "    x = self.act(self.linear_9(x))\n",
        "    x = self.output(x) # Don't activate this output layer, we apply a softmax transformation in our training functions!\n",
        "    return x"
      ],
      "execution_count": 0,
      "outputs": []
    },
    {
      "cell_type": "code",
      "metadata": {
        "id": "eG80gvW7U9sH",
        "colab_type": "code",
        "colab": {}
      },
      "source": [
        "class AlexNet_Exp4(nn.Module):\n",
        "  \"\"\"Based on the AlexNet paper with the same number of channels and layers \n",
        "      are rescaled down by 8x to fit with the original alexnet image size to \n",
        "      our kmnist size ratio (227:28)\n",
        "      \n",
        "      We have now provided a \"reasonable\" guess of the filters and paddings \n",
        "      \n",
        "  \"\"\"\n",
        "  \n",
        "  def __init__(self):\n",
        "    super(AlexNet_Exp4, self).__init__()\n",
        "    self.conv_1 = nn.Conv2d(1, 6, kernel_size=11, stride=1, padding=3, bias=True)\n",
        "    self.pool_2 = nn.MaxPool2d(kernel_size=2)\n",
        "    self.conv_3 = nn.Conv2d(6, 16, kernel_size=5, stride=1, padding=2, bias=True)\n",
        "    self.pool_4 = nn.MaxPool2d(kernel_size=2)\n",
        "    self.conv_5 = nn.Conv2d(16, 24, kernel_size=5, stride=1, padding=2, bias=True)\n",
        "    self.conv_6 = nn.Conv2d(24, 24, kernel_size=3, stride=1, padding=1, bias=True)\n",
        "    self.conv_7 = nn.Conv2d(24, 16, kernel_size=3, stride=1, padding=1, bias=True)\n",
        "    self.pool_8 = nn.MaxPool2d(kernel_size=2)\n",
        "    self.linear_9 = nn.Linear(144, 128, bias=True)\n",
        "    self.output = nn.Linear(128, 10, bias=True)\n",
        "    #self.dout = nn.Dropout(p=0.25) #dropout added to prevent overfitting :0\n",
        "    self.act = nn.ReLU()\n",
        "    \n",
        "  def forward(self, x):\n",
        "    x = self.act(self.conv_1(x))\n",
        "    x = self.pool_2(x)\n",
        "    x = self.act(self.conv_3(x))\n",
        "    x = self.pool_4(x)\n",
        "    x = self.act(self.conv_5(x))\n",
        "    x = self.act(self.conv_6(x))\n",
        "    x = self.act(self.conv_7(x))\n",
        "    x = self.pool_8(x)\n",
        "    x = x.view(-1, x.size(1) * x.size(2) * x.size(3))\n",
        "    x = self.act(self.linear_9(x))\n",
        "    x = self.output(x) # Don't activate this output layer, we apply a softmax transformation in our training functions!\n",
        "    return x"
      ],
      "execution_count": 0,
      "outputs": []
    },
    {
      "cell_type": "code",
      "metadata": {
        "id": "G9B3jjq2scot",
        "colab_type": "code",
        "colab": {}
      },
      "source": [
        "class AlexNet_Exp5(nn.Module):\n",
        "  \"\"\"Based on the AlexNet paper with the same number of layers and parameters \n",
        "      are rescaled down by 8x but with an addional convolutional layer \n",
        "  \"\"\"\n",
        "  \n",
        "  def __init__(self):\n",
        "    super(AlexNet_Exp5, self).__init__()\n",
        "    self.conv_1 = nn.Conv2d(1, 6, kernel_size=13, stride=1, padding=6, bias=True)\n",
        "    self.pool_2 = nn.MaxPool2d(kernel_size=2)\n",
        "    self.conv_3 = nn.Conv2d(6, 16, kernel_size=7, stride=1, padding=3, bias=True)\n",
        "    self.pool_4 = nn.MaxPool2d(kernel_size=2)\n",
        "    self.conv_5 = nn.Conv2d(16, 24, kernel_size=5, stride=1, padding=2, bias=True)\n",
        "    \n",
        "    # additional layer\n",
        "    self.conv_6 = nn.Conv2d(24, 24, kernel_size=5, stride=1, padding=2, bias=True)\n",
        "    \n",
        "    self.conv_7 = nn.Conv2d(24, 24, kernel_size=4, stride=1, padding=1, bias=True)\n",
        "    self.conv_8 = nn.Conv2d(24, 16, kernel_size=3, stride=1, padding=1, bias=True)\n",
        "    self.pool_9 = nn.MaxPool2d(kernel_size=2)\n",
        "    self.linear_10 = nn.Linear(144, 100, bias=True)\n",
        "    self.output = nn.Linear(100, 10, bias=True)\n",
        "    \n",
        "    #self.dout = nn.Dropout(p=0.25) #dropout added to prevent overfitting :0\n",
        "    self.act = nn.ReLU()\n",
        "    \n",
        "    \n",
        "  def forward(self, x):\n",
        "    x = self.act(self.conv_1(x))\n",
        "    x = self.pool_2(x)\n",
        "    x = self.act(self.conv_3(x))\n",
        "    x = self.pool_4(x)\n",
        "    x = self.act(self.conv_5(x))\n",
        "    \n",
        "    x = self.act(self.conv_6(x))\n",
        "    \n",
        "    x = self.act(self.conv_7(x))\n",
        "    x = self.act(self.conv_8(x))\n",
        "    x = self.pool_9(x)\n",
        "    x = x.view(-1, x.size(1) * x.size(2) * x.size(3))\n",
        "    x = self.act(self.linear_10(x))\n",
        "    x = self.output(x) # Don't activate this output layer, we apply a softmax transformation in our training functions!\n",
        "    return x"
      ],
      "execution_count": 0,
      "outputs": []
    },
    {
      "cell_type": "code",
      "metadata": {
        "id": "SQ_3_vYFFgM4",
        "colab_type": "code",
        "colab": {}
      },
      "source": [
        "class AlexNet_Exp6(nn.Module):\n",
        "  \"\"\" Based on the AlexNet paper with the same number of channels and layers \n",
        "      are rescaled down by 4x to fit with the original alexnet image size to \n",
        "      our kmnist size ratio (227:28)\n",
        "      \n",
        "      We have now provided a \"reasonable\" guess of the filters and paddings \n",
        "      \n",
        "  \"\"\"\n",
        "  \n",
        "  def __init__(self):\n",
        "    super(AlexNet_Exp6, self).__init__()\n",
        "    self.conv_1 = nn.Conv2d(1, 12, kernel_size=11, stride=1, padding=3, bias=True)\n",
        "    self.pool_2 = nn.MaxPool2d(kernel_size=2)\n",
        "    self.conv_3 = nn.Conv2d(12, 32, kernel_size=5, stride=1, padding=2, bias=True)\n",
        "    self.pool_4 = nn.MaxPool2d(kernel_size=2)\n",
        "    self.conv_5 = nn.Conv2d(32, 48, kernel_size=5, stride=1, padding=2, bias=True)\n",
        "    self.conv_6 = nn.Conv2d(48, 48, kernel_size=3, stride=1, padding=1, bias=True)\n",
        "    self.conv_7 = nn.Conv2d(48, 32, kernel_size=3, stride=1, padding=1, bias=True)\n",
        "    self.pool_8 = nn.MaxPool2d(kernel_size=2)\n",
        "    self.linear_9 = nn.Linear(288, 200, bias=True)\n",
        "    self.output = nn.Linear(200, 10, bias=True)\n",
        "    #self.dout = nn.Dropout(p=0.25) #dropout added to prevent overfitting :0\n",
        "    self.act = nn.ReLU()\n",
        "    \n",
        "  def forward(self, x):\n",
        "    x = self.act(self.conv_1(x))\n",
        "    x = self.pool_2(x)\n",
        "    x = self.act(self.conv_3(x))\n",
        "    x = self.pool_4(x)\n",
        "    x = self.act(self.conv_5(x))\n",
        "    x = self.act(self.conv_6(x))\n",
        "    x = self.act(self.conv_7(x))\n",
        "    x = self.pool_8(x)\n",
        "    x = x.view(-1, x.size(1) * x.size(2) * x.size(3))\n",
        "    x = self.act(self.linear_9(x))\n",
        "    x = self.output(x) # Don't activate this output layer, we apply a softmax transformation in our training functions!\n",
        "    return x"
      ],
      "execution_count": 0,
      "outputs": []
    },
    {
      "cell_type": "code",
      "metadata": {
        "id": "SD0WhU72wmri",
        "colab_type": "code",
        "colab": {}
      },
      "source": [
        "class AlexNet_Exp7(nn.Module):\n",
        "  \"\"\"Based on the AlexNet paper with the same number of channels and layers \n",
        "      are rescaled down by 8x to fit with the original alexnet image size to \n",
        "      our kmnist size ratio (227:28)\n",
        "      \n",
        "      +1 classification layer\n",
        "      \n",
        "      We provided a \"reasonable\" guess of the filters\n",
        "      \n",
        "  \"\"\"\n",
        "  \n",
        "  def __init__(self):\n",
        "    super(AlexNet_Exp7, self).__init__()\n",
        "    self.conv_1 = nn.Conv2d(1, 6, kernel_size=11, stride=1, padding=3, bias=True)\n",
        "    self.pool_2 = nn.MaxPool2d(kernel_size=2)\n",
        "    self.conv_3 = nn.Conv2d(6, 16, kernel_size=5, stride=1, padding=2, bias=True)\n",
        "    self.pool_4 = nn.MaxPool2d(kernel_size=2)\n",
        "    self.conv_5 = nn.Conv2d(16, 24, kernel_size=5, stride=1, padding=2, bias=True)\n",
        "    self.conv_6 = nn.Conv2d(24, 24, kernel_size=3, stride=1, padding=1, bias=True)\n",
        "    self.conv_7 = nn.Conv2d(24, 16, kernel_size=3, stride=1, padding=1, bias=True)\n",
        "    self.pool_8 = nn.MaxPool2d(kernel_size=2)\n",
        "    self.linear_9 = nn.Linear(144, 100, bias=True)\n",
        "    self.linear_10 = nn.Linear(100, 70, bias=True)\n",
        "    self.output = nn.Linear(70, 10, bias=True)\n",
        "    #self.dout = nn.Dropout(p=0.25) #dropout added to prevent overfitting :0\n",
        "    self.act = nn.ReLU()\n",
        "    \n",
        "  def forward(self, x):\n",
        "    x = self.act(self.conv_1(x))\n",
        "    x = self.pool_2(x)\n",
        "    x = self.act(self.conv_3(x))\n",
        "    x = self.pool_4(x)\n",
        "    x = self.act(self.conv_5(x))\n",
        "    x = self.act(self.conv_6(x))\n",
        "    x = self.act(self.conv_7(x))\n",
        "    x = self.pool_8(x)\n",
        "    x = x.view(-1, x.size(1) * x.size(2) * x.size(3))\n",
        "    x = self.act(self.linear_9(x))\n",
        "    x = self.act(self.linear_10(x))\n",
        "    x = self.output(x) # Don't activate this output layer, we apply a softmax transformation in our training functions!\n",
        "    return x"
      ],
      "execution_count": 0,
      "outputs": []
    },
    {
      "cell_type": "code",
      "metadata": {
        "id": "yg1NAO0w07E7",
        "colab_type": "code",
        "colab": {}
      },
      "source": [
        "class AlexNet_Exp8(nn.Module):\n",
        "  \"\"\"Based on the AlexNet paper: Modified the each part of the network\n",
        "      +1 Conv layer\n",
        "      +4 Classification layers\n",
        "      +x4 parameters\n",
        "      We have used a \"reasonable\" guess of the filters \n",
        "      \n",
        "  \"\"\"\n",
        "  \n",
        "  def __init__(self):\n",
        "    super(AlexNet_Exp8, self).__init__()\n",
        "    # Convolutional Layers\n",
        "    self.conv_1 = nn.Conv2d(1, 12, kernel_size=13, stride=1, padding=6, bias=True)\n",
        "    self.pool_2 = nn.MaxPool2d(kernel_size=2)\n",
        "    self.conv_3 = nn.Conv2d(12, 32, kernel_size=7, stride=1, padding=3, bias=True)\n",
        "    self.pool_4 = nn.MaxPool2d(kernel_size=2)\n",
        "    self.conv_5 = nn.Conv2d(32, 48, kernel_size=5, stride=1, padding=2, bias=True)\n",
        "    self.conv_6 = nn.Conv2d(48, 48, kernel_size=5, stride=1, padding=2, bias=True)    \n",
        "    self.conv_7 = nn.Conv2d(48, 48, kernel_size=4, stride=1, padding=1, bias=True)\n",
        "    self.conv_8 = nn.Conv2d(48, 32, kernel_size=3, stride=1, padding=1, bias=True)\n",
        "    self.pool_9 = nn.MaxPool2d(kernel_size=2)\n",
        "    \n",
        "    # Classification Layers\n",
        "    self.linear_10 = nn.Linear(288, 200, bias=True)\n",
        "    self.linear_11 = nn.Linear(200, 130, bias=True)\n",
        "    self.linear_12 = nn.Linear(130, 90, bias=True)\n",
        "    self.linear_13 = nn.Linear(90, 60, bias=True)\n",
        "    self.linear_14 = nn.Linear(60, 30, bias=True)\n",
        "    self.output = nn.Linear(30, 10, bias=True)\n",
        "    \n",
        "    #self.dout = nn.Dropout(p=0.25) #dropout added to prevent overfitting :0\n",
        "    self.act = nn.ReLU()\n",
        "    \n",
        "    \n",
        "  def forward(self, x):\n",
        "    x = self.act(self.conv_1(x))\n",
        "    x = self.pool_2(x)\n",
        "    x = self.act(self.conv_3(x))\n",
        "    x = self.pool_4(x)\n",
        "    x = self.act(self.conv_5(x))\n",
        "    x = self.act(self.conv_6(x))\n",
        "    x = self.act(self.conv_7(x))\n",
        "    x = self.act(self.conv_8(x))\n",
        "    x = self.pool_9(x)\n",
        "    x = x.view(-1, x.size(1) * x.size(2) * x.size(3))\n",
        "    x = self.act(self.linear_10(x))\n",
        "    x = self.act(self.linear_11(x))\n",
        "    x = self.act(self.linear_12(x))\n",
        "    x = self.act(self.linear_13(x))\n",
        "    x = self.act(self.linear_14(x))\n",
        "    x = self.output(x) # Don't activate this output layer, we apply a softmax transformation in our training functions!\n",
        "    return x"
      ],
      "execution_count": 0,
      "outputs": []
    },
    {
      "cell_type": "code",
      "metadata": {
        "id": "pTkKwEBHA3TO",
        "colab_type": "code",
        "colab": {}
      },
      "source": [
        "class AlexNet_Exp12(nn.Module):\n",
        "  \"\"\"Based on the AlexNet paper: Modified the each part of the network\n",
        "      +1 Conv layer\n",
        "      +5 Classification layers\n",
        "      +x2 parameters - only halved the original params!\n",
        "      We have used a \"reasonable\" guess of the filters \n",
        "      Added batch norm\n",
        "      Added drop out\n",
        "      \n",
        "  \"\"\"\n",
        "  \n",
        "  def __init__(self):\n",
        "    super(AlexNet_Exp12, self).__init__()\n",
        "    # Convolutional Layers\n",
        "    self.conv_1 = nn.Conv2d(1, 24, kernel_size=13, stride=1, padding=6, bias=True)\n",
        "    self.pool_2 = nn.MaxPool2d(kernel_size=2)\n",
        "    self.conv_3 = nn.Conv2d(24, 64, kernel_size=7, stride=1, padding=3, bias=True)\n",
        "    self.pool_4 = nn.MaxPool2d(kernel_size=2)\n",
        "    self.conv_5 = nn.Conv2d(64, 96, kernel_size=5, stride=1, padding=2, bias=True)\n",
        "    self.conv_6 = nn.Conv2d(96, 96, kernel_size=5, stride=1, padding=2, bias=True)    \n",
        "    self.conv_7 = nn.Conv2d(96, 96, kernel_size=4, stride=1, padding=1, bias=True)\n",
        "    self.conv_8 = nn.Conv2d(96, 64, kernel_size=3, stride=1, padding=1, bias=True)\n",
        "    self.pool_9 = nn.MaxPool2d(kernel_size=2)\n",
        "    \n",
        "    # Classification Layers\n",
        "    self.linear_10 = nn.Linear(576, 384, bias=True)\n",
        "    self.linear_11 = nn.Linear(384, 192, bias=True)\n",
        "    self.linear_12 = nn.Linear(192, 128, bias=True)\n",
        "    self.linear_13 = nn.Linear(128, 85, bias=True)\n",
        "    self.linear_14 = nn.Linear(85, 42, bias=True)\n",
        "    self.linear_15 = nn.Linear(42, 21, bias=True)\n",
        "    self.output = nn.Linear(21, 10, bias=True)\n",
        "    \n",
        "    # Batch Normalization\n",
        "    self.b1 = nn.BatchNorm2d(24)\n",
        "    self.b3 = nn.BatchNorm2d(64)\n",
        "    self.b5 = nn.BatchNorm2d(96)\n",
        "    self.b6 = nn.BatchNorm2d(96)\n",
        "    self.b7 = nn.BatchNorm2d(96)\n",
        "    self.b8 = nn.BatchNorm2d(64)\n",
        "    \n",
        "    self.dout = nn.Dropout(p=0.25) #dropout added to prevent overfitting :0\n",
        "    self.act = nn.ReLU()\n",
        "    \n",
        "    \n",
        "  def forward(self, x):\n",
        "    x = self.act(self.b1(self.conv_1(x)))\n",
        "    x = self.pool_2(x)\n",
        "    x = self.act(self.b3(self.conv_3(x)))\n",
        "    x = self.pool_4(x)\n",
        "    x = self.act(self.b5(self.conv_5(x)))\n",
        "    x = self.act(self.b6(self.conv_6(x)))\n",
        "    x = self.act(self.b7(self.conv_7(x)))\n",
        "    x = self.act(self.b8(self.conv_8(x)))\n",
        "    x = self.pool_9(x)\n",
        "    x = x.view(-1, x.size(1) * x.size(2) * x.size(3))\n",
        "    x = self.act(self.dout(self.linear_10(x)))\n",
        "    x = self.act(self.dout(self.linear_11(x)))\n",
        "    x = self.act(self.dout(self.linear_12(x)))\n",
        "    x = self.act(self.dout(self.linear_13(x)))\n",
        "    x = self.act(self.dout(self.linear_14(x)))\n",
        "    x = self.act(self.dout(self.linear_15(x)))\n",
        "    x = self.output(x) # Don't activate this output layer, we apply a softmax transformation in our training functions!\n",
        "    return x"
      ],
      "execution_count": 0,
      "outputs": []
    },
    {
      "cell_type": "code",
      "metadata": {
        "id": "kWwKvQJlGBgw",
        "colab_type": "code",
        "colab": {}
      },
      "source": [
        "class AlexNet_Exp24(nn.Module):\n",
        "  \"\"\"Based on the AlexNet paper: Modified the each part of the network\n",
        "      +1 Conv layer\n",
        "      +5 Classification layers\n",
        "      +x2 parameters - only halved the original params!\n",
        "      We have used a \"reasonable\" guess of the filters \n",
        "      Added batch norm\n",
        "      Added drop out\n",
        "      \n",
        "  \"\"\"\n",
        "  \n",
        "  def __init__(self):\n",
        "    super(AlexNet_Exp24, self).__init__()\n",
        "    # Convolutional Layers\n",
        "    self.conv_1 = nn.Conv2d(1, 16, kernel_size=13, stride=1, padding=6, bias=True)\n",
        "    self.pool_2 = nn.MaxPool2d(kernel_size=2)\n",
        "    self.conv_3 = nn.Conv2d(16, 42, kernel_size=7, stride=1, padding=3, bias=True)\n",
        "    self.pool_4 = nn.MaxPool2d(kernel_size=2)\n",
        "    self.conv_5 = nn.Conv2d(42, 64, kernel_size=5, stride=1, padding=2, bias=True)\n",
        "    self.conv_6 = nn.Conv2d(64, 64, kernel_size=5, stride=1, padding=2, bias=True)    \n",
        "    self.conv_7 = nn.Conv2d(64, 64, kernel_size=4, stride=1, padding=1, bias=True)\n",
        "    self.conv_8 = nn.Conv2d(64, 42, kernel_size=3, stride=1, padding=1, bias=True)\n",
        "    self.pool_9 = nn.MaxPool2d(kernel_size=2)\n",
        "    \n",
        "    # Classification Layers\n",
        "    self.linear_10 = nn.Linear(378, 252, bias=True)\n",
        "    self.linear_11 = nn.Linear(252, 126, bias=True)\n",
        "    self.linear_12 = nn.Linear(126, 84, bias=True)\n",
        "    self.linear_13 = nn.Linear(84, 42, bias=True)\n",
        "    self.linear_14 = nn.Linear(42, 21, bias=True)\n",
        "    self.output = nn.Linear(21, 10, bias=True)\n",
        "    \n",
        "    # Batch Normalization\n",
        "    self.b1 = nn.BatchNorm2d(16)\n",
        "    self.b3 = nn.BatchNorm2d(42)\n",
        "    self.b5 = nn.BatchNorm2d(64)\n",
        "    self.b6 = nn.BatchNorm2d(64)\n",
        "    self.b7 = nn.BatchNorm2d(64)\n",
        "    self.b8 = nn.BatchNorm2d(42)\n",
        "    \n",
        "    self.dout = nn.Dropout(p=0.5) #dropout added to prevent overfitting :0\n",
        "    self.act = nn.ReLU()\n",
        "    \n",
        "    \n",
        "  def forward(self, x):\n",
        "    x = self.act(self.b1(self.conv_1(x)))\n",
        "    x = self.pool_2(x)\n",
        "    x = self.act(self.b3(self.conv_3(x)))\n",
        "    x = self.pool_4(x)\n",
        "    x = self.act(self.b5(self.conv_5(x)))\n",
        "    x = self.act(self.b6(self.conv_6(x)))\n",
        "    x = self.act(self.b7(self.conv_7(x)))\n",
        "    x = self.act(self.b8(self.conv_8(x)))\n",
        "    x = self.pool_9(x)\n",
        "    x = x.view(-1, x.size(1) * x.size(2) * x.size(3))\n",
        "    x = self.act(self.dout(self.linear_10(x)))\n",
        "    x = self.act(self.dout(self.linear_11(x)))\n",
        "    x = self.act(self.dout(self.linear_12(x)))\n",
        "    x = self.act(self.dout(self.linear_13(x)))\n",
        "    x = self.act(self.dout(self.linear_14(x)))\n",
        "    x = self.output(x) # Don't activate this output layer, we apply a softmax transformation in our training functions!\n",
        "    return x"
      ],
      "execution_count": 0,
      "outputs": []
    },
    {
      "cell_type": "markdown",
      "metadata": {
        "id": "iNb6SrStmUjk",
        "colab_type": "text"
      },
      "source": [
        "### Final Model"
      ]
    },
    {
      "cell_type": "code",
      "metadata": {
        "id": "ZaqVRx4AmSLn",
        "colab_type": "code",
        "colab": {}
      },
      "source": [
        ""
      ],
      "execution_count": 0,
      "outputs": []
    },
    {
      "cell_type": "markdown",
      "metadata": {
        "id": "dSYbi6kRmrLM",
        "colab_type": "text"
      },
      "source": [
        "## 2. Cross Validation Analysis"
      ]
    },
    {
      "cell_type": "code",
      "metadata": {
        "id": "WTqJmL_YnFIA",
        "colab_type": "code",
        "colab": {}
      },
      "source": [
        "def Cross_Validate(wd, lrt, transform=True, KFOLD=False, KFOLD_num=5):  \n",
        "  '''Wrapper function to choose to run either K-Fold Cross Validation or Single \n",
        "      Cross Validation.\n",
        "  '''\n",
        "  if KFOLD:\n",
        "    fold_train_loader, fold_validation_loader = kfold_datasets(KFOLD_num, X_train_orig, y_train_orig, False)\n",
        "    lloss, val_loss, val_acc = train_model_kfold(wd, lrt, fold_train_loader, fold_validation_loader)  \n",
        "  \n",
        "  else:\n",
        "    # Split into train and validation sets!\n",
        "    shuffler = StratifiedShuffleSplit(n_splits=1, test_size=0.1, random_state=42).split(X_train_orig, y_train_orig)\n",
        "    indices = [(t, v) for t, v in shuffler][0]\n",
        "    \n",
        "    X_train, y_train = X_train_orig[indices[0]].astype(float), y_train_orig[indices[0]]\n",
        "    X_val, y_val = X_train_orig[indices[1]].astype(float), y_train_orig[indices[1]]\n",
        "\n",
        "    X_train, y_train = torch.from_numpy(X_train).float(), torch.from_numpy(y_train)\n",
        "    X_val, y_val =  torch.from_numpy(X_val).float(), torch.from_numpy(y_val)\n",
        "\n",
        "    mean, std = torch.mean(X_train), torch.std(X_train)\n",
        "\n",
        "    # Assemble tensor datasets\n",
        "    train_ds = CustomImageTensorDataset(X_train, y_train.long(), transform=transform, mean=mean, std=std)\n",
        "    val_ds = CustomImageTensorDataset(X_val, y_val.long(), transform=False, mean=mean, std=std)\n",
        "\n",
        "    # Assemble dataloaders\n",
        "    train_loader = DataLoader(train_ds, batch_size=batch_size, shuffle=True, num_workers=4)\n",
        "    val_loader = DataLoader(val_ds, batch_size=test_batch_size, shuffle=False, num_workers=0)\n",
        "    \n",
        "    # CHANGE MODEL HERE:\n",
        "    model = AlexNet_Exp8().to(device)\n",
        "    lloss, val_loss, val_acc = train_model(wd, lrt, model, train_loader, val_loader)\n",
        "\n",
        "  return lloss, val_loss, val_acc"
      ],
      "execution_count": 0,
      "outputs": []
    },
    {
      "cell_type": "markdown",
      "metadata": {
        "id": "eb9gWIPnnlCW",
        "colab_type": "text"
      },
      "source": [
        "### Cross Validate the Model"
      ]
    },
    {
      "cell_type": "code",
      "metadata": {
        "id": "TnC8OBoanuvU",
        "colab_type": "code",
        "colab": {}
      },
      "source": [
        "# Initialise training parameters:\n",
        "seed = 42\n",
        "batch_size = 64\n",
        "test_batch_size = 1000\n",
        "n_epochs = 60"
      ],
      "execution_count": 0,
      "outputs": []
    },
    {
      "cell_type": "code",
      "metadata": {
        "id": "nmiv3rw6nryD",
        "colab_type": "code",
        "colab": {}
      },
      "source": [
        "# Run cross validation:\n",
        "lloss, val_loss, val_acc = Cross_Validate(0.0, 1e-4, transform=False)"
      ],
      "execution_count": 0,
      "outputs": []
    },
    {
      "cell_type": "markdown",
      "metadata": {
        "id": "47T54GxYn5La",
        "colab_type": "text"
      },
      "source": [
        "### Save Cross Validation Logs"
      ]
    },
    {
      "cell_type": "code",
      "metadata": {
        "id": "WtIg0iXCnzIR",
        "colab_type": "code",
        "colab": {}
      },
      "source": [
        "alexnet_exp8_logs = lloss.logs\n",
        "f = open(F\"/content/gdrive/My Drive/Colab Notebooks/Mini-Project/Model/AlexNet_exp8_logs.pkl\",\"wb\")\n",
        "pickle.dump(alexnet_exp8_logs,f)\n",
        "f.close()"
      ],
      "execution_count": 0,
      "outputs": []
    },
    {
      "cell_type": "markdown",
      "metadata": {
        "id": "MGyT7utqloZq",
        "colab_type": "text"
      },
      "source": [
        "## 3. Hyperparameter Tuning\n",
        "\n",
        "Hyper parameter searching has been turned off for now."
      ]
    },
    {
      "cell_type": "markdown",
      "metadata": {
        "id": "fg-oQq6v7rEk",
        "colab_type": "text"
      },
      "source": [
        "### Random Search"
      ]
    },
    {
      "cell_type": "code",
      "metadata": {
        "id": "YbQCwZ7Q0t6U",
        "colab_type": "code",
        "colab": {}
      },
      "source": [
        "def RandomSearch(iterations, train_loader, validate_loader):\n",
        "  max_acc = 0.0\n",
        "  opt_wd = 0.0\n",
        "  opt_lr = 0.0\n",
        "  \n",
        "  set_seed(seed)\n",
        "\n",
        "  for i in range(iterations):\n",
        "\n",
        "    # randomise our hyper parameters\n",
        "    weight_decay = 0.0\n",
        "    lr = 0.0 \n",
        "    \n",
        "    # Select from ranges of [1e-1 to 1e-4]\n",
        "    while np.isclose(weight_decay, 0.0):\n",
        "      power = int((random.random()*10)%5)+1\n",
        "      weight_decay = (5.*round(random.random()*10./5.) * (1./10.**power))\n",
        "\n",
        "    # Select from ranges of [1e-1 to 1e-4]\n",
        "    while np.isclose(lr, 0.0):\n",
        "      power = int((random.random()*10)%5)+1 \n",
        "      lr = 5.*round(random.random()*10./5.) * (1./10.**power)\n",
        "\n",
        "    print(\"Weight Decay: \", weight_decay)\n",
        "    print(\"Learn Rate: \", lr)\n",
        "    \n",
        "    # Change Model Here:\n",
        "    model = LeNet5()\n",
        "    lloss, val_loss, val_acc = train_model(weight_decay, lr, model, train_loader, validate_loader)\n",
        "\n",
        "    if val_acc > max_acc:\n",
        "      max_acc = val_acc\n",
        "      opt_wd = weight_decay\n",
        "      opt_lr = lr\n",
        "\n",
        "    return max_acc, [opt_wd, opt_lr]"
      ],
      "execution_count": 0,
      "outputs": []
    },
    {
      "cell_type": "markdown",
      "metadata": {
        "id": "d2bWXzcG7o8k",
        "colab_type": "text"
      },
      "source": [
        "### Grid Search"
      ]
    },
    {
      "cell_type": "code",
      "metadata": {
        "id": "uZICLtlo587C",
        "colab_type": "code",
        "colab": {}
      },
      "source": [
        "def ParamDomain(params, range3=True):\n",
        "  grid_search = []\n",
        "  \n",
        "  for param in params:\n",
        "    count = 0\n",
        "    number = 1/param\n",
        "    s = set(str(param))\n",
        "    isFive = s.issuperset(\"5\")\n",
        "\n",
        "    while (number > 0):\n",
        "      number = number//10\n",
        "      count = count + 1\n",
        "    if not isFive:\n",
        "      count = count - 1\n",
        "    num = (1.0/10.0**count)\n",
        "    \n",
        "    if range3:\n",
        "      param_domain = []\n",
        "      param_domain.append(param - num*1)\n",
        "      param_domain.append(param)\n",
        "      param_domain.append(param + num*1)\n",
        "    else:\n",
        "      param_domain = []\n",
        "      param_domain.append(param - num*2)\n",
        "      param_domain.append(param - num*1)\n",
        "      param_domain.append(param)\n",
        "      param_domain.append(param + num*1)\n",
        "      param_domain.append(param + num*2)\n",
        "    \n",
        "    grid_search.append(param_domain)\n",
        "    \n",
        "  return grid_search"
      ],
      "execution_count": 0,
      "outputs": []
    },
    {
      "cell_type": "code",
      "metadata": {
        "id": "yFzQVrhBcUPz",
        "colab_type": "code",
        "colab": {}
      },
      "source": [
        "def test_hyperpara(one_hyperpara, model, train_loader, validate_loader):\n",
        "  wd, lrt = one_hyperpara\n",
        "  lloss, loss, acc = train_model(wd, lrt, model, train_loader, validate_loader)\n",
        "  return lloss, loss, acc\n",
        "  \n",
        "def GridSearch(rand_params, train_loader, validate_loader, pseudo=True):\n",
        "  i = 0\n",
        "  lloss_list, loss_list, acc_list = [], [], []\n",
        "\n",
        "  if pseudo: # In grid search we may want to only find only the combinations that vary contiguously\n",
        "    grid = ParamDomain(params, False)\n",
        "    grid = np.array(grid)\n",
        "    grid = grid.transpose()\n",
        "    print(\"Total number of side by side searches: \", grid.shape[0])\n",
        "\n",
        "    for comb in grid:\n",
        "      # CHANGE MODELS HERE!\n",
        "      model = LeNet5()\n",
        "      wd = comb[0]\n",
        "      lrt = comb[1]\n",
        "      #mtm = comb[2]\n",
        "      \n",
        "      ll, l, a = train_model(wd, lrt, model, train_loader, validate_loader)\n",
        "      lloss_list.append(ll)\n",
        "      loss_list.append(l)\n",
        "      acc_list.append(a)\n",
        "      \n",
        "    lloss_list = np.array(lloss_list)\n",
        "    loss_list = np.array(loss_list)\n",
        "    acc_list = np.array(acc_list)\n",
        "\n",
        "    best_comb = np.argmax(acc_list)\n",
        "  \n",
        "  else:  \n",
        "    grid = ParamDomain(rand_params)\n",
        "    hyperpara_perm = list(itertools.product(*grid))\n",
        "    combinations = len(hyperpara_perm)\n",
        "    print(\"Total Number of Parameter Combinations that will be carried out: \", combinations)\n",
        "\n",
        "    for comb in range(combinations):\n",
        "      # CHANGE MODELS HERE!\n",
        "      model = LeNet5()\n",
        "      ll, l, a = test_hyperpara(hyperpara_perm[i++], model, train_loader, validate_loader)\n",
        "      lloss_list.append(ll)\n",
        "      loss_list.append(l)\n",
        "      acc_list.append(a)\n",
        "\n",
        "    lloss_list = np.array(lloss_list)\n",
        "    loss_list = np.array(loss_list)\n",
        "    acc_list = np.array(acc_list)\n",
        "\n",
        "    best_comb = np.argmax(acc_list)\n",
        "\n",
        "  if pseudo: print(\" - Pseudo Grid Search - \")\n",
        "  print(\"Best Accuracy Achieved: \", np.amax(acc_list))\n",
        "  print(\"The combination for the best params: \", best_comb)\n",
        "  \n",
        "  return best_comb, lloss_list, loss_list, acc_list"
      ],
      "execution_count": 0,
      "outputs": []
    },
    {
      "cell_type": "markdown",
      "metadata": {
        "id": "MLqQbdZDp0tF",
        "colab_type": "text"
      },
      "source": [
        "### Run Random-Grid Search"
      ]
    },
    {
      "cell_type": "code",
      "metadata": {
        "id": "fsTQxpjjSGuu",
        "colab_type": "code",
        "colab": {}
      },
      "source": [
        "# Setting Up Datasets:\n",
        "X_train_orig = np.load(F\"/content/gdrive/My Drive/Colab Notebooks/Mini-Project/acse-module-8-19/kmnist-train-imgs.npy\") /255\n",
        "y_train_orig = np.load(F\"/content/gdrive/My Drive/Colab Notebooks/Mini-Project/acse-module-8-19/kmnist-train-labels.npy\")\n",
        "X_test_orig = np.load(F\"/content/gdrive/My Drive/Colab Notebooks/Mini-Project/acse-module-8-19/kmnist-test-imgs.npy\") /255\n",
        "\n",
        "shuffler = StratifiedShuffleSplit(n_splits=1, test_size=0.1, random_state=42).split(X_train_orig, y_train_orig)\n",
        "indices = [(t, v) for t, v in shuffler][0]\n",
        "\n",
        "X_train, y_train = X_train_orig[indices[0]].astype(float), y_train_orig[indices[0]]\n",
        "X_val, y_val = X_train_orig[indices[1]].astype(float), y_train_orig[indices[1]]\n",
        "\n",
        "X_train, y_train = torch.from_numpy(X_train).float(), torch.from_numpy(y_train)\n",
        "X_val, y_val =  torch.from_numpy(X_val).float(), torch.from_numpy(y_val)\n",
        "\n",
        "mean, std = torch.mean(X_train), torch.std(X_train)\n",
        "\n",
        "# Assemble tensor datasets\n",
        "train_ds = CustomImageTensorDataset(X_train, y_train.long(), transform=True, mean=mean, std=std)\n",
        "val_ds = CustomImageTensorDataset(X_val, y_val.long(), transform=False, mean=mean, std=std)\n",
        "\n",
        "# Assemble dataloaders\n",
        "train_loader = DataLoader(train_ds, batch_size=batch_size, shuffle=True, num_workers=4)\n",
        "val_loader = DataLoader(val_ds, batch_size=test_batch_size, shuffle=False, num_workers=0)\n",
        "\n",
        "\n",
        "# Run Search:\n",
        "# Random Search\n",
        "iterations = 15\n",
        "#max_acc, rand_params = RandomSearch(iterations, train_loader, val_loader)\n",
        "# Grid Search\n",
        "#best_comb, llosss, losss, accs = GridSearch(rand_params, train_loader, validate_loader, pseudo=True)"
      ],
      "execution_count": 0,
      "outputs": []
    },
    {
      "cell_type": "markdown",
      "metadata": {
        "id": "VCvH4HlUe6hm",
        "colab_type": "text"
      },
      "source": [
        "## 4. Final Full Training\n",
        "\n",
        "Here we train the model onto the full training set and use the given test dataset for the Kaggle competition."
      ]
    },
    {
      "cell_type": "markdown",
      "metadata": {
        "id": "LcGh6JpptkPt",
        "colab_type": "text"
      },
      "source": [
        "### Full Datasets"
      ]
    },
    {
      "cell_type": "code",
      "metadata": {
        "id": "fUf9wyjQdR-4",
        "colab_type": "code",
        "colab": {}
      },
      "source": [
        "# Create Full Datasets\n",
        "X_train, y_train = X_train_orig.astype(float), y_train_orig\n",
        "X_test = X_test_orig.astype(float)\n",
        "\n",
        "# Dummy Test Labels\n",
        "y_test = torch.from_numpy(np.array(range(X_test.shape[0]))).float() \n",
        "\n",
        "X_train, y_train = torch.from_numpy(X_train).float(), torch.from_numpy(y_train)\n",
        "X_test, y_test = torch.from_numpy(X_test).float(), torch.from_numpy(y_test)\n",
        "\n",
        "mean, std = torch.mean(X_train), torch.std(X_train)\n",
        "\n",
        "train_ds = CustomImageTensorDataset(X_train, y_train.long(), transform=True, mean=mean, std=std)\n",
        "test_ds = CustomImageTensorDataset(X_test, y_test.long(), transform=False, mean=mean, std=std)\n",
        "\n",
        "train_loader = DataLoader(train_ds, batch_size=batch_size, shuffle=True, num_workers=4)\n",
        "test_loader = DataLoader(test_ds, batch_size=test_batch_size, shuffle=False, num_workers=0)"
      ],
      "execution_count": 0,
      "outputs": []
    },
    {
      "cell_type": "markdown",
      "metadata": {
        "id": "T0kDy5eRtoOM",
        "colab_type": "text"
      },
      "source": [
        "### Train Model"
      ]
    },
    {
      "cell_type": "code",
      "metadata": {
        "id": "WmAh5HeXteoo",
        "colab_type": "code",
        "colab": {}
      },
      "source": [
        "# Change model here:\n",
        "model = AlexNet_Exp24().to(device)\n",
        "\n",
        "# Train Model:\n",
        "set_seed(seed)\n",
        "optimizer = torch.optim.Adam(model.parameters(), lr=1e-4, betas=(0.9, 0.999), eps=1e-08, weight_decay=0.0, amsgrad=False)\n",
        "criterion = nn.CrossEntropyLoss()\n",
        "\n",
        "liveloss = PlotLosses()\n",
        "for epoch in range(n_epochs):\n",
        "    logs = {}\n",
        "    train_loss, train_accuracy = train(model, optimizer, criterion, train_loader)\n",
        "\n",
        "    logs['' + 'log loss'] = train_loss.item()\n",
        "    logs['' + 'accuracy'] = train_accuracy.item()\n",
        "\n",
        "    logs['val_' + 'log loss'] = 0.\n",
        "    logs['val_' + 'accuracy'] = 0.\n",
        "    \n",
        "    liveloss.update(logs)\n",
        "    liveloss.draw()"
      ],
      "execution_count": 0,
      "outputs": []
    },
    {
      "cell_type": "markdown",
      "metadata": {
        "id": "GKWQs_-5tqhd",
        "colab_type": "text"
      },
      "source": [
        "### Evaluate Model"
      ]
    },
    {
      "cell_type": "code",
      "metadata": {
        "id": "90LE_S1TsJ-D",
        "colab_type": "code",
        "colab": {}
      },
      "source": [
        "# Evaluate the model\n",
        "y_predictions, _ = evaluate(model, test_loader_full)\n",
        "\n",
        "idx = np.array(_)\n",
        "pred = np.array(y_predictions)\n",
        "\n",
        "submit = np.vstack((idx, pred))\n",
        "submit = submit.transpose()"
      ],
      "execution_count": 0,
      "outputs": []
    },
    {
      "cell_type": "markdown",
      "metadata": {
        "id": "7VvUj4Z3tsr_",
        "colab_type": "text"
      },
      "source": [
        "### Save Submissions"
      ]
    },
    {
      "cell_type": "code",
      "metadata": {
        "id": "l_HFz2lv3vZQ",
        "colab_type": "code",
        "colab": {}
      },
      "source": [
        "# Save the model\n",
        "model_save_name = \".pt\"\n",
        "path = F\"/content/gdrive/My Drive/Colab Notebooks/Mini-Project/Model/{model_save_name}\" \n",
        "torch.save(model.state_dict(), path)\n",
        "\n",
        "# Save the submission\n",
        "output_save_name = \".txt\"\n",
        "path_out = F\"/content/gdrive/My Drive/Colab Notebooks/Mini-Project/{output_save_name}\"\n",
        "np.savetxt(path_out, submit, delimiter=\",\", fmt='%d', header=\"Id,Category\", comments='')"
      ],
      "execution_count": 0,
      "outputs": []
    }
  ]
}